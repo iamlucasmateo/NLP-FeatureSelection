{
 "cells": [
  {
   "cell_type": "markdown",
   "metadata": {},
   "source": [
    "# Natural Language Processing: Feature and Model Selection "
   ]
  },
  {
   "cell_type": "code",
   "execution_count": 1,
   "metadata": {},
   "outputs": [],
   "source": [
    "import numpy as np\n",
    "import pandas as pd\n",
    "import matplotlib.pyplot as plt"
   ]
  },
  {
   "cell_type": "markdown",
   "metadata": {},
   "source": [
    "## Generating text corpus"
   ]
  },
  {
   "cell_type": "markdown",
   "metadata": {},
   "source": [
    "We will generate three types of words: noise, classA and classB. Each type will have a probability distribution. Each word in each type will also have a probability distribution. We will start with 50 words of each type. \n",
    "\n",
    "Let's start out trying a few ideas. To begin with, this function creates \"random words\" with a (slightly modified) normal distribution."
   ]
  },
  {
   "cell_type": "code",
   "execution_count": 2,
   "metadata": {},
   "outputs": [],
   "source": [
    "# random word generator\n",
    "def random_normal_word(mean,std,name):\n",
    "    number = np.random.normal(mean,std)\n",
    "    number = np.abs(number).astype('int64')\n",
    "    word = name + str(number)\n",
    "    return word"
   ]
  },
  {
   "cell_type": "code",
   "execution_count": 3,
   "metadata": {},
   "outputs": [
    {
     "data": {
      "text/plain": [
       "'noise3568'"
      ]
     },
     "execution_count": 3,
     "metadata": {},
     "output_type": "execute_result"
    }
   ],
   "source": [
    "# example\n",
    "random_normal_word(4000,1000,'noise')"
   ]
  },
  {
   "cell_type": "code",
   "execution_count": 4,
   "metadata": {},
   "outputs": [],
   "source": [
    "# function to return index of random variable\n",
    "# based on probability\n",
    "def proba_to_index(proba,proba_list):\n",
    "    index = 0\n",
    "    cum_proba = np.cumsum(proba_list)\n",
    "    for i in range(len(cum_proba)):\n",
    "        if proba < cum_proba[i]:\n",
    "            index = i\n",
    "            break\n",
    "    return index"
   ]
  },
  {
   "cell_type": "code",
   "execution_count": 5,
   "metadata": {},
   "outputs": [],
   "source": [
    "def generate_text(percents,min_len,max_len):\n",
    "    '''\n",
    "    percents is a list with the percentage of each type in the text.\n",
    "    percents[0] => 'classA'\n",
    "    percents[1] => 'classB'\n",
    "    percents[2] => 'noise'\n",
    "    '''\n",
    "    classes = ['classA','classB','noise']\n",
    "    length = np.random.randint(min_len,max_len)\n",
    "    text = ''\n",
    "    for i in range(length):\n",
    "        class_proba = np.random.random()\n",
    "        index = proba_to_index(class_proba,percents)\n",
    "        name = classes[index]\n",
    "        word = random_normal_word(4000,1000,name)\n",
    "        text += word + ' '\n",
    "    return text"
   ]
  },
  {
   "cell_type": "code",
   "execution_count": 6,
   "metadata": {},
   "outputs": [
    {
     "data": {
      "text/plain": [
       "'noise5364 noise5128 classB3520 noise993 noise3057 classA3590 classA3098 noise5258 classA4310 noise4245 classA4859 noise2780 noise3158 classB3587 classA5632 noise5637 noise4899 classA4865 noise5390 noise3495 noise3016 classA7349 classA4595 noise3203 classB5748 noise4154 classB2234 noise4518 classA3846 noise3776 noise5055 noise1901 noise3893 classB4819 noise2961 noise4650 noise4505 noise2295 noise3923 classA4122 noise880 noise2943 classA2425 noise6376 noise4656 noise3408 noise4217 noise4443 noise5'"
      ]
     },
     "execution_count": 6,
     "metadata": {},
     "output_type": "execute_result"
    }
   ],
   "source": [
    "example = generate_text([0.3,0.1,0.6],500,1000)\n",
    "example[0:500]"
   ]
  },
  {
   "cell_type": "code",
   "execution_count": 7,
   "metadata": {},
   "outputs": [
    {
     "name": "stdout",
     "output_type": "stream",
     "text": [
      "Total words\n",
      "Noise: 568\n",
      "Class A: 288\n",
      "Class B: 93\n"
     ]
    }
   ],
   "source": [
    "# sanity check\n",
    "count_noise,count_A, count_B = 0,0,0\n",
    "for word in example.split():\n",
    "    if word.startswith('noise'):\n",
    "        count_noise += 1\n",
    "    elif word.startswith('classA'):\n",
    "        count_A += 1\n",
    "    else:\n",
    "        count_B += 1\n",
    "print(f'Total words\\nNoise: {count_noise}\\nClass A: {count_A}\\nClass B: {count_B}')"
   ]
  },
  {
   "cell_type": "markdown",
   "metadata": {},
   "source": [
    "We are ready to generate our corpus. We will construct 1000 samples of between 500 and 1000 words each."
   ]
  },
  {
   "cell_type": "code",
   "execution_count": 8,
   "metadata": {},
   "outputs": [
    {
     "data": {
      "text/plain": [
       "2000"
      ]
     },
     "execution_count": 8,
     "metadata": {},
     "output_type": "execute_result"
    }
   ],
   "source": [
    "# Let's say classes are split 60/40\n",
    "random_list = np.random.random(2000)\n",
    "target_list = []\n",
    "for r in random_list:\n",
    "    if r < 0.6:\n",
    "        target_list.append(1)\n",
    "    else:\n",
    "        target_list.append(0)\n",
    "\n",
    "len(target_list)"
   ]
  },
  {
   "cell_type": "code",
   "execution_count": 9,
   "metadata": {},
   "outputs": [
    {
     "data": {
      "text/html": [
       "<div>\n",
       "<style scoped>\n",
       "    .dataframe tbody tr th:only-of-type {\n",
       "        vertical-align: middle;\n",
       "    }\n",
       "\n",
       "    .dataframe tbody tr th {\n",
       "        vertical-align: top;\n",
       "    }\n",
       "\n",
       "    .dataframe thead th {\n",
       "        text-align: right;\n",
       "    }\n",
       "</style>\n",
       "<table border=\"1\" class=\"dataframe\">\n",
       "  <thead>\n",
       "    <tr style=\"text-align: right;\">\n",
       "      <th></th>\n",
       "      <th>target</th>\n",
       "    </tr>\n",
       "  </thead>\n",
       "  <tbody>\n",
       "    <tr>\n",
       "      <td>0</td>\n",
       "      <td>0</td>\n",
       "    </tr>\n",
       "    <tr>\n",
       "      <td>1</td>\n",
       "      <td>0</td>\n",
       "    </tr>\n",
       "    <tr>\n",
       "      <td>2</td>\n",
       "      <td>0</td>\n",
       "    </tr>\n",
       "    <tr>\n",
       "      <td>3</td>\n",
       "      <td>1</td>\n",
       "    </tr>\n",
       "    <tr>\n",
       "      <td>4</td>\n",
       "      <td>1</td>\n",
       "    </tr>\n",
       "  </tbody>\n",
       "</table>\n",
       "</div>"
      ],
      "text/plain": [
       "   target\n",
       "0       0\n",
       "1       0\n",
       "2       0\n",
       "3       1\n",
       "4       1"
      ]
     },
     "execution_count": 9,
     "metadata": {},
     "output_type": "execute_result"
    }
   ],
   "source": [
    "df = pd.DataFrame()\n",
    "df['target'] = target_list\n",
    "df.head()"
   ]
  },
  {
   "cell_type": "code",
   "execution_count": 10,
   "metadata": {},
   "outputs": [],
   "source": [
    "# create text for each instance\n",
    "# class A = 0, class B = 1\n",
    "df['text'] = ''\n",
    "df['text'].astype('object')\n",
    "for i in df.index:\n",
    "    if df.at[i,'target'] == 1:\n",
    "        text = generate_text([0.1,0.3,0.6],500,1000)\n",
    "        df.at[i,'text'] = text\n",
    "    else:\n",
    "        text = generate_text([0.3,0.1,0.6],500,1000)\n",
    "        df.at[i,'text'] = text"
   ]
  },
  {
   "cell_type": "code",
   "execution_count": 11,
   "metadata": {},
   "outputs": [
    {
     "data": {
      "text/html": [
       "<div>\n",
       "<style scoped>\n",
       "    .dataframe tbody tr th:only-of-type {\n",
       "        vertical-align: middle;\n",
       "    }\n",
       "\n",
       "    .dataframe tbody tr th {\n",
       "        vertical-align: top;\n",
       "    }\n",
       "\n",
       "    .dataframe thead th {\n",
       "        text-align: right;\n",
       "    }\n",
       "</style>\n",
       "<table border=\"1\" class=\"dataframe\">\n",
       "  <thead>\n",
       "    <tr style=\"text-align: right;\">\n",
       "      <th></th>\n",
       "      <th>target</th>\n",
       "      <th>text</th>\n",
       "    </tr>\n",
       "  </thead>\n",
       "  <tbody>\n",
       "    <tr>\n",
       "      <td>0</td>\n",
       "      <td>0</td>\n",
       "      <td>noise4846 noise2988 classA4337 noise2720 noise...</td>\n",
       "    </tr>\n",
       "    <tr>\n",
       "      <td>1</td>\n",
       "      <td>0</td>\n",
       "      <td>noise3385 noise2478 noise4008 noise5023 noise3...</td>\n",
       "    </tr>\n",
       "    <tr>\n",
       "      <td>2</td>\n",
       "      <td>0</td>\n",
       "      <td>classB1868 classB5729 noise3252 classB4127 noi...</td>\n",
       "    </tr>\n",
       "    <tr>\n",
       "      <td>3</td>\n",
       "      <td>1</td>\n",
       "      <td>noise3191 classA3144 noise5437 noise3545 class...</td>\n",
       "    </tr>\n",
       "    <tr>\n",
       "      <td>4</td>\n",
       "      <td>1</td>\n",
       "      <td>classB2565 noise5036 noise6097 noise2380 noise...</td>\n",
       "    </tr>\n",
       "  </tbody>\n",
       "</table>\n",
       "</div>"
      ],
      "text/plain": [
       "   target                                               text\n",
       "0       0  noise4846 noise2988 classA4337 noise2720 noise...\n",
       "1       0  noise3385 noise2478 noise4008 noise5023 noise3...\n",
       "2       0  classB1868 classB5729 noise3252 classB4127 noi...\n",
       "3       1  noise3191 classA3144 noise5437 noise3545 class...\n",
       "4       1  classB2565 noise5036 noise6097 noise2380 noise..."
      ]
     },
     "execution_count": 11,
     "metadata": {},
     "output_type": "execute_result"
    }
   ],
   "source": [
    "df.head()"
   ]
  },
  {
   "cell_type": "code",
   "execution_count": 12,
   "metadata": {},
   "outputs": [
    {
     "data": {
      "text/plain": [
       "0.3985"
      ]
     },
     "execution_count": 12,
     "metadata": {},
     "output_type": "execute_result"
    }
   ],
   "source": [
    "# class A instances\n",
    "dfA = df[df.target == 0]\n",
    "# proportion\n",
    "dfA.shape[0] / df.shape[0]"
   ]
  },
  {
   "cell_type": "code",
   "execution_count": 13,
   "metadata": {},
   "outputs": [
    {
     "name": "stdout",
     "output_type": "stream",
     "text": [
      "Proporcion: 0.299242990933844\n"
     ]
    }
   ],
   "source": [
    "# sanity check: class A percentage of words\n",
    "# in class A instances\n",
    "count_total = 0\n",
    "count_A = 0\n",
    "for i in dfA.index:\n",
    "    text = dfA.at[i,'text']\n",
    "    count_total += len(text.split())\n",
    "    for w in text.split():\n",
    "        if w.startswith('classA'):\n",
    "            count_A += 1\n",
    "print(f'Proporcion: {count_A / count_total}')"
   ]
  },
  {
   "cell_type": "markdown",
   "metadata": {},
   "source": [
    "## Tf-idf demonstration"
   ]
  },
  {
   "cell_type": "code",
   "execution_count": 14,
   "metadata": {},
   "outputs": [
    {
     "data": {
      "text/html": [
       "<div>\n",
       "<style scoped>\n",
       "    .dataframe tbody tr th:only-of-type {\n",
       "        vertical-align: middle;\n",
       "    }\n",
       "\n",
       "    .dataframe tbody tr th {\n",
       "        vertical-align: top;\n",
       "    }\n",
       "\n",
       "    .dataframe thead th {\n",
       "        text-align: right;\n",
       "    }\n",
       "</style>\n",
       "<table border=\"1\" class=\"dataframe\">\n",
       "  <thead>\n",
       "    <tr style=\"text-align: right;\">\n",
       "      <th></th>\n",
       "      <th>target</th>\n",
       "    </tr>\n",
       "  </thead>\n",
       "  <tbody>\n",
       "    <tr>\n",
       "      <td>0</td>\n",
       "      <td>0</td>\n",
       "    </tr>\n",
       "    <tr>\n",
       "      <td>1</td>\n",
       "      <td>0</td>\n",
       "    </tr>\n",
       "    <tr>\n",
       "      <td>2</td>\n",
       "      <td>0</td>\n",
       "    </tr>\n",
       "    <tr>\n",
       "      <td>3</td>\n",
       "      <td>1</td>\n",
       "    </tr>\n",
       "    <tr>\n",
       "      <td>4</td>\n",
       "      <td>1</td>\n",
       "    </tr>\n",
       "    <tr>\n",
       "      <td>5</td>\n",
       "      <td>0</td>\n",
       "    </tr>\n",
       "  </tbody>\n",
       "</table>\n",
       "</div>"
      ],
      "text/plain": [
       "   target\n",
       "0       0\n",
       "1       0\n",
       "2       0\n",
       "3       1\n",
       "4       1\n",
       "5       0"
      ]
     },
     "execution_count": 14,
     "metadata": {},
     "output_type": "execute_result"
    }
   ],
   "source": [
    "# df creation\n",
    "df_trial = pd.DataFrame()\n",
    "df_trial['target'] = [0,0,0,1,1,0]\n",
    "df_trial"
   ]
  },
  {
   "cell_type": "code",
   "execution_count": 15,
   "metadata": {},
   "outputs": [
    {
     "data": {
      "text/html": [
       "<div>\n",
       "<style scoped>\n",
       "    .dataframe tbody tr th:only-of-type {\n",
       "        vertical-align: middle;\n",
       "    }\n",
       "\n",
       "    .dataframe tbody tr th {\n",
       "        vertical-align: top;\n",
       "    }\n",
       "\n",
       "    .dataframe thead th {\n",
       "        text-align: right;\n",
       "    }\n",
       "</style>\n",
       "<table border=\"1\" class=\"dataframe\">\n",
       "  <thead>\n",
       "    <tr style=\"text-align: right;\">\n",
       "      <th></th>\n",
       "      <th>target</th>\n",
       "      <th>text</th>\n",
       "    </tr>\n",
       "  </thead>\n",
       "  <tbody>\n",
       "    <tr>\n",
       "      <td>0</td>\n",
       "      <td>0</td>\n",
       "      <td>a1 a1 b1 a1 c1 z1</td>\n",
       "    </tr>\n",
       "    <tr>\n",
       "      <td>1</td>\n",
       "      <td>0</td>\n",
       "      <td>b1 a1 b1 b1 c1 c1</td>\n",
       "    </tr>\n",
       "    <tr>\n",
       "      <td>2</td>\n",
       "      <td>0</td>\n",
       "      <td>b1 a1 b1 a1 c1 c1</td>\n",
       "    </tr>\n",
       "    <tr>\n",
       "      <td>3</td>\n",
       "      <td>1</td>\n",
       "      <td>b1 a1 x1 z1</td>\n",
       "    </tr>\n",
       "    <tr>\n",
       "      <td>4</td>\n",
       "      <td>1</td>\n",
       "      <td>a1</td>\n",
       "    </tr>\n",
       "    <tr>\n",
       "      <td>5</td>\n",
       "      <td>0</td>\n",
       "      <td>a1 z1</td>\n",
       "    </tr>\n",
       "  </tbody>\n",
       "</table>\n",
       "</div>"
      ],
      "text/plain": [
       "   target               text\n",
       "0       0  a1 a1 b1 a1 c1 z1\n",
       "1       0  b1 a1 b1 b1 c1 c1\n",
       "2       0  b1 a1 b1 a1 c1 c1\n",
       "3       1        b1 a1 x1 z1\n",
       "4       1                 a1\n",
       "5       0              a1 z1"
      ]
     },
     "execution_count": 15,
     "metadata": {},
     "output_type": "execute_result"
    }
   ],
   "source": [
    "# adding text column with made up words\n",
    "df_trial.at[0,'text'] = 'a1 a1 b1 a1 c1 z1'\n",
    "df_trial.at[1,'text'] = 'b1 a1 b1 b1 c1 c1'\n",
    "df_trial.at[2,'text'] = 'b1 a1 b1 a1 c1 c1'\n",
    "df_trial.at[3,'text'] = 'b1 a1 x1 z1'\n",
    "df_trial.at[4,'text'] = 'a1'\n",
    "df_trial.at[5,'text'] = 'a1 z1'\n",
    "df_trial"
   ]
  },
  {
   "cell_type": "markdown",
   "metadata": {},
   "source": [
    "### Sci-kit learn"
   ]
  },
  {
   "cell_type": "code",
   "execution_count": 16,
   "metadata": {},
   "outputs": [],
   "source": [
    "from sklearn.feature_extraction.text import TfidfVectorizer\n",
    "vectorizer = TfidfVectorizer(lowercase=True)\n",
    "fit_vectorizer = vectorizer.fit(df_trial.text)\n",
    "tfidf_trial = fit_vectorizer.transform(df_trial.text)"
   ]
  },
  {
   "cell_type": "code",
   "execution_count": 17,
   "metadata": {},
   "outputs": [
    {
     "data": {
      "text/plain": [
       "(6, 5)"
      ]
     },
     "execution_count": 17,
     "metadata": {},
     "output_type": "execute_result"
    }
   ],
   "source": [
    "tfidf_trial.shape"
   ]
  },
  {
   "cell_type": "code",
   "execution_count": 18,
   "metadata": {},
   "outputs": [
    {
     "data": {
      "text/plain": [
       "['a1', 'b1', 'c1', 'x1', 'z1']"
      ]
     },
     "execution_count": 18,
     "metadata": {},
     "output_type": "execute_result"
    }
   ],
   "source": [
    "# list of words in corpus\n",
    "fit_vectorizer.get_feature_names()"
   ]
  },
  {
   "cell_type": "code",
   "execution_count": 19,
   "metadata": {},
   "outputs": [
    {
     "data": {
      "text/plain": [
       "{'a1': 0, 'b1': 1, 'c1': 2, 'z1': 4, 'x1': 3}"
      ]
     },
     "execution_count": 19,
     "metadata": {},
     "output_type": "execute_result"
    }
   ],
   "source": [
    "# dictionary matching word to matrix column\n",
    "fit_vectorizer.vocabulary_"
   ]
  },
  {
   "cell_type": "code",
   "execution_count": 20,
   "metadata": {},
   "outputs": [
    {
     "data": {
      "text/plain": [
       "matrix([[0.75831693, 0.33782317, 0.39422769, 0.        , 0.39422769],\n",
       "        [0.19314873, 0.77441376, 0.60247563, 0.        , 0.        ],\n",
       "        [0.43774852, 0.58503874, 0.6827195 , 0.        , 0.        ],\n",
       "        [0.31168683, 0.4165608 , 0.        , 0.70215656, 0.48611171],\n",
       "        [1.        , 0.        , 0.        , 0.        , 0.        ],\n",
       "        [0.53976033, 0.        , 0.        , 0.        , 0.84181874]])"
      ]
     },
     "execution_count": 20,
     "metadata": {},
     "output_type": "execute_result"
    }
   ],
   "source": [
    "# dense matrix representation\n",
    "tfidf_trial.todense()"
   ]
  },
  {
   "cell_type": "code",
   "execution_count": 21,
   "metadata": {},
   "outputs": [
    {
     "data": {
      "text/plain": [
       "array([[0.75831693, 0.33782317, 0.39422769, 0.        , 0.39422769],\n",
       "       [0.19314873, 0.77441376, 0.60247563, 0.        , 0.        ],\n",
       "       [0.43774852, 0.58503874, 0.6827195 , 0.        , 0.        ],\n",
       "       [0.31168683, 0.4165608 , 0.        , 0.70215656, 0.48611171],\n",
       "       [1.        , 0.        , 0.        , 0.        , 0.        ],\n",
       "       [0.53976033, 0.        , 0.        , 0.        , 0.84181874]])"
      ]
     },
     "execution_count": 21,
     "metadata": {},
     "output_type": "execute_result"
    }
   ],
   "source": [
    "# array representation\n",
    "trial_arr = tfidf_trial.toarray()\n",
    "trial_arr"
   ]
  },
  {
   "cell_type": "code",
   "execution_count": 22,
   "metadata": {},
   "outputs": [
    {
     "data": {
      "text/plain": [
       "array([3.24066135, 2.11383648, 1.67942281, 0.70215656, 1.72215813])"
      ]
     },
     "execution_count": 22,
     "metadata": {},
     "output_type": "execute_result"
    }
   ],
   "source": [
    "# apply function to each column\n",
    "np.apply_along_axis(np.sum,0,trial_arr)"
   ]
  },
  {
   "cell_type": "markdown",
   "metadata": {},
   "source": [
    "The above function gives us the sum of tf-idf values for each column. We will use it later for mean tf-idf."
   ]
  },
  {
   "cell_type": "code",
   "execution_count": 23,
   "metadata": {},
   "outputs": [
    {
     "name": "stdout",
     "output_type": "stream",
     "text": [
      "  (0, 4)\t0.39422768553293636\n",
      "  (0, 2)\t0.39422768553293636\n",
      "  (0, 1)\t0.3378231745907559\n",
      "  (0, 0)\t0.7583169302001058\n",
      "  (1, 2)\t0.6024756322681024\n",
      "  (1, 1)\t0.7744137645910423\n",
      "  (1, 0)\t0.19314873474884586\n",
      "  (2, 2)\t0.6827194968035845\n",
      "  (2, 1)\t0.5850387383458417\n",
      "  (2, 0)\t0.4377485160671207\n",
      "  (3, 4)\t0.4861117058129096\n",
      "  (3, 3)\t0.70215655540208\n",
      "  (3, 1)\t0.4165607989744412\n",
      "  (3, 0)\t0.3116868331118981\n",
      "  (4, 0)\t1.0\n",
      "  (5, 4)\t0.8418187357325301\n",
      "  (5, 0)\t0.5397603321564903\n"
     ]
    }
   ],
   "source": [
    "# sparse representation\n",
    "print(tfidf_trial)"
   ]
  },
  {
   "cell_type": "code",
   "execution_count": 24,
   "metadata": {},
   "outputs": [
    {
     "data": {
      "text/plain": [
       "[1, 4]"
      ]
     },
     "execution_count": 24,
     "metadata": {},
     "output_type": "execute_result"
    }
   ],
   "source": [
    "# choose specific word columns\n",
    "# say I want to choose columns for 'b1' and 'z1'\n",
    "words = ['b1','z1']\n",
    "columns = []\n",
    "for w in words:\n",
    "    column = fit_vectorizer.vocabulary_[w]\n",
    "    columns.append(column)\n",
    "columns"
   ]
  },
  {
   "cell_type": "code",
   "execution_count": 25,
   "metadata": {},
   "outputs": [
    {
     "data": {
      "text/plain": [
       "array([[0.33782317, 0.39422769],\n",
       "       [0.77441376, 0.        ],\n",
       "       [0.58503874, 0.        ],\n",
       "       [0.4165608 , 0.48611171],\n",
       "       [0.        , 0.        ],\n",
       "       [0.        , 0.84181874]])"
      ]
     },
     "execution_count": 25,
     "metadata": {},
     "output_type": "execute_result"
    }
   ],
   "source": [
    "filt_arr = trial_arr[:,columns]\n",
    "filt_arr"
   ]
  },
  {
   "cell_type": "markdown",
   "metadata": {},
   "source": [
    "Notice that there are methods that belong to <b>the vectorizer</b> (vocabulary,get_feature_names()) and there are methods that belong to <b>the matrix</b> (todense(),toarray()). "
   ]
  },
  {
   "cell_type": "markdown",
   "metadata": {},
   "source": [
    "## Word Frequency in our corpus"
   ]
  },
  {
   "cell_type": "code",
   "execution_count": 26,
   "metadata": {},
   "outputs": [
    {
     "name": "stdout",
     "output_type": "stream",
     "text": [
      "Total words: 1510633\n",
      "Sum of words OK\n"
     ]
    }
   ],
   "source": [
    "bag = []\n",
    "bag_neg = []\n",
    "bag_pos = []\n",
    "for i in df.index:\n",
    "    word_list = df.text[i].split()\n",
    "    bag.extend(word_list)\n",
    "    if df.target[i] == 1:\n",
    "        bag_pos.extend(word_list)\n",
    "    else:\n",
    "        bag_neg.extend(word_list)\n",
    "print(f'Total words: {len(bag)}')\n",
    "if len(bag) - len(bag_pos) - len(bag_neg) == 0:\n",
    "    print('Sum of words OK')\n",
    "else:\n",
    "    print('Please check')"
   ]
  },
  {
   "cell_type": "code",
   "execution_count": 27,
   "metadata": {},
   "outputs": [
    {
     "data": {
      "text/html": [
       "<div>\n",
       "<style scoped>\n",
       "    .dataframe tbody tr th:only-of-type {\n",
       "        vertical-align: middle;\n",
       "    }\n",
       "\n",
       "    .dataframe tbody tr th {\n",
       "        vertical-align: top;\n",
       "    }\n",
       "\n",
       "    .dataframe thead th {\n",
       "        text-align: right;\n",
       "    }\n",
       "</style>\n",
       "<table border=\"1\" class=\"dataframe\">\n",
       "  <thead>\n",
       "    <tr style=\"text-align: right;\">\n",
       "      <th></th>\n",
       "      <th>Word</th>\n",
       "      <th>TotFreq</th>\n",
       "    </tr>\n",
       "  </thead>\n",
       "  <tbody>\n",
       "    <tr>\n",
       "      <td>0</td>\n",
       "      <td>noise4846</td>\n",
       "      <td>274</td>\n",
       "    </tr>\n",
       "    <tr>\n",
       "      <td>1</td>\n",
       "      <td>noise2988</td>\n",
       "      <td>234</td>\n",
       "    </tr>\n",
       "    <tr>\n",
       "      <td>2</td>\n",
       "      <td>classA4337</td>\n",
       "      <td>112</td>\n",
       "    </tr>\n",
       "    <tr>\n",
       "      <td>3</td>\n",
       "      <td>noise2720</td>\n",
       "      <td>159</td>\n",
       "    </tr>\n",
       "    <tr>\n",
       "      <td>4</td>\n",
       "      <td>noise3676</td>\n",
       "      <td>333</td>\n",
       "    </tr>\n",
       "  </tbody>\n",
       "</table>\n",
       "</div>"
      ],
      "text/plain": [
       "         Word  TotFreq\n",
       "0   noise4846      274\n",
       "1   noise2988      234\n",
       "2  classA4337      112\n",
       "3   noise2720      159\n",
       "4   noise3676      333"
      ]
     },
     "execution_count": 27,
     "metadata": {},
     "output_type": "execute_result"
    }
   ],
   "source": [
    "import nltk\n",
    "freq_bag = nltk.FreqDist(bag)\n",
    "freq_df = pd.DataFrame(list(freq_bag.items()), columns = [\"Word\",\"TotFreq\"])\n",
    "freq_df.head()"
   ]
  },
  {
   "cell_type": "code",
   "execution_count": 28,
   "metadata": {},
   "outputs": [
    {
     "name": "stdout",
     "output_type": "stream",
     "text": [
      "Total words: 20141\n"
     ]
    }
   ],
   "source": [
    "print(f'Total words: {freq_df.shape[0]}')"
   ]
  },
  {
   "cell_type": "markdown",
   "metadata": {},
   "source": [
    "## Tf-idf vectorization in our corpus"
   ]
  },
  {
   "cell_type": "code",
   "execution_count": 29,
   "metadata": {},
   "outputs": [],
   "source": [
    "from sklearn.feature_extraction.text import TfidfVectorizer\n",
    "vectorizer = TfidfVectorizer(lowercase=False)\n",
    "fit_df_vectorizer = vectorizer.fit(df.text)\n",
    "tfidf_df = fit_df_vectorizer.transform(df.text)"
   ]
  },
  {
   "cell_type": "code",
   "execution_count": 30,
   "metadata": {},
   "outputs": [],
   "source": [
    "# vectorizer for each class\n",
    "A_vectorizer = TfidfVectorizer(lowercase=False)\n",
    "fit_A_vectorizer = A_vectorizer.fit(df.text)\n",
    "df_A = df[df.target == 0]\n",
    "tfidf_A = fit_A_vectorizer.transform(df_A.text)\n",
    "\n",
    "B_vectorizer = TfidfVectorizer(lowercase=False)\n",
    "fit_B_vectorizer = B_vectorizer.fit(df.text)\n",
    "df_B = df[df.target == 1]\n",
    "tfidf_B = fit_B_vectorizer.transform(df_B.text)"
   ]
  },
  {
   "cell_type": "code",
   "execution_count": 31,
   "metadata": {},
   "outputs": [],
   "source": [
    "# create array of tf-idf mean value \n",
    "# for each df and for each word\n",
    "total_means = np.apply_along_axis(np.mean,0,\n",
    "                                  tfidf_df.toarray())\n",
    "A_means = np.apply_along_axis(np.mean,0,\n",
    "                                  tfidf_A.toarray())\n",
    "B_means = np.apply_along_axis(np.mean,0,\n",
    "                                  tfidf_B.toarray())"
   ]
  },
  {
   "cell_type": "code",
   "execution_count": 32,
   "metadata": {},
   "outputs": [
    {
     "data": {
      "text/plain": [
       "array([8.16000251e-05, 2.36049994e-04, 0.00000000e+00, 1.71443093e-04,\n",
       "       8.23748181e-05, 1.04700527e-04, 0.00000000e+00, 1.67159103e-04,\n",
       "       9.40573780e-05, 9.76020702e-05])"
      ]
     },
     "execution_count": 32,
     "metadata": {},
     "output_type": "execute_result"
    }
   ],
   "source": [
    "A_means[0:10]"
   ]
  },
  {
   "cell_type": "code",
   "execution_count": 33,
   "metadata": {},
   "outputs": [
    {
     "data": {
      "text/plain": [
       "array([1.61773290e-04, 0.00000000e+00, 5.24817646e-05, 4.82026654e-05,\n",
       "       0.00000000e+00, 0.00000000e+00, 5.40796997e-05, 0.00000000e+00,\n",
       "       0.00000000e+00, 0.00000000e+00])"
      ]
     },
     "execution_count": 33,
     "metadata": {},
     "output_type": "execute_result"
    }
   ],
   "source": [
    "B_means[0:10]"
   ]
  },
  {
   "cell_type": "code",
   "execution_count": 34,
   "metadata": {},
   "outputs": [],
   "source": [
    "# list of words and indices\n",
    "df_words = fit_df_vectorizer.get_feature_names()\n",
    "df_indices = fit_df_vectorizer.vocabulary_\n",
    "A_words = fit_A_vectorizer.get_feature_names()\n",
    "A_indices = fit_A_vectorizer.vocabulary_\n",
    "B_words = fit_B_vectorizer.get_feature_names()\n",
    "B_indices = fit_B_vectorizer.vocabulary_"
   ]
  },
  {
   "cell_type": "code",
   "execution_count": 35,
   "metadata": {},
   "outputs": [
    {
     "data": {
      "text/html": [
       "<div>\n",
       "<style scoped>\n",
       "    .dataframe tbody tr th:only-of-type {\n",
       "        vertical-align: middle;\n",
       "    }\n",
       "\n",
       "    .dataframe tbody tr th {\n",
       "        vertical-align: top;\n",
       "    }\n",
       "\n",
       "    .dataframe thead th {\n",
       "        text-align: right;\n",
       "    }\n",
       "</style>\n",
       "<table border=\"1\" class=\"dataframe\">\n",
       "  <thead>\n",
       "    <tr style=\"text-align: right;\">\n",
       "      <th></th>\n",
       "      <th>Word</th>\n",
       "      <th>TotFreq</th>\n",
       "      <th>tf-idf</th>\n",
       "      <th>tf-idf_A</th>\n",
       "      <th>tf-idf_B</th>\n",
       "    </tr>\n",
       "  </thead>\n",
       "  <tbody>\n",
       "    <tr>\n",
       "      <td>0</td>\n",
       "      <td>noise4846</td>\n",
       "      <td>274</td>\n",
       "      <td>0.003854</td>\n",
       "      <td>0.004239</td>\n",
       "      <td>0.003599</td>\n",
       "    </tr>\n",
       "    <tr>\n",
       "      <td>1</td>\n",
       "      <td>noise2988</td>\n",
       "      <td>234</td>\n",
       "      <td>0.003467</td>\n",
       "      <td>0.003674</td>\n",
       "      <td>0.003331</td>\n",
       "    </tr>\n",
       "    <tr>\n",
       "      <td>2</td>\n",
       "      <td>classA4337</td>\n",
       "      <td>112</td>\n",
       "      <td>0.002042</td>\n",
       "      <td>0.003636</td>\n",
       "      <td>0.000986</td>\n",
       "    </tr>\n",
       "    <tr>\n",
       "      <td>3</td>\n",
       "      <td>noise2720</td>\n",
       "      <td>159</td>\n",
       "      <td>0.002639</td>\n",
       "      <td>0.003539</td>\n",
       "      <td>0.002042</td>\n",
       "    </tr>\n",
       "    <tr>\n",
       "      <td>4</td>\n",
       "      <td>noise3676</td>\n",
       "      <td>333</td>\n",
       "      <td>0.004445</td>\n",
       "      <td>0.004011</td>\n",
       "      <td>0.004733</td>\n",
       "    </tr>\n",
       "  </tbody>\n",
       "</table>\n",
       "</div>"
      ],
      "text/plain": [
       "         Word  TotFreq    tf-idf  tf-idf_A  tf-idf_B\n",
       "0   noise4846      274  0.003854  0.004239  0.003599\n",
       "1   noise2988      234  0.003467  0.003674  0.003331\n",
       "2  classA4337      112  0.002042  0.003636  0.000986\n",
       "3   noise2720      159  0.002639  0.003539  0.002042\n",
       "4   noise3676      333  0.004445  0.004011  0.004733"
      ]
     },
     "execution_count": 35,
     "metadata": {},
     "output_type": "execute_result"
    }
   ],
   "source": [
    "# add tf-idf values for each word to word df\n",
    "for i in freq_df.index:\n",
    "    word = freq_df.at[i,'Word']\n",
    "    col_index = df_indices[word]\n",
    "    freq_df.at[i,'tf-idf'] = total_means[col_index]\n",
    "    if word in A_words:\n",
    "        col_A_index = A_indices[word]\n",
    "        freq_df.at[i,'tf-idf_A'] = A_means[col_A_index]\n",
    "    if word in B_words:\n",
    "        col_B_index = B_indices[word]\n",
    "        freq_df.at[i,'tf-idf_B'] = B_means[col_B_index]\n",
    "\n",
    "freq_df.head()"
   ]
  },
  {
   "cell_type": "code",
   "execution_count": 36,
   "metadata": {},
   "outputs": [
    {
     "data": {
      "text/html": [
       "<div>\n",
       "<style scoped>\n",
       "    .dataframe tbody tr th:only-of-type {\n",
       "        vertical-align: middle;\n",
       "    }\n",
       "\n",
       "    .dataframe tbody tr th {\n",
       "        vertical-align: top;\n",
       "    }\n",
       "\n",
       "    .dataframe thead th {\n",
       "        text-align: right;\n",
       "    }\n",
       "</style>\n",
       "<table border=\"1\" class=\"dataframe\">\n",
       "  <thead>\n",
       "    <tr style=\"text-align: right;\">\n",
       "      <th></th>\n",
       "      <th>Word</th>\n",
       "      <th>TotFreq</th>\n",
       "      <th>tf-idf</th>\n",
       "      <th>tf-idf_A</th>\n",
       "      <th>tf-idf_B</th>\n",
       "      <th>diff</th>\n",
       "      <th>abs_diff</th>\n",
       "    </tr>\n",
       "  </thead>\n",
       "  <tbody>\n",
       "    <tr>\n",
       "      <td>5861</td>\n",
       "      <td>classB4094</td>\n",
       "      <td>166</td>\n",
       "      <td>0.002761</td>\n",
       "      <td>0.000658</td>\n",
       "      <td>0.004154</td>\n",
       "      <td>-34.962605</td>\n",
       "      <td>34.962605</td>\n",
       "    </tr>\n",
       "    <tr>\n",
       "      <td>1354</td>\n",
       "      <td>classA4010</td>\n",
       "      <td>126</td>\n",
       "      <td>0.002247</td>\n",
       "      <td>0.004302</td>\n",
       "      <td>0.000885</td>\n",
       "      <td>34.167655</td>\n",
       "      <td>34.167655</td>\n",
       "    </tr>\n",
       "    <tr>\n",
       "      <td>3884</td>\n",
       "      <td>classA3943</td>\n",
       "      <td>111</td>\n",
       "      <td>0.001994</td>\n",
       "      <td>0.003975</td>\n",
       "      <td>0.000681</td>\n",
       "      <td>32.942679</td>\n",
       "      <td>32.942679</td>\n",
       "    </tr>\n",
       "    <tr>\n",
       "      <td>4668</td>\n",
       "      <td>classA4035</td>\n",
       "      <td>111</td>\n",
       "      <td>0.002007</td>\n",
       "      <td>0.003987</td>\n",
       "      <td>0.000696</td>\n",
       "      <td>32.912014</td>\n",
       "      <td>32.912014</td>\n",
       "    </tr>\n",
       "    <tr>\n",
       "      <td>9615</td>\n",
       "      <td>classA4447</td>\n",
       "      <td>100</td>\n",
       "      <td>0.001843</td>\n",
       "      <td>0.003776</td>\n",
       "      <td>0.000561</td>\n",
       "      <td>32.150898</td>\n",
       "      <td>32.150898</td>\n",
       "    </tr>\n",
       "    <tr>\n",
       "      <td>2951</td>\n",
       "      <td>classA4144</td>\n",
       "      <td>126</td>\n",
       "      <td>0.002223</td>\n",
       "      <td>0.004155</td>\n",
       "      <td>0.000942</td>\n",
       "      <td>32.124249</td>\n",
       "      <td>32.124249</td>\n",
       "    </tr>\n",
       "    <tr>\n",
       "      <td>4876</td>\n",
       "      <td>classA3994</td>\n",
       "      <td>110</td>\n",
       "      <td>0.002001</td>\n",
       "      <td>0.003901</td>\n",
       "      <td>0.000741</td>\n",
       "      <td>31.594224</td>\n",
       "      <td>31.594224</td>\n",
       "    </tr>\n",
       "  </tbody>\n",
       "</table>\n",
       "</div>"
      ],
      "text/plain": [
       "            Word  TotFreq    tf-idf  tf-idf_A  tf-idf_B       diff   abs_diff\n",
       "5861  classB4094      166  0.002761  0.000658  0.004154 -34.962605  34.962605\n",
       "1354  classA4010      126  0.002247  0.004302  0.000885  34.167655  34.167655\n",
       "3884  classA3943      111  0.001994  0.003975  0.000681  32.942679  32.942679\n",
       "4668  classA4035      111  0.002007  0.003987  0.000696  32.912014  32.912014\n",
       "9615  classA4447      100  0.001843  0.003776  0.000561  32.150898  32.150898\n",
       "2951  classA4144      126  0.002223  0.004155  0.000942  32.124249  32.124249\n",
       "4876  classA3994      110  0.002001  0.003901  0.000741  31.594224  31.594224"
      ]
     },
     "execution_count": 36,
     "metadata": {},
     "output_type": "execute_result"
    }
   ],
   "source": [
    "# normalized difference for ease of display\n",
    "freq_df['diff'] = (freq_df['tf-idf_A'] - freq_df['tf-idf_B'])*10000\n",
    "freq_df['abs_diff'] = abs(freq_df['diff'])\n",
    "freq_df = freq_df.sort_values(by='abs_diff',ascending=False)\n",
    "freq_df.head(7)"
   ]
  },
  {
   "cell_type": "code",
   "execution_count": 37,
   "metadata": {},
   "outputs": [
    {
     "data": {
      "text/html": [
       "<div>\n",
       "<style scoped>\n",
       "    .dataframe tbody tr th:only-of-type {\n",
       "        vertical-align: middle;\n",
       "    }\n",
       "\n",
       "    .dataframe tbody tr th {\n",
       "        vertical-align: top;\n",
       "    }\n",
       "\n",
       "    .dataframe thead th {\n",
       "        text-align: right;\n",
       "    }\n",
       "</style>\n",
       "<table border=\"1\" class=\"dataframe\">\n",
       "  <thead>\n",
       "    <tr style=\"text-align: right;\">\n",
       "      <th></th>\n",
       "      <th>Word</th>\n",
       "      <th>TotFreq</th>\n",
       "      <th>tf-idf</th>\n",
       "      <th>tf-idf_A</th>\n",
       "      <th>tf-idf_B</th>\n",
       "      <th>diff</th>\n",
       "      <th>abs_diff</th>\n",
       "    </tr>\n",
       "  </thead>\n",
       "  <tbody>\n",
       "    <tr>\n",
       "      <td>13131</td>\n",
       "      <td>classB1270</td>\n",
       "      <td>5</td>\n",
       "      <td>0.000164</td>\n",
       "      <td>0.000164</td>\n",
       "      <td>0.000164</td>\n",
       "      <td>-0.002563</td>\n",
       "      <td>0.002563</td>\n",
       "    </tr>\n",
       "    <tr>\n",
       "      <td>17641</td>\n",
       "      <td>classB6435</td>\n",
       "      <td>5</td>\n",
       "      <td>0.000173</td>\n",
       "      <td>0.000173</td>\n",
       "      <td>0.000172</td>\n",
       "      <td>0.002237</td>\n",
       "      <td>0.002237</td>\n",
       "    </tr>\n",
       "    <tr>\n",
       "      <td>18622</td>\n",
       "      <td>classB6816</td>\n",
       "      <td>5</td>\n",
       "      <td>0.000150</td>\n",
       "      <td>0.000150</td>\n",
       "      <td>0.000150</td>\n",
       "      <td>-0.002198</td>\n",
       "      <td>0.002198</td>\n",
       "    </tr>\n",
       "    <tr>\n",
       "      <td>5228</td>\n",
       "      <td>noise5950</td>\n",
       "      <td>63</td>\n",
       "      <td>0.001307</td>\n",
       "      <td>0.001307</td>\n",
       "      <td>0.001307</td>\n",
       "      <td>0.001811</td>\n",
       "      <td>0.001811</td>\n",
       "    </tr>\n",
       "    <tr>\n",
       "      <td>9584</td>\n",
       "      <td>noise1697</td>\n",
       "      <td>23</td>\n",
       "      <td>0.000562</td>\n",
       "      <td>0.000562</td>\n",
       "      <td>0.000562</td>\n",
       "      <td>0.000610</td>\n",
       "      <td>0.000610</td>\n",
       "    </tr>\n",
       "    <tr>\n",
       "      <td>17663</td>\n",
       "      <td>classA6703</td>\n",
       "      <td>5</td>\n",
       "      <td>0.000146</td>\n",
       "      <td>0.000146</td>\n",
       "      <td>0.000146</td>\n",
       "      <td>-0.000305</td>\n",
       "      <td>0.000305</td>\n",
       "    </tr>\n",
       "    <tr>\n",
       "      <td>9405</td>\n",
       "      <td>noise2658</td>\n",
       "      <td>141</td>\n",
       "      <td>0.002410</td>\n",
       "      <td>0.002410</td>\n",
       "      <td>0.002410</td>\n",
       "      <td>-0.000128</td>\n",
       "      <td>0.000128</td>\n",
       "    </tr>\n",
       "  </tbody>\n",
       "</table>\n",
       "</div>"
      ],
      "text/plain": [
       "             Word  TotFreq    tf-idf  tf-idf_A  tf-idf_B      diff  abs_diff\n",
       "13131  classB1270        5  0.000164  0.000164  0.000164 -0.002563  0.002563\n",
       "17641  classB6435        5  0.000173  0.000173  0.000172  0.002237  0.002237\n",
       "18622  classB6816        5  0.000150  0.000150  0.000150 -0.002198  0.002198\n",
       "5228    noise5950       63  0.001307  0.001307  0.001307  0.001811  0.001811\n",
       "9584    noise1697       23  0.000562  0.000562  0.000562  0.000610  0.000610\n",
       "17663  classA6703        5  0.000146  0.000146  0.000146 -0.000305  0.000305\n",
       "9405    noise2658      141  0.002410  0.002410  0.002410 -0.000128  0.000128"
      ]
     },
     "execution_count": 37,
     "metadata": {},
     "output_type": "execute_result"
    }
   ],
   "source": [
    "freq_df.tail(7)"
   ]
  },
  {
   "cell_type": "markdown",
   "metadata": {},
   "source": [
    "We can see the pattern here: the words with more (absolute) tf-idf difference for the two classes are the most frequent words of the most frequent class. That is, the word number is near the mean of the underlying normal distribution (which was if 4000 you recall) and the class is the most prevalent one (A). On the other hand, the least difference belongs to words that are noise or unfrequent words. \n",
    "\n",
    "(In the following section we study a slightly different strategy, that will give A and B words a similar importance, and leave noise words further behind). \n",
    "\n",
    "Let's plot it."
   ]
  },
  {
   "cell_type": "code",
   "execution_count": 38,
   "metadata": {},
   "outputs": [],
   "source": [
    "# word class to compare\n",
    "for i in freq_df.index:\n",
    "    word = freq_df.at[i,'Word']\n",
    "    if word.startswith('noise'):\n",
    "        freq_df.at[i,'class'] = 'noise'\n",
    "    elif word.startswith('classA'):\n",
    "        freq_df.at[i,'class'] = 'A'\n",
    "    else:\n",
    "        freq_df.at[i,'class'] = 'B'"
   ]
  },
  {
   "cell_type": "code",
   "execution_count": 39,
   "metadata": {},
   "outputs": [
    {
     "data": {
      "text/html": [
       "<div>\n",
       "<style scoped>\n",
       "    .dataframe tbody tr th:only-of-type {\n",
       "        vertical-align: middle;\n",
       "    }\n",
       "\n",
       "    .dataframe tbody tr th {\n",
       "        vertical-align: top;\n",
       "    }\n",
       "\n",
       "    .dataframe thead th {\n",
       "        text-align: right;\n",
       "    }\n",
       "</style>\n",
       "<table border=\"1\" class=\"dataframe\">\n",
       "  <thead>\n",
       "    <tr style=\"text-align: right;\">\n",
       "      <th></th>\n",
       "      <th>Word</th>\n",
       "      <th>TotFreq</th>\n",
       "      <th>tf-idf</th>\n",
       "      <th>tf-idf_A</th>\n",
       "      <th>tf-idf_B</th>\n",
       "      <th>diff</th>\n",
       "      <th>abs_diff</th>\n",
       "      <th>class</th>\n",
       "    </tr>\n",
       "  </thead>\n",
       "  <tbody>\n",
       "    <tr>\n",
       "      <td>5861</td>\n",
       "      <td>classB4094</td>\n",
       "      <td>166</td>\n",
       "      <td>0.002761</td>\n",
       "      <td>0.000658</td>\n",
       "      <td>0.004154</td>\n",
       "      <td>-34.962605</td>\n",
       "      <td>34.962605</td>\n",
       "      <td>B</td>\n",
       "    </tr>\n",
       "    <tr>\n",
       "      <td>1354</td>\n",
       "      <td>classA4010</td>\n",
       "      <td>126</td>\n",
       "      <td>0.002247</td>\n",
       "      <td>0.004302</td>\n",
       "      <td>0.000885</td>\n",
       "      <td>34.167655</td>\n",
       "      <td>34.167655</td>\n",
       "      <td>A</td>\n",
       "    </tr>\n",
       "    <tr>\n",
       "      <td>3884</td>\n",
       "      <td>classA3943</td>\n",
       "      <td>111</td>\n",
       "      <td>0.001994</td>\n",
       "      <td>0.003975</td>\n",
       "      <td>0.000681</td>\n",
       "      <td>32.942679</td>\n",
       "      <td>32.942679</td>\n",
       "      <td>A</td>\n",
       "    </tr>\n",
       "    <tr>\n",
       "      <td>4668</td>\n",
       "      <td>classA4035</td>\n",
       "      <td>111</td>\n",
       "      <td>0.002007</td>\n",
       "      <td>0.003987</td>\n",
       "      <td>0.000696</td>\n",
       "      <td>32.912014</td>\n",
       "      <td>32.912014</td>\n",
       "      <td>A</td>\n",
       "    </tr>\n",
       "    <tr>\n",
       "      <td>9615</td>\n",
       "      <td>classA4447</td>\n",
       "      <td>100</td>\n",
       "      <td>0.001843</td>\n",
       "      <td>0.003776</td>\n",
       "      <td>0.000561</td>\n",
       "      <td>32.150898</td>\n",
       "      <td>32.150898</td>\n",
       "      <td>A</td>\n",
       "    </tr>\n",
       "  </tbody>\n",
       "</table>\n",
       "</div>"
      ],
      "text/plain": [
       "            Word  TotFreq    tf-idf  tf-idf_A  tf-idf_B       diff   abs_diff  \\\n",
       "5861  classB4094      166  0.002761  0.000658  0.004154 -34.962605  34.962605   \n",
       "1354  classA4010      126  0.002247  0.004302  0.000885  34.167655  34.167655   \n",
       "3884  classA3943      111  0.001994  0.003975  0.000681  32.942679  32.942679   \n",
       "4668  classA4035      111  0.002007  0.003987  0.000696  32.912014  32.912014   \n",
       "9615  classA4447      100  0.001843  0.003776  0.000561  32.150898  32.150898   \n",
       "\n",
       "     class  \n",
       "5861     B  \n",
       "1354     A  \n",
       "3884     A  \n",
       "4668     A  \n",
       "9615     A  "
      ]
     },
     "execution_count": 39,
     "metadata": {},
     "output_type": "execute_result"
    }
   ],
   "source": [
    "freq_df.head()"
   ]
  },
  {
   "cell_type": "code",
   "execution_count": 40,
   "metadata": {},
   "outputs": [],
   "source": [
    "freq_A = freq_df[freq_df['class'] == 'A']\n",
    "freq_A = freq_A.sort_values(by='abs_diff',ascending=False).head(7)\n",
    "freq_noise = freq_df[freq_df['class'] == 'noise']\n",
    "freq_noise = freq_noise.sort_values(by='abs_diff',ascending=False).head(7)\n",
    "freq_B = freq_df[freq_df['class'] == 'B']\n",
    "freq_B = freq_B.sort_values(by='abs_diff',ascending=False).head(7)"
   ]
  },
  {
   "cell_type": "code",
   "execution_count": 41,
   "metadata": {},
   "outputs": [
    {
     "data": {
      "text/html": [
       "<div>\n",
       "<style scoped>\n",
       "    .dataframe tbody tr th:only-of-type {\n",
       "        vertical-align: middle;\n",
       "    }\n",
       "\n",
       "    .dataframe tbody tr th {\n",
       "        vertical-align: top;\n",
       "    }\n",
       "\n",
       "    .dataframe thead th {\n",
       "        text-align: right;\n",
       "    }\n",
       "</style>\n",
       "<table border=\"1\" class=\"dataframe\">\n",
       "  <thead>\n",
       "    <tr style=\"text-align: right;\">\n",
       "      <th></th>\n",
       "      <th>Word</th>\n",
       "      <th>TotFreq</th>\n",
       "      <th>tf-idf</th>\n",
       "      <th>tf-idf_A</th>\n",
       "      <th>tf-idf_B</th>\n",
       "      <th>diff</th>\n",
       "      <th>abs_diff</th>\n",
       "      <th>class</th>\n",
       "    </tr>\n",
       "  </thead>\n",
       "  <tbody>\n",
       "    <tr>\n",
       "      <td>1354</td>\n",
       "      <td>classA4010</td>\n",
       "      <td>126</td>\n",
       "      <td>0.002247</td>\n",
       "      <td>0.004302</td>\n",
       "      <td>0.000885</td>\n",
       "      <td>34.167655</td>\n",
       "      <td>34.167655</td>\n",
       "      <td>A</td>\n",
       "    </tr>\n",
       "    <tr>\n",
       "      <td>3884</td>\n",
       "      <td>classA3943</td>\n",
       "      <td>111</td>\n",
       "      <td>0.001994</td>\n",
       "      <td>0.003975</td>\n",
       "      <td>0.000681</td>\n",
       "      <td>32.942679</td>\n",
       "      <td>32.942679</td>\n",
       "      <td>A</td>\n",
       "    </tr>\n",
       "    <tr>\n",
       "      <td>4668</td>\n",
       "      <td>classA4035</td>\n",
       "      <td>111</td>\n",
       "      <td>0.002007</td>\n",
       "      <td>0.003987</td>\n",
       "      <td>0.000696</td>\n",
       "      <td>32.912014</td>\n",
       "      <td>32.912014</td>\n",
       "      <td>A</td>\n",
       "    </tr>\n",
       "    <tr>\n",
       "      <td>9615</td>\n",
       "      <td>classA4447</td>\n",
       "      <td>100</td>\n",
       "      <td>0.001843</td>\n",
       "      <td>0.003776</td>\n",
       "      <td>0.000561</td>\n",
       "      <td>32.150898</td>\n",
       "      <td>32.150898</td>\n",
       "      <td>A</td>\n",
       "    </tr>\n",
       "    <tr>\n",
       "      <td>2951</td>\n",
       "      <td>classA4144</td>\n",
       "      <td>126</td>\n",
       "      <td>0.002223</td>\n",
       "      <td>0.004155</td>\n",
       "      <td>0.000942</td>\n",
       "      <td>32.124249</td>\n",
       "      <td>32.124249</td>\n",
       "      <td>A</td>\n",
       "    </tr>\n",
       "    <tr>\n",
       "      <td>4876</td>\n",
       "      <td>classA3994</td>\n",
       "      <td>110</td>\n",
       "      <td>0.002001</td>\n",
       "      <td>0.003901</td>\n",
       "      <td>0.000741</td>\n",
       "      <td>31.594224</td>\n",
       "      <td>31.594224</td>\n",
       "      <td>A</td>\n",
       "    </tr>\n",
       "    <tr>\n",
       "      <td>2117</td>\n",
       "      <td>classA3808</td>\n",
       "      <td>113</td>\n",
       "      <td>0.002048</td>\n",
       "      <td>0.003931</td>\n",
       "      <td>0.000800</td>\n",
       "      <td>31.306618</td>\n",
       "      <td>31.306618</td>\n",
       "      <td>A</td>\n",
       "    </tr>\n",
       "  </tbody>\n",
       "</table>\n",
       "</div>"
      ],
      "text/plain": [
       "            Word  TotFreq    tf-idf  tf-idf_A  tf-idf_B       diff   abs_diff  \\\n",
       "1354  classA4010      126  0.002247  0.004302  0.000885  34.167655  34.167655   \n",
       "3884  classA3943      111  0.001994  0.003975  0.000681  32.942679  32.942679   \n",
       "4668  classA4035      111  0.002007  0.003987  0.000696  32.912014  32.912014   \n",
       "9615  classA4447      100  0.001843  0.003776  0.000561  32.150898  32.150898   \n",
       "2951  classA4144      126  0.002223  0.004155  0.000942  32.124249  32.124249   \n",
       "4876  classA3994      110  0.002001  0.003901  0.000741  31.594224  31.594224   \n",
       "2117  classA3808      113  0.002048  0.003931  0.000800  31.306618  31.306618   \n",
       "\n",
       "     class  \n",
       "1354     A  \n",
       "3884     A  \n",
       "4668     A  \n",
       "9615     A  \n",
       "2951     A  \n",
       "4876     A  \n",
       "2117     A  "
      ]
     },
     "execution_count": 41,
     "metadata": {},
     "output_type": "execute_result"
    }
   ],
   "source": [
    "freq_A"
   ]
  },
  {
   "cell_type": "code",
   "execution_count": 42,
   "metadata": {},
   "outputs": [
    {
     "data": {
      "image/png": "[encoded data removed]",
      "text/plain": [
       "<Figure size 1080x360 with 3 Axes>"
      ]
     },
     "metadata": {
      "needs_background": "light"
     },
     "output_type": "display_data"
    }
   ],
   "source": [
    "fig,ax = plt.subplots(1,3,figsize=(15,5),sharey=True)\n",
    "ax[0].bar(freq_A.Word,freq_A.abs_diff)\n",
    "ax[0].set_xticklabels(freq_A.Word, rotation=45)\n",
    "ax[1].bar(freq_B.Word,freq_B.abs_diff,color='orange')\n",
    "ax[1].set_xticklabels(freq_B.Word, rotation=45)\n",
    "ax[2].bar(freq_noise.Word,freq_noise.abs_diff,color='green')\n",
    "ax[2].set_xticklabels(freq_noise.Word, rotation=45)\n",
    "plt.suptitle('Tf-Idf differences for the 3 classes',size=20)\n",
    "plt.show()"
   ]
  },
  {
   "cell_type": "markdown",
   "metadata": {},
   "source": [
    "## Functions for generalizing this tasks"
   ]
  },
  {
   "cell_type": "code",
   "execution_count": 43,
   "metadata": {},
   "outputs": [],
   "source": [
    "def df_to_bag(df_X):\n",
    "    '''\n",
    "    Takes df_X (string), return bag of words\n",
    "    (in df format)\n",
    "    Requires NLTK\n",
    "    '''\n",
    "    bag = []\n",
    "    for i in df_X.index:\n",
    "        word_list = df_X[i].split()\n",
    "        bag.extend(word_list)\n",
    "    freq_bag = nltk.FreqDist(bag)\n",
    "    bag_df = pd.DataFrame(list(freq_bag.items()), columns = [\"Word\",\"TotFreq\"])\n",
    "    return bag_df"
   ]
  },
  {
   "cell_type": "code",
   "execution_count": 44,
   "metadata": {},
   "outputs": [
    {
     "data": {
      "text/html": [
       "<div>\n",
       "<style scoped>\n",
       "    .dataframe tbody tr th:only-of-type {\n",
       "        vertical-align: middle;\n",
       "    }\n",
       "\n",
       "    .dataframe tbody tr th {\n",
       "        vertical-align: top;\n",
       "    }\n",
       "\n",
       "    .dataframe thead th {\n",
       "        text-align: right;\n",
       "    }\n",
       "</style>\n",
       "<table border=\"1\" class=\"dataframe\">\n",
       "  <thead>\n",
       "    <tr style=\"text-align: right;\">\n",
       "      <th></th>\n",
       "      <th>Word</th>\n",
       "      <th>TotFreq</th>\n",
       "    </tr>\n",
       "  </thead>\n",
       "  <tbody>\n",
       "    <tr>\n",
       "      <td>0</td>\n",
       "      <td>noise4846</td>\n",
       "      <td>274</td>\n",
       "    </tr>\n",
       "    <tr>\n",
       "      <td>1</td>\n",
       "      <td>noise2988</td>\n",
       "      <td>234</td>\n",
       "    </tr>\n",
       "    <tr>\n",
       "      <td>2</td>\n",
       "      <td>classA4337</td>\n",
       "      <td>112</td>\n",
       "    </tr>\n",
       "    <tr>\n",
       "      <td>3</td>\n",
       "      <td>noise2720</td>\n",
       "      <td>159</td>\n",
       "    </tr>\n",
       "    <tr>\n",
       "      <td>4</td>\n",
       "      <td>noise3676</td>\n",
       "      <td>333</td>\n",
       "    </tr>\n",
       "  </tbody>\n",
       "</table>\n",
       "</div>"
      ],
      "text/plain": [
       "         Word  TotFreq\n",
       "0   noise4846      274\n",
       "1   noise2988      234\n",
       "2  classA4337      112\n",
       "3   noise2720      159\n",
       "4   noise3676      333"
      ]
     },
     "execution_count": 44,
     "metadata": {},
     "output_type": "execute_result"
    }
   ],
   "source": [
    "func_bag = df_to_bag(df.text)\n",
    "func_bag.head()"
   ]
  },
  {
   "cell_type": "code",
   "execution_count": 45,
   "metadata": {},
   "outputs": [],
   "source": [
    "def df_to_tfidf(df,text_col,target,fit='cat'):\n",
    "    '''\n",
    "    Takes as input a df and the name of the target column.\n",
    "    Returns a list with information about each category:\n",
    "    category name, tf-idf matrix, tf-idf mean for each word\n",
    "    Requires pandas,sklearn TdidfVectorizer\n",
    "    fit parameter: if 'df', tf-idf Vectorizer fit on whole df.\n",
    "    if 'cat', fit in each category\n",
    "    '''\n",
    "    tfidf_list = []\n",
    "    X = df[text_col]\n",
    "    y = df[target]\n",
    "    vectorizer = TfidfVectorizer(lowercase=False)\n",
    "    df_vecto = vectorizer.fit(X)\n",
    "    fit_vecto = df_vecto.transform(X)\n",
    "    means_arr = np.apply_along_axis(np.mean,0,\n",
    "                                  fit_vecto.toarray())\n",
    "    tfidf_list.append(['df',df_vecto,fit_vecto,means_arr])\n",
    "    for i in y.unique():\n",
    "        vect_aux = TfidfVectorizer(lowercase=False)\n",
    "        if fit == 'cat':\n",
    "            df_aux = df[df[target] == i]\n",
    "            X_aux = df_aux[text_col]\n",
    "            vect_aux_transf = vect_aux.fit_transform(X_aux)\n",
    "        elif fit == 'df':\n",
    "            vect_aux_fit = vect_aux.fit(X)\n",
    "            df_aux = df[df[target] == i]\n",
    "            X_aux = df_aux[text_col]\n",
    "            vect_aux_transf = vect_aux.transform(X_aux)\n",
    "        means_arr = np.apply_along_axis(np.mean,0,\n",
    "                                  vect_aux_transf.toarray())\n",
    "        tfidf_list.append([i,vect_aux,\n",
    "                           vect_aux_transf,means_arr])\n",
    "    return tfidf_list"
   ]
  },
  {
   "cell_type": "code",
   "execution_count": 46,
   "metadata": {},
   "outputs": [
    {
     "data": {
      "text/plain": [
       "['df', TfidfVectorizer(analyzer='word', binary=False, decode_error='strict',\n",
       "                 dtype=<class 'numpy.float64'>, encoding='utf-8',\n",
       "                 input='content', lowercase=False, max_df=1.0, max_features=None,\n",
       "                 min_df=1, ngram_range=(1, 1), norm='l2', preprocessor=None,\n",
       "                 smooth_idf=True, stop_words=None, strip_accents=None,\n",
       "                 sublinear_tf=False, token_pattern='(?u)\\\\b\\\\w\\\\w+\\\\b',\n",
       "                 tokenizer=None, use_idf=True, vocabulary=None), <2000x20141 sparse matrix of type '<class 'numpy.float64'>'\n",
       " \twith 1437211 stored elements in Compressed Sparse Row format>, array([1.29824244e-04, 9.40659224e-05, 3.15677814e-05, ...,\n",
       "        1.56479680e-04, 2.11580728e-04, 1.59635918e-04])]"
      ]
     },
     "execution_count": 46,
     "metadata": {},
     "output_type": "execute_result"
    }
   ],
   "source": [
    "func_tfidf = df_to_tfidf(df,'text','target')\n",
    "func_tfidf[0]"
   ]
  },
  {
   "cell_type": "code",
   "execution_count": 47,
   "metadata": {},
   "outputs": [],
   "source": [
    "def tfidf_cat(bag_df,tfidf_list):\n",
    "    '''\n",
    "    Takes a bag of words df extracted from a\n",
    "    dataset, its corresponding tf-idf list \n",
    "    (containing category names, tf-idf object, \n",
    "    tf-idf mean values for each category and word)\n",
    "    Returns a df with tf-idf values and differences\n",
    "    for each word.\n",
    "    bag_df must have a 'Word' column\n",
    "    '''\n",
    "    df_words = tfidf_list[0][1].get_feature_names()\n",
    "    df_indices = tfidf_list[0][1].vocabulary_\n",
    "    for i in bag_df.index:\n",
    "        # assign tf-idf values to each word (total)\n",
    "        word = bag_df.at[i,'Word']\n",
    "        col_index = df_indices[word]\n",
    "        df_means = tfidf_list[0][3]\n",
    "        bag_df.at[i,'tf-idf'] = df_means[col_index]\n",
    "        # assign tf-idf values to each word (each category)\n",
    "        for j in range(1,len(tfidf_list)):\n",
    "            cat_words = tfidf_list[j][1].get_feature_names()\n",
    "            cat_name = tfidf_list[j][0]\n",
    "            if word not in cat_words:\n",
    "                bag_df.at[i,'tf-idf_'+str(cat_name)] = 0\n",
    "            else:\n",
    "                cat_indices = tfidf_list[j][1].vocabulary_\n",
    "                col_index = cat_indices[word]\n",
    "                cat_means = tfidf_list[j][3]\n",
    "                bag_df.at[i,'tf-idf_'+str(cat_name)] = cat_means[col_index]\n",
    "    return bag_df"
   ]
  },
  {
   "cell_type": "code",
   "execution_count": 48,
   "metadata": {},
   "outputs": [
    {
     "data": {
      "text/html": [
       "<div>\n",
       "<style scoped>\n",
       "    .dataframe tbody tr th:only-of-type {\n",
       "        vertical-align: middle;\n",
       "    }\n",
       "\n",
       "    .dataframe tbody tr th {\n",
       "        vertical-align: top;\n",
       "    }\n",
       "\n",
       "    .dataframe thead th {\n",
       "        text-align: right;\n",
       "    }\n",
       "</style>\n",
       "<table border=\"1\" class=\"dataframe\">\n",
       "  <thead>\n",
       "    <tr style=\"text-align: right;\">\n",
       "      <th></th>\n",
       "      <th>Word</th>\n",
       "      <th>TotFreq</th>\n",
       "      <th>tf-idf</th>\n",
       "      <th>tf-idf_0</th>\n",
       "      <th>tf-idf_1</th>\n",
       "    </tr>\n",
       "  </thead>\n",
       "  <tbody>\n",
       "    <tr>\n",
       "      <td>0</td>\n",
       "      <td>noise4846</td>\n",
       "      <td>274</td>\n",
       "      <td>0.003854</td>\n",
       "      <td>0.004205</td>\n",
       "      <td>0.003726</td>\n",
       "    </tr>\n",
       "    <tr>\n",
       "      <td>1</td>\n",
       "      <td>noise2988</td>\n",
       "      <td>234</td>\n",
       "      <td>0.003467</td>\n",
       "      <td>0.003698</td>\n",
       "      <td>0.003415</td>\n",
       "    </tr>\n",
       "    <tr>\n",
       "      <td>2</td>\n",
       "      <td>classA4337</td>\n",
       "      <td>112</td>\n",
       "      <td>0.002042</td>\n",
       "      <td>0.003190</td>\n",
       "      <td>0.001176</td>\n",
       "    </tr>\n",
       "    <tr>\n",
       "      <td>3</td>\n",
       "      <td>noise2720</td>\n",
       "      <td>159</td>\n",
       "      <td>0.002639</td>\n",
       "      <td>0.003351</td>\n",
       "      <td>0.002201</td>\n",
       "    </tr>\n",
       "    <tr>\n",
       "      <td>4</td>\n",
       "      <td>noise3676</td>\n",
       "      <td>333</td>\n",
       "      <td>0.004445</td>\n",
       "      <td>0.004211</td>\n",
       "      <td>0.004721</td>\n",
       "    </tr>\n",
       "  </tbody>\n",
       "</table>\n",
       "</div>"
      ],
      "text/plain": [
       "         Word  TotFreq    tf-idf  tf-idf_0  tf-idf_1\n",
       "0   noise4846      274  0.003854  0.004205  0.003726\n",
       "1   noise2988      234  0.003467  0.003698  0.003415\n",
       "2  classA4337      112  0.002042  0.003190  0.001176\n",
       "3   noise2720      159  0.002639  0.003351  0.002201\n",
       "4   noise3676      333  0.004445  0.004211  0.004721"
      ]
     },
     "execution_count": 48,
     "metadata": {},
     "output_type": "execute_result"
    }
   ],
   "source": [
    "func_df = tfidf_cat(func_bag,func_tfidf)\n",
    "func_df.head()"
   ]
  },
  {
   "cell_type": "code",
   "execution_count": 49,
   "metadata": {},
   "outputs": [],
   "source": [
    "def col_diff(df,col0,col1):\n",
    "    df['diff'] = (df[col0] - df[col1])*10000\n",
    "    df['abs_diff'] = np.abs(df['diff'])\n",
    "    df = df.sort_values(by='abs_diff',ascending=False)\n",
    "    return df"
   ]
  },
  {
   "cell_type": "code",
   "execution_count": 50,
   "metadata": {},
   "outputs": [
    {
     "data": {
      "text/html": [
       "<div>\n",
       "<style scoped>\n",
       "    .dataframe tbody tr th:only-of-type {\n",
       "        vertical-align: middle;\n",
       "    }\n",
       "\n",
       "    .dataframe tbody tr th {\n",
       "        vertical-align: top;\n",
       "    }\n",
       "\n",
       "    .dataframe thead th {\n",
       "        text-align: right;\n",
       "    }\n",
       "</style>\n",
       "<table border=\"1\" class=\"dataframe\">\n",
       "  <thead>\n",
       "    <tr style=\"text-align: right;\">\n",
       "      <th></th>\n",
       "      <th>Word</th>\n",
       "      <th>TotFreq</th>\n",
       "      <th>tf-idf</th>\n",
       "      <th>tf-idf_0</th>\n",
       "      <th>tf-idf_1</th>\n",
       "      <th>diff</th>\n",
       "      <th>abs_diff</th>\n",
       "    </tr>\n",
       "  </thead>\n",
       "  <tbody>\n",
       "    <tr>\n",
       "      <td>5861</td>\n",
       "      <td>classB4094</td>\n",
       "      <td>166</td>\n",
       "      <td>0.002761</td>\n",
       "      <td>0.000931</td>\n",
       "      <td>0.003726</td>\n",
       "      <td>27.950963</td>\n",
       "      <td>27.950963</td>\n",
       "    </tr>\n",
       "    <tr>\n",
       "      <td>1354</td>\n",
       "      <td>classA4010</td>\n",
       "      <td>126</td>\n",
       "      <td>0.002247</td>\n",
       "      <td>0.003661</td>\n",
       "      <td>0.001114</td>\n",
       "      <td>-25.473224</td>\n",
       "      <td>25.473224</td>\n",
       "    </tr>\n",
       "    <tr>\n",
       "      <td>3884</td>\n",
       "      <td>classA3943</td>\n",
       "      <td>111</td>\n",
       "      <td>0.001994</td>\n",
       "      <td>0.003378</td>\n",
       "      <td>0.000864</td>\n",
       "      <td>-25.148575</td>\n",
       "      <td>25.148575</td>\n",
       "    </tr>\n",
       "    <tr>\n",
       "      <td>4668</td>\n",
       "      <td>classA4035</td>\n",
       "      <td>111</td>\n",
       "      <td>0.002007</td>\n",
       "      <td>0.003381</td>\n",
       "      <td>0.000888</td>\n",
       "      <td>-24.932443</td>\n",
       "      <td>24.932443</td>\n",
       "    </tr>\n",
       "    <tr>\n",
       "      <td>5894</td>\n",
       "      <td>classB3843</td>\n",
       "      <td>159</td>\n",
       "      <td>0.002632</td>\n",
       "      <td>0.001043</td>\n",
       "      <td>0.003500</td>\n",
       "      <td>24.575677</td>\n",
       "      <td>24.575677</td>\n",
       "    </tr>\n",
       "  </tbody>\n",
       "</table>\n",
       "</div>"
      ],
      "text/plain": [
       "            Word  TotFreq    tf-idf  tf-idf_0  tf-idf_1       diff   abs_diff\n",
       "5861  classB4094      166  0.002761  0.000931  0.003726  27.950963  27.950963\n",
       "1354  classA4010      126  0.002247  0.003661  0.001114 -25.473224  25.473224\n",
       "3884  classA3943      111  0.001994  0.003378  0.000864 -25.148575  25.148575\n",
       "4668  classA4035      111  0.002007  0.003381  0.000888 -24.932443  24.932443\n",
       "5894  classB3843      159  0.002632  0.001043  0.003500  24.575677  24.575677"
      ]
     },
     "execution_count": 50,
     "metadata": {},
     "output_type": "execute_result"
    }
   ],
   "source": [
    "func_df = col_diff(func_df,'tf-idf_1','tf-idf_0')\n",
    "func_df.head()"
   ]
  },
  {
   "cell_type": "code",
   "execution_count": 51,
   "metadata": {},
   "outputs": [],
   "source": [
    "# values to plot\n",
    "func_freq_A = func_df[func_df['Word'].apply(lambda x: x.startswith('classA'))]\n",
    "func_freq_A = func_freq_A.sort_values(by='abs_diff',ascending=False).head(7)\n",
    "func_freq_noise = func_df[func_df['Word'].apply(lambda x: x.startswith('noise'))]\n",
    "func_freq_noise = func_freq_noise.sort_values(by='abs_diff',ascending=False).head(7)\n",
    "func_freq_B = func_df[func_df['Word'].apply(lambda x: x.startswith('classB'))]\n",
    "func_freq_B = func_freq_B.sort_values(by='abs_diff',ascending=False).head(7)"
   ]
  },
  {
   "cell_type": "code",
   "execution_count": 52,
   "metadata": {},
   "outputs": [
    {
     "data": {
      "image/png": "[encoded data removed]",
      "text/plain": [
       "<Figure size 1080x360 with 3 Axes>"
      ]
     },
     "metadata": {
      "needs_background": "light"
     },
     "output_type": "display_data"
    }
   ],
   "source": [
    "# plots\n",
    "fig,ax = plt.subplots(1,3,figsize=(15,5),sharey=True)\n",
    "ax[0].bar(func_freq_A.Word,func_freq_A.abs_diff)\n",
    "ax[0].set_xticklabels(func_freq_A.Word, rotation=45)\n",
    "ax[1].bar(func_freq_B.Word,func_freq_B.abs_diff,color='orange')\n",
    "ax[1].set_xticklabels(freq_B.Word, rotation=45)\n",
    "ax[2].bar(func_freq_noise.Word,func_freq_noise.abs_diff,color='green')\n",
    "ax[2].set_xticklabels(func_freq_noise.Word, rotation=45)\n",
    "plt.suptitle('Tf-Idf differences for the 3 classes',size=20)\n",
    "plt.show()"
   ]
  },
  {
   "cell_type": "markdown",
   "metadata": {},
   "source": [
    "Notice the difference between this plot and the previous one. The difference is in the way the tf-idf matrix is fit and transformed. In the previous section version, we fit the vectorizer to the whole dataframe (tf-idf values are calculated from the full bag of words); in this one, we fit it to a dataframe filtered by each category. We will study the performance of each in the next section."
   ]
  },
  {
   "cell_type": "code",
   "execution_count": 53,
   "metadata": {},
   "outputs": [],
   "source": [
    "# wrapping function\n",
    "def df_to_freq_df(df,target='target',text_col='text',\n",
    "                 fit='cat'):\n",
    "    bag_df = df_to_bag(df[text_col])\n",
    "    tfidf_list = df_to_tfidf(df,text_col=text_col,\n",
    "                            target=target,fit=fit)\n",
    "    bag_df = tfidf_cat(bag_df,tfidf_list)\n",
    "    target0 = str(df[target].unique()[0])\n",
    "    target1 = str(df[target].unique()[1])\n",
    "    col0 = 'tf-idf_'+target0\n",
    "    col1 = 'tf-idf_'+target1\n",
    "    freq_df = col_diff(bag_df,col0,\n",
    "                       col1)\n",
    "    return (freq_df,tfidf_list)"
   ]
  },
  {
   "cell_type": "code",
   "execution_count": 54,
   "metadata": {},
   "outputs": [
    {
     "data": {
      "text/html": [
       "<div>\n",
       "<style scoped>\n",
       "    .dataframe tbody tr th:only-of-type {\n",
       "        vertical-align: middle;\n",
       "    }\n",
       "\n",
       "    .dataframe tbody tr th {\n",
       "        vertical-align: top;\n",
       "    }\n",
       "\n",
       "    .dataframe thead th {\n",
       "        text-align: right;\n",
       "    }\n",
       "</style>\n",
       "<table border=\"1\" class=\"dataframe\">\n",
       "  <thead>\n",
       "    <tr style=\"text-align: right;\">\n",
       "      <th></th>\n",
       "      <th>Word</th>\n",
       "      <th>TotFreq</th>\n",
       "      <th>tf-idf</th>\n",
       "      <th>tf-idf_0</th>\n",
       "      <th>tf-idf_1</th>\n",
       "      <th>diff</th>\n",
       "      <th>abs_diff</th>\n",
       "    </tr>\n",
       "  </thead>\n",
       "  <tbody>\n",
       "    <tr>\n",
       "      <td>5861</td>\n",
       "      <td>classB4094</td>\n",
       "      <td>166</td>\n",
       "      <td>0.002761</td>\n",
       "      <td>0.000931</td>\n",
       "      <td>0.003726</td>\n",
       "      <td>-27.950963</td>\n",
       "      <td>27.950963</td>\n",
       "    </tr>\n",
       "    <tr>\n",
       "      <td>1354</td>\n",
       "      <td>classA4010</td>\n",
       "      <td>126</td>\n",
       "      <td>0.002247</td>\n",
       "      <td>0.003661</td>\n",
       "      <td>0.001114</td>\n",
       "      <td>25.473224</td>\n",
       "      <td>25.473224</td>\n",
       "    </tr>\n",
       "    <tr>\n",
       "      <td>3884</td>\n",
       "      <td>classA3943</td>\n",
       "      <td>111</td>\n",
       "      <td>0.001994</td>\n",
       "      <td>0.003378</td>\n",
       "      <td>0.000864</td>\n",
       "      <td>25.148575</td>\n",
       "      <td>25.148575</td>\n",
       "    </tr>\n",
       "    <tr>\n",
       "      <td>4668</td>\n",
       "      <td>classA4035</td>\n",
       "      <td>111</td>\n",
       "      <td>0.002007</td>\n",
       "      <td>0.003381</td>\n",
       "      <td>0.000888</td>\n",
       "      <td>24.932443</td>\n",
       "      <td>24.932443</td>\n",
       "    </tr>\n",
       "    <tr>\n",
       "      <td>5894</td>\n",
       "      <td>classB3843</td>\n",
       "      <td>159</td>\n",
       "      <td>0.002632</td>\n",
       "      <td>0.001043</td>\n",
       "      <td>0.003500</td>\n",
       "      <td>-24.575677</td>\n",
       "      <td>24.575677</td>\n",
       "    </tr>\n",
       "    <tr>\n",
       "      <td>9615</td>\n",
       "      <td>classA4447</td>\n",
       "      <td>100</td>\n",
       "      <td>0.001843</td>\n",
       "      <td>0.003185</td>\n",
       "      <td>0.000729</td>\n",
       "      <td>24.560193</td>\n",
       "      <td>24.560193</td>\n",
       "    </tr>\n",
       "    <tr>\n",
       "      <td>5454</td>\n",
       "      <td>classB4109</td>\n",
       "      <td>150</td>\n",
       "      <td>0.002517</td>\n",
       "      <td>0.000944</td>\n",
       "      <td>0.003376</td>\n",
       "      <td>-24.320110</td>\n",
       "      <td>24.320110</td>\n",
       "    </tr>\n",
       "    <tr>\n",
       "      <td>2951</td>\n",
       "      <td>classA4144</td>\n",
       "      <td>126</td>\n",
       "      <td>0.002223</td>\n",
       "      <td>0.003583</td>\n",
       "      <td>0.001155</td>\n",
       "      <td>24.282218</td>\n",
       "      <td>24.282218</td>\n",
       "    </tr>\n",
       "    <tr>\n",
       "      <td>2125</td>\n",
       "      <td>classB4263</td>\n",
       "      <td>133</td>\n",
       "      <td>0.002311</td>\n",
       "      <td>0.000753</td>\n",
       "      <td>0.003151</td>\n",
       "      <td>-23.976572</td>\n",
       "      <td>23.976572</td>\n",
       "    </tr>\n",
       "    <tr>\n",
       "      <td>4876</td>\n",
       "      <td>classA3994</td>\n",
       "      <td>110</td>\n",
       "      <td>0.002001</td>\n",
       "      <td>0.003331</td>\n",
       "      <td>0.000934</td>\n",
       "      <td>23.969971</td>\n",
       "      <td>23.969971</td>\n",
       "    </tr>\n",
       "  </tbody>\n",
       "</table>\n",
       "</div>"
      ],
      "text/plain": [
       "            Word  TotFreq    tf-idf  tf-idf_0  tf-idf_1       diff   abs_diff\n",
       "5861  classB4094      166  0.002761  0.000931  0.003726 -27.950963  27.950963\n",
       "1354  classA4010      126  0.002247  0.003661  0.001114  25.473224  25.473224\n",
       "3884  classA3943      111  0.001994  0.003378  0.000864  25.148575  25.148575\n",
       "4668  classA4035      111  0.002007  0.003381  0.000888  24.932443  24.932443\n",
       "5894  classB3843      159  0.002632  0.001043  0.003500 -24.575677  24.575677\n",
       "9615  classA4447      100  0.001843  0.003185  0.000729  24.560193  24.560193\n",
       "5454  classB4109      150  0.002517  0.000944  0.003376 -24.320110  24.320110\n",
       "2951  classA4144      126  0.002223  0.003583  0.001155  24.282218  24.282218\n",
       "2125  classB4263      133  0.002311  0.000753  0.003151 -23.976572  23.976572\n",
       "4876  classA3994      110  0.002001  0.003331  0.000934  23.969971  23.969971"
      ]
     },
     "execution_count": 54,
     "metadata": {},
     "output_type": "execute_result"
    }
   ],
   "source": [
    "wrap_df = df_to_freq_df(df)\n",
    "wrap_df[0].head(10)"
   ]
  },
  {
   "cell_type": "code",
   "execution_count": 55,
   "metadata": {},
   "outputs": [
    {
     "data": {
      "text/html": [
       "<div>\n",
       "<style scoped>\n",
       "    .dataframe tbody tr th:only-of-type {\n",
       "        vertical-align: middle;\n",
       "    }\n",
       "\n",
       "    .dataframe tbody tr th {\n",
       "        vertical-align: top;\n",
       "    }\n",
       "\n",
       "    .dataframe thead th {\n",
       "        text-align: right;\n",
       "    }\n",
       "</style>\n",
       "<table border=\"1\" class=\"dataframe\">\n",
       "  <thead>\n",
       "    <tr style=\"text-align: right;\">\n",
       "      <th></th>\n",
       "      <th>Word</th>\n",
       "      <th>TotFreq</th>\n",
       "      <th>tf-idf</th>\n",
       "      <th>tf-idf_0</th>\n",
       "      <th>tf-idf_1</th>\n",
       "      <th>diff</th>\n",
       "      <th>abs_diff</th>\n",
       "    </tr>\n",
       "  </thead>\n",
       "  <tbody>\n",
       "    <tr>\n",
       "      <td>5861</td>\n",
       "      <td>classB4094</td>\n",
       "      <td>166</td>\n",
       "      <td>0.002761</td>\n",
       "      <td>0.000658</td>\n",
       "      <td>0.004154</td>\n",
       "      <td>-34.962605</td>\n",
       "      <td>34.962605</td>\n",
       "    </tr>\n",
       "    <tr>\n",
       "      <td>1354</td>\n",
       "      <td>classA4010</td>\n",
       "      <td>126</td>\n",
       "      <td>0.002247</td>\n",
       "      <td>0.004302</td>\n",
       "      <td>0.000885</td>\n",
       "      <td>34.167655</td>\n",
       "      <td>34.167655</td>\n",
       "    </tr>\n",
       "    <tr>\n",
       "      <td>3884</td>\n",
       "      <td>classA3943</td>\n",
       "      <td>111</td>\n",
       "      <td>0.001994</td>\n",
       "      <td>0.003975</td>\n",
       "      <td>0.000681</td>\n",
       "      <td>32.942679</td>\n",
       "      <td>32.942679</td>\n",
       "    </tr>\n",
       "    <tr>\n",
       "      <td>4668</td>\n",
       "      <td>classA4035</td>\n",
       "      <td>111</td>\n",
       "      <td>0.002007</td>\n",
       "      <td>0.003987</td>\n",
       "      <td>0.000696</td>\n",
       "      <td>32.912014</td>\n",
       "      <td>32.912014</td>\n",
       "    </tr>\n",
       "    <tr>\n",
       "      <td>9615</td>\n",
       "      <td>classA4447</td>\n",
       "      <td>100</td>\n",
       "      <td>0.001843</td>\n",
       "      <td>0.003776</td>\n",
       "      <td>0.000561</td>\n",
       "      <td>32.150898</td>\n",
       "      <td>32.150898</td>\n",
       "    </tr>\n",
       "    <tr>\n",
       "      <td>2951</td>\n",
       "      <td>classA4144</td>\n",
       "      <td>126</td>\n",
       "      <td>0.002223</td>\n",
       "      <td>0.004155</td>\n",
       "      <td>0.000942</td>\n",
       "      <td>32.124249</td>\n",
       "      <td>32.124249</td>\n",
       "    </tr>\n",
       "    <tr>\n",
       "      <td>4876</td>\n",
       "      <td>classA3994</td>\n",
       "      <td>110</td>\n",
       "      <td>0.002001</td>\n",
       "      <td>0.003901</td>\n",
       "      <td>0.000741</td>\n",
       "      <td>31.594224</td>\n",
       "      <td>31.594224</td>\n",
       "    </tr>\n",
       "    <tr>\n",
       "      <td>2117</td>\n",
       "      <td>classA3808</td>\n",
       "      <td>113</td>\n",
       "      <td>0.002048</td>\n",
       "      <td>0.003931</td>\n",
       "      <td>0.000800</td>\n",
       "      <td>31.306618</td>\n",
       "      <td>31.306618</td>\n",
       "    </tr>\n",
       "    <tr>\n",
       "      <td>3477</td>\n",
       "      <td>classA3925</td>\n",
       "      <td>120</td>\n",
       "      <td>0.002134</td>\n",
       "      <td>0.004017</td>\n",
       "      <td>0.000887</td>\n",
       "      <td>31.300514</td>\n",
       "      <td>31.300514</td>\n",
       "    </tr>\n",
       "    <tr>\n",
       "      <td>649</td>\n",
       "      <td>classA4467</td>\n",
       "      <td>101</td>\n",
       "      <td>0.001893</td>\n",
       "      <td>0.003769</td>\n",
       "      <td>0.000649</td>\n",
       "      <td>31.196478</td>\n",
       "      <td>31.196478</td>\n",
       "    </tr>\n",
       "  </tbody>\n",
       "</table>\n",
       "</div>"
      ],
      "text/plain": [
       "            Word  TotFreq    tf-idf  tf-idf_0  tf-idf_1       diff   abs_diff\n",
       "5861  classB4094      166  0.002761  0.000658  0.004154 -34.962605  34.962605\n",
       "1354  classA4010      126  0.002247  0.004302  0.000885  34.167655  34.167655\n",
       "3884  classA3943      111  0.001994  0.003975  0.000681  32.942679  32.942679\n",
       "4668  classA4035      111  0.002007  0.003987  0.000696  32.912014  32.912014\n",
       "9615  classA4447      100  0.001843  0.003776  0.000561  32.150898  32.150898\n",
       "2951  classA4144      126  0.002223  0.004155  0.000942  32.124249  32.124249\n",
       "4876  classA3994      110  0.002001  0.003901  0.000741  31.594224  31.594224\n",
       "2117  classA3808      113  0.002048  0.003931  0.000800  31.306618  31.306618\n",
       "3477  classA3925      120  0.002134  0.004017  0.000887  31.300514  31.300514\n",
       "649   classA4467      101  0.001893  0.003769  0.000649  31.196478  31.196478"
      ]
     },
     "execution_count": 55,
     "metadata": {},
     "output_type": "execute_result"
    }
   ],
   "source": [
    "wrap2_df = df_to_freq_df(df,fit='df')\n",
    "wrap2_df[0].head(10)"
   ]
  },
  {
   "cell_type": "markdown",
   "metadata": {},
   "source": [
    "## Other Univariate Feature Selection Strategies"
   ]
  },
  {
   "cell_type": "markdown",
   "metadata": {},
   "source": [
    "### Comparison Metric"
   ]
  },
  {
   "cell_type": "markdown",
   "metadata": {},
   "source": [
    "To compare between the different strategies, we will use the following metric: the mean of the (ordered) indices corresponding to noise variables in the ranking. The higher this metric, the more the strategy separates noise from structure. We will start by calculating this metric for our tf-idf dataframes."
   ]
  },
  {
   "cell_type": "code",
   "execution_count": 57,
   "metadata": {},
   "outputs": [
    {
     "name": "stdout",
     "output_type": "stream",
     "text": [
      "First indices: [3396, 3589, 3590, 3712, 3862, 4013, 4276, 4306, 4319, 4368]\n",
      "Mean: 13568.425303389595\n",
      "Median: 13597.0\n"
     ]
    }
   ],
   "source": [
    "wrap_df_ord = wrap_df[0].reset_index(drop=True)\n",
    "tfidf_cat_ranks = []\n",
    "for i in wrap_df_ord.index:\n",
    "    word = wrap_df_ord.at[i,'Word']\n",
    "    if word.startswith('noise'):\n",
    "        tfidf_cat_ranks.append(i)\n",
    "\n",
    "print(f'First indices: {tfidf_cat_ranks[0:10]}')\n",
    "print(f'Mean: {np.mean(tfidf_cat_ranks)}')\n",
    "print(f'Median: {np.median(tfidf_cat_ranks)}')"
   ]
  },
  {
   "cell_type": "code",
   "execution_count": 58,
   "metadata": {},
   "outputs": [
    {
     "name": "stdout",
     "output_type": "stream",
     "text": [
      "First indices: [2936, 3002, 3003, 3175, 3186, 3255, 3262, 3633, 3649, 4001]\n",
      "Mean: 13352.088017854652\n",
      "Median: 13324.0\n"
     ]
    }
   ],
   "source": [
    "wrap2_df_ord = wrap2_df[0].reset_index(drop=True)\n",
    "tfidf_df_ranks = []\n",
    "for i in wrap2_df_ord.index:\n",
    "    word = wrap2_df_ord.at[i,'Word']\n",
    "    if word.startswith('noise'):\n",
    "        tfidf_df_ranks.append(i)\n",
    "\n",
    "print(f'First indices: {tfidf_df_ranks[0:10]}')\n",
    "print(f'Mean: {np.mean(tfidf_df_ranks)}')\n",
    "print(f'Median: {np.median(tfidf_df_ranks)}')"
   ]
  },
  {
   "cell_type": "code",
   "execution_count": 59,
   "metadata": {},
   "outputs": [
    {
     "data": {
      "image/png": "[encoded data removed]",
      "text/plain": [
       "<Figure size 1080x432 with 1 Axes>"
      ]
     },
     "metadata": {
      "needs_background": "light"
     },
     "output_type": "display_data"
    }
   ],
   "source": [
    "plt.figure(figsize=(15,6))\n",
    "y = tfidf_cat_ranks\n",
    "x = range(len(y))\n",
    "plt.plot(x,y,linewidth=2,label='tfidf-cat')\n",
    "y = tfidf_df_ranks\n",
    "x = range(len(y))\n",
    "plt.plot(x,y,linewidth=2,label='tfidf-df')\n",
    "plt.legend()\n",
    "plt.title('Metric Comparison')\n",
    "plt.show()"
   ]
  },
  {
   "cell_type": "code",
   "execution_count": 60,
   "metadata": {},
   "outputs": [
    {
     "data": {
      "image/png": "[encoded data removed]",
      "text/plain": [
       "<Figure size 1080x432 with 1 Axes>"
      ]
     },
     "metadata": {
      "needs_background": "light"
     },
     "output_type": "display_data"
    }
   ],
   "source": [
    "plt.figure(figsize=(15,6))\n",
    "y = tfidf_cat_ranks[0:150]\n",
    "x = range(len(y))\n",
    "plt.plot(x,y,linewidth=2,label='tfidf-cat')\n",
    "y = tfidf_df_ranks[0:150]\n",
    "x = range(len(y))\n",
    "plt.plot(x,y,linewidth=2,label='tfidf-df')\n",
    "plt.legend()\n",
    "plt.title('Metric Comparison: First Indices Detail')\n",
    "plt.show()"
   ]
  },
  {
   "cell_type": "markdown",
   "metadata": {},
   "source": [
    "We can see that the first strategy (fit='cat') selects relevant features better. "
   ]
  },
  {
   "cell_type": "markdown",
   "metadata": {},
   "source": [
    "### Mutual Information with Count Vectorizer"
   ]
  },
  {
   "cell_type": "code",
   "execution_count": 61,
   "metadata": {},
   "outputs": [],
   "source": [
    "from sklearn.feature_selection import mutual_info_classif,chi2\n",
    "from sklearn.feature_extraction.text import CountVectorizer"
   ]
  },
  {
   "cell_type": "code",
   "execution_count": 62,
   "metadata": {},
   "outputs": [
    {
     "data": {
      "text/html": [
       "<div>\n",
       "<style scoped>\n",
       "    .dataframe tbody tr th:only-of-type {\n",
       "        vertical-align: middle;\n",
       "    }\n",
       "\n",
       "    .dataframe tbody tr th {\n",
       "        vertical-align: top;\n",
       "    }\n",
       "\n",
       "    .dataframe thead th {\n",
       "        text-align: right;\n",
       "    }\n",
       "</style>\n",
       "<table border=\"1\" class=\"dataframe\">\n",
       "  <thead>\n",
       "    <tr style=\"text-align: right;\">\n",
       "      <th></th>\n",
       "      <th>target</th>\n",
       "      <th>text</th>\n",
       "    </tr>\n",
       "  </thead>\n",
       "  <tbody>\n",
       "    <tr>\n",
       "      <td>0</td>\n",
       "      <td>0</td>\n",
       "      <td>noise4846 noise2988 classA4337 noise2720 noise...</td>\n",
       "    </tr>\n",
       "    <tr>\n",
       "      <td>1</td>\n",
       "      <td>0</td>\n",
       "      <td>noise3385 noise2478 noise4008 noise5023 noise3...</td>\n",
       "    </tr>\n",
       "    <tr>\n",
       "      <td>2</td>\n",
       "      <td>0</td>\n",
       "      <td>classB1868 classB5729 noise3252 classB4127 noi...</td>\n",
       "    </tr>\n",
       "    <tr>\n",
       "      <td>3</td>\n",
       "      <td>1</td>\n",
       "      <td>noise3191 classA3144 noise5437 noise3545 class...</td>\n",
       "    </tr>\n",
       "    <tr>\n",
       "      <td>4</td>\n",
       "      <td>1</td>\n",
       "      <td>classB2565 noise5036 noise6097 noise2380 noise...</td>\n",
       "    </tr>\n",
       "  </tbody>\n",
       "</table>\n",
       "</div>"
      ],
      "text/plain": [
       "   target                                               text\n",
       "0       0  noise4846 noise2988 classA4337 noise2720 noise...\n",
       "1       0  noise3385 noise2478 noise4008 noise5023 noise3...\n",
       "2       0  classB1868 classB5729 noise3252 classB4127 noi...\n",
       "3       1  noise3191 classA3144 noise5437 noise3545 class...\n",
       "4       1  classB2565 noise5036 noise6097 noise2380 noise..."
      ]
     },
     "execution_count": 62,
     "metadata": {},
     "output_type": "execute_result"
    }
   ],
   "source": [
    "df_reset = df.reset_index(drop=True)\n",
    "df_reset.head()"
   ]
  },
  {
   "cell_type": "code",
   "execution_count": 63,
   "metadata": {},
   "outputs": [],
   "source": [
    "cv = CountVectorizer(lowercase=False)\n",
    "count_mat = cv.fit_transform(df_reset.text)"
   ]
  },
  {
   "cell_type": "code",
   "execution_count": 64,
   "metadata": {},
   "outputs": [
    {
     "data": {
      "text/plain": [
       "(2000, 20141)"
      ]
     },
     "execution_count": 64,
     "metadata": {},
     "output_type": "execute_result"
    }
   ],
   "source": [
    "count_mat.shape"
   ]
  },
  {
   "cell_type": "code",
   "execution_count": 65,
   "metadata": {},
   "outputs": [
    {
     "data": {
      "text/plain": [
       "'noise4846 noise2988 classA4337 noise2720 noise3676 noise4132 noise2570 noise4773 noise4460 noise3598 noise3853 noise3743 noise5951 classA3437 noise4479 noise5979 noise4681 classA5758 noise3687 noise3702 noise2311 noise3875 classA5418 noise2801 classB5481 noise3702 noise4347 noise5604 noise4345 noise2122 noise3215 noise4567 noise4696 noise4658 classA3226 noise4745 noise4771 classA5184 noise2855 noise3531 classA3818 noise4034 classA4581 noise3229 noise4369 classA4548 noise1155 noise5643 noise3112 '"
      ]
     },
     "execution_count": 65,
     "metadata": {},
     "output_type": "execute_result"
    }
   ],
   "source": [
    "df_reset.at[0,'text'][0:500]"
   ]
  },
  {
   "cell_type": "code",
   "execution_count": 69,
   "metadata": {},
   "outputs": [],
   "source": [
    "# let's check the result\n",
    "# create a dictionary with word count for first instance\n",
    "df_mi = pd.DataFrame()\n",
    "string = df_reset.at[0,'text']\n",
    "word_count = {}\n",
    "for w in string.split():\n",
    "    if w in word_count.keys():\n",
    "        word_count[w] += 1\n",
    "    else:\n",
    "        word_count[w] = 1"
   ]
  },
  {
   "cell_type": "code",
   "execution_count": 70,
   "metadata": {},
   "outputs": [
    {
     "name": "stdout",
     "output_type": "stream",
     "text": [
      "Check OK!\n"
     ]
    }
   ],
   "source": [
    "# check the results with my fit_transform matrix\n",
    "for w in word_count.keys():\n",
    "    col = cv.vocabulary_[w]\n",
    "    cv_value = count_mat.toarray()[0,col]\n",
    "    my_value = word_count[w]\n",
    "    if cv_value != my_value:\n",
    "        print(f'Error in word {w}')\n",
    "else:\n",
    "    print('Check OK!')"
   ]
  },
  {
   "cell_type": "code",
   "execution_count": 71,
   "metadata": {},
   "outputs": [
    {
     "data": {
      "text/plain": [
       "array([9.80310702e-05, 1.38177274e-03, 2.54247222e-04, ...,\n",
       "       1.27289681e-03, 9.72522350e-05, 1.17579870e-08])"
      ]
     },
     "execution_count": 71,
     "metadata": {},
     "output_type": "execute_result"
    }
   ],
   "source": [
    "mi_count = mutual_info_classif(count_mat,df_reset.target)\n",
    "mi_count"
   ]
  },
  {
   "cell_type": "code",
   "execution_count": 72,
   "metadata": {},
   "outputs": [
    {
     "data": {
      "text/plain": [
       "(20141,)"
      ]
     },
     "execution_count": 72,
     "metadata": {},
     "output_type": "execute_result"
    }
   ],
   "source": [
    "mi_count.shape"
   ]
  },
  {
   "cell_type": "code",
   "execution_count": 73,
   "metadata": {},
   "outputs": [],
   "source": [
    "# create df for this classifier\n",
    "mi_count_df = pd.DataFrame()\n",
    "word_list = cv.get_feature_names()\n",
    "for i,w in enumerate(word_list):\n",
    "    mi_count_df.at[i,'Word'] = w\n",
    "    index = cv.vocabulary_[w]\n",
    "    mi_count_df.at[i,'mi'] = mi_count[index]"
   ]
  },
  {
   "cell_type": "code",
   "execution_count": 74,
   "metadata": {},
   "outputs": [
    {
     "data": {
      "text/html": [
       "<div>\n",
       "<style scoped>\n",
       "    .dataframe tbody tr th:only-of-type {\n",
       "        vertical-align: middle;\n",
       "    }\n",
       "\n",
       "    .dataframe tbody tr th {\n",
       "        vertical-align: top;\n",
       "    }\n",
       "\n",
       "    .dataframe thead th {\n",
       "        text-align: right;\n",
       "    }\n",
       "</style>\n",
       "<table border=\"1\" class=\"dataframe\">\n",
       "  <thead>\n",
       "    <tr style=\"text-align: right;\">\n",
       "      <th></th>\n",
       "      <th>Word</th>\n",
       "      <th>mi</th>\n",
       "    </tr>\n",
       "  </thead>\n",
       "  <tbody>\n",
       "    <tr>\n",
       "      <td>0</td>\n",
       "      <td>classA1000</td>\n",
       "      <td>0.000098</td>\n",
       "    </tr>\n",
       "    <tr>\n",
       "      <td>1</td>\n",
       "      <td>classA1003</td>\n",
       "      <td>0.001382</td>\n",
       "    </tr>\n",
       "    <tr>\n",
       "      <td>2</td>\n",
       "      <td>classA1004</td>\n",
       "      <td>0.000254</td>\n",
       "    </tr>\n",
       "    <tr>\n",
       "      <td>3</td>\n",
       "      <td>classA1005</td>\n",
       "      <td>0.000220</td>\n",
       "    </tr>\n",
       "    <tr>\n",
       "      <td>4</td>\n",
       "      <td>classA1006</td>\n",
       "      <td>0.000460</td>\n",
       "    </tr>\n",
       "  </tbody>\n",
       "</table>\n",
       "</div>"
      ],
      "text/plain": [
       "         Word        mi\n",
       "0  classA1000  0.000098\n",
       "1  classA1003  0.001382\n",
       "2  classA1004  0.000254\n",
       "3  classA1005  0.000220\n",
       "4  classA1006  0.000460"
      ]
     },
     "execution_count": 74,
     "metadata": {},
     "output_type": "execute_result"
    }
   ],
   "source": [
    "mi_count_df.head()"
   ]
  },
  {
   "cell_type": "code",
   "execution_count": 75,
   "metadata": {},
   "outputs": [
    {
     "data": {
      "text/html": [
       "<div>\n",
       "<style scoped>\n",
       "    .dataframe tbody tr th:only-of-type {\n",
       "        vertical-align: middle;\n",
       "    }\n",
       "\n",
       "    .dataframe tbody tr th {\n",
       "        vertical-align: top;\n",
       "    }\n",
       "\n",
       "    .dataframe thead th {\n",
       "        text-align: right;\n",
       "    }\n",
       "</style>\n",
       "<table border=\"1\" class=\"dataframe\">\n",
       "  <thead>\n",
       "    <tr style=\"text-align: right;\">\n",
       "      <th></th>\n",
       "      <th>Word</th>\n",
       "      <th>mi</th>\n",
       "    </tr>\n",
       "  </thead>\n",
       "  <tbody>\n",
       "    <tr>\n",
       "      <td>0</td>\n",
       "      <td>classB4094</td>\n",
       "      <td>0.019394</td>\n",
       "    </tr>\n",
       "    <tr>\n",
       "      <td>1</td>\n",
       "      <td>classA4447</td>\n",
       "      <td>0.019139</td>\n",
       "    </tr>\n",
       "    <tr>\n",
       "      <td>2</td>\n",
       "      <td>classA4035</td>\n",
       "      <td>0.018570</td>\n",
       "    </tr>\n",
       "    <tr>\n",
       "      <td>3</td>\n",
       "      <td>classA4010</td>\n",
       "      <td>0.018068</td>\n",
       "    </tr>\n",
       "    <tr>\n",
       "      <td>4</td>\n",
       "      <td>classA3943</td>\n",
       "      <td>0.017962</td>\n",
       "    </tr>\n",
       "  </tbody>\n",
       "</table>\n",
       "</div>"
      ],
      "text/plain": [
       "         Word        mi\n",
       "0  classB4094  0.019394\n",
       "1  classA4447  0.019139\n",
       "2  classA4035  0.018570\n",
       "3  classA4010  0.018068\n",
       "4  classA3943  0.017962"
      ]
     },
     "execution_count": 75,
     "metadata": {},
     "output_type": "execute_result"
    }
   ],
   "source": [
    "mi_count_df = mi_count_df.sort_values(by='mi',ascending=False)\n",
    "mi_count_df = mi_count_df.reset_index(drop=True)\n",
    "mi_count_df.head()"
   ]
  },
  {
   "cell_type": "code",
   "execution_count": 76,
   "metadata": {},
   "outputs": [],
   "source": [
    "mi_count_ranks = []\n",
    "for i in mi_count_df.index:\n",
    "    word = mi_count_df.at[i,'Word']\n",
    "    if word.startswith('noise'):\n",
    "        mi_count_ranks.append(i)"
   ]
  },
  {
   "cell_type": "code",
   "execution_count": 77,
   "metadata": {},
   "outputs": [
    {
     "name": "stdout",
     "output_type": "stream",
     "text": [
      "First indices: [3859, 4085, 4110, 4321, 4838, 5071, 5084, 5127, 5187, 5188]\n",
      "Mean: 13954.79299762868\n",
      "Median: 14223.0\n"
     ]
    }
   ],
   "source": [
    "print(f'First indices: {mi_count_ranks[0:10]}')\n",
    "print(f'Mean: {np.mean(mi_count_ranks)}')\n",
    "print(f'Median: {np.median(mi_count_ranks)}')"
   ]
  },
  {
   "cell_type": "markdown",
   "metadata": {},
   "source": [
    "### Mutual Information with Tf-idf "
   ]
  },
  {
   "cell_type": "code",
   "execution_count": 78,
   "metadata": {},
   "outputs": [],
   "source": [
    "from sklearn.feature_extraction.text import TfidfVectorizer\n",
    "tf = TfidfVectorizer(lowercase=False)\n",
    "tf_mat = tf.fit_transform(df_reset.text)"
   ]
  },
  {
   "cell_type": "code",
   "execution_count": 79,
   "metadata": {},
   "outputs": [
    {
     "data": {
      "text/plain": [
       "array([0.0012227 , 0.00138177, 0.00025425, ..., 0.0012729 , 0.0021912 ,\n",
       "       0.00168254])"
      ]
     },
     "execution_count": 79,
     "metadata": {},
     "output_type": "execute_result"
    }
   ],
   "source": [
    "mi_tf = mutual_info_classif(tf_mat,df.target)\n",
    "mi_tf"
   ]
  },
  {
   "cell_type": "code",
   "execution_count": 80,
   "metadata": {},
   "outputs": [],
   "source": [
    "# create df for this classifier\n",
    "mi_tf_df = pd.DataFrame()\n",
    "word_list = cv.get_feature_names()\n",
    "\n",
    "for i,w in enumerate(word_list):\n",
    "    mi_tf_df.at[i,'Word'] = w\n",
    "    index = cv.vocabulary_[w]\n",
    "    mi_tf_df.at[i,'mi'] = mi_tf[index]\n",
    "    \n",
    "mi_tf_df = mi_tf_df.sort_values(by='mi',ascending=False)\n",
    "mi_tf_df = mi_tf_df.reset_index(drop=True)"
   ]
  },
  {
   "cell_type": "code",
   "execution_count": 81,
   "metadata": {},
   "outputs": [],
   "source": [
    "mi_tf_ranks = []\n",
    "for i in mi_tf_df.index:\n",
    "    word = mi_tf_df.at[i,'Word']\n",
    "    if word.startswith('noise'):\n",
    "        mi_tf_ranks.append(i)"
   ]
  },
  {
   "cell_type": "code",
   "execution_count": 82,
   "metadata": {},
   "outputs": [
    {
     "name": "stdout",
     "output_type": "stream",
     "text": [
      "First indices: [0, 1, 2, 3, 4, 5, 6, 7, 8, 9]\n",
      "Mean: 8217.861486957734\n",
      "Median: 7611.0\n"
     ]
    }
   ],
   "source": [
    "print(f'First indices: {mi_tf_ranks[0:10]}')\n",
    "print(f'Mean: {np.mean(mi_tf_ranks)}')\n",
    "print(f'Median: {np.median(mi_tf_ranks)}')"
   ]
  },
  {
   "cell_type": "code",
   "execution_count": 83,
   "metadata": {},
   "outputs": [
    {
     "data": {
      "text/html": [
       "<div>\n",
       "<style scoped>\n",
       "    .dataframe tbody tr th:only-of-type {\n",
       "        vertical-align: middle;\n",
       "    }\n",
       "\n",
       "    .dataframe tbody tr th {\n",
       "        vertical-align: top;\n",
       "    }\n",
       "\n",
       "    .dataframe thead th {\n",
       "        text-align: right;\n",
       "    }\n",
       "</style>\n",
       "<table border=\"1\" class=\"dataframe\">\n",
       "  <thead>\n",
       "    <tr style=\"text-align: right;\">\n",
       "      <th></th>\n",
       "      <th>Word</th>\n",
       "      <th>mi</th>\n",
       "    </tr>\n",
       "  </thead>\n",
       "  <tbody>\n",
       "    <tr>\n",
       "      <td>0</td>\n",
       "      <td>noise4058</td>\n",
       "      <td>0.123115</td>\n",
       "    </tr>\n",
       "    <tr>\n",
       "      <td>1</td>\n",
       "      <td>noise3726</td>\n",
       "      <td>0.122365</td>\n",
       "    </tr>\n",
       "    <tr>\n",
       "      <td>2</td>\n",
       "      <td>noise3940</td>\n",
       "      <td>0.122274</td>\n",
       "    </tr>\n",
       "    <tr>\n",
       "      <td>3</td>\n",
       "      <td>noise3824</td>\n",
       "      <td>0.121838</td>\n",
       "    </tr>\n",
       "    <tr>\n",
       "      <td>4</td>\n",
       "      <td>noise3846</td>\n",
       "      <td>0.121718</td>\n",
       "    </tr>\n",
       "    <tr>\n",
       "      <td>5</td>\n",
       "      <td>noise4089</td>\n",
       "      <td>0.121516</td>\n",
       "    </tr>\n",
       "    <tr>\n",
       "      <td>6</td>\n",
       "      <td>noise4054</td>\n",
       "      <td>0.121491</td>\n",
       "    </tr>\n",
       "    <tr>\n",
       "      <td>7</td>\n",
       "      <td>noise4208</td>\n",
       "      <td>0.121352</td>\n",
       "    </tr>\n",
       "    <tr>\n",
       "      <td>8</td>\n",
       "      <td>noise3954</td>\n",
       "      <td>0.121264</td>\n",
       "    </tr>\n",
       "    <tr>\n",
       "      <td>9</td>\n",
       "      <td>noise4200</td>\n",
       "      <td>0.121041</td>\n",
       "    </tr>\n",
       "  </tbody>\n",
       "</table>\n",
       "</div>"
      ],
      "text/plain": [
       "        Word        mi\n",
       "0  noise4058  0.123115\n",
       "1  noise3726  0.122365\n",
       "2  noise3940  0.122274\n",
       "3  noise3824  0.121838\n",
       "4  noise3846  0.121718\n",
       "5  noise4089  0.121516\n",
       "6  noise4054  0.121491\n",
       "7  noise4208  0.121352\n",
       "8  noise3954  0.121264\n",
       "9  noise4200  0.121041"
      ]
     },
     "execution_count": 83,
     "metadata": {},
     "output_type": "execute_result"
    }
   ],
   "source": [
    "mi_tf_df.head(10)"
   ]
  },
  {
   "cell_type": "markdown",
   "metadata": {},
   "source": [
    "### Chi2"
   ]
  },
  {
   "cell_type": "code",
   "execution_count": 84,
   "metadata": {},
   "outputs": [
    {
     "data": {
      "text/plain": [
       "(array([1996., 1997., 1999., ..., 1995., 1993., 1995.]),\n",
       " array([0.51472746, 0.50841568, 0.4957937 , ..., 0.52103765, 0.53364698,\n",
       "        0.52103765]))"
      ]
     },
     "execution_count": 84,
     "metadata": {},
     "output_type": "execute_result"
    }
   ],
   "source": [
    "from sklearn.feature_selection import chi2\n",
    "chi_count = chi2(count_mat,df.text)\n",
    "chi_count"
   ]
  },
  {
   "cell_type": "code",
   "execution_count": 92,
   "metadata": {},
   "outputs": [],
   "source": [
    "# create df for this classifier\n",
    "chi_df = pd.DataFrame()\n",
    "word_list = cv.get_feature_names()\n",
    "\n",
    "for i,w in enumerate(word_list):\n",
    "    chi_df.at[i,'Word'] = w\n",
    "    index = cv.vocabulary_[w]\n",
    "    chi_df.at[i,'chi-stat'] = chi_count[0][index]\n",
    "    chi_df.at[i,'p-val'] = chi_count[1][index]"
   ]
  },
  {
   "cell_type": "code",
   "execution_count": 93,
   "metadata": {},
   "outputs": [],
   "source": [
    "chi_df = chi_df.sort_values(by='chi-stat',ascending=False)\n",
    "chi_df = chi_df.reset_index(drop=True)"
   ]
  },
  {
   "cell_type": "code",
   "execution_count": 94,
   "metadata": {},
   "outputs": [],
   "source": [
    "chi_ranks = []\n",
    "for i in chi_df.index:\n",
    "    word = chi_df.at[i,'Word']\n",
    "    if word.startswith('noise'):\n",
    "        chi_ranks.append(i)"
   ]
  },
  {
   "cell_type": "code",
   "execution_count": 97,
   "metadata": {},
   "outputs": [
    {
     "data": {
      "text/html": [
       "<div>\n",
       "<style scoped>\n",
       "    .dataframe tbody tr th:only-of-type {\n",
       "        vertical-align: middle;\n",
       "    }\n",
       "\n",
       "    .dataframe tbody tr th {\n",
       "        vertical-align: top;\n",
       "    }\n",
       "\n",
       "    .dataframe thead th {\n",
       "        text-align: right;\n",
       "    }\n",
       "</style>\n",
       "<table border=\"1\" class=\"dataframe\">\n",
       "  <thead>\n",
       "    <tr style=\"text-align: right;\">\n",
       "      <th></th>\n",
       "      <th>Word</th>\n",
       "      <th>chi-stat</th>\n",
       "      <th>p-val</th>\n",
       "    </tr>\n",
       "  </thead>\n",
       "  <tbody>\n",
       "    <tr>\n",
       "      <td>0</td>\n",
       "      <td>noise7421</td>\n",
       "      <td>3998.000000</td>\n",
       "      <td>7.984779e-136</td>\n",
       "    </tr>\n",
       "    <tr>\n",
       "      <td>1</td>\n",
       "      <td>classB1491</td>\n",
       "      <td>3330.333333</td>\n",
       "      <td>5.553946e-70</td>\n",
       "    </tr>\n",
       "    <tr>\n",
       "      <td>2</td>\n",
       "      <td>classA1332</td>\n",
       "      <td>2996.000000</td>\n",
       "      <td>3.514525e-43</td>\n",
       "    </tr>\n",
       "    <tr>\n",
       "      <td>3</td>\n",
       "      <td>classB1509</td>\n",
       "      <td>2996.000000</td>\n",
       "      <td>3.514525e-43</td>\n",
       "    </tr>\n",
       "    <tr>\n",
       "      <td>4</td>\n",
       "      <td>classB6473</td>\n",
       "      <td>2996.000000</td>\n",
       "      <td>3.514525e-43</td>\n",
       "    </tr>\n",
       "    <tr>\n",
       "      <td>5</td>\n",
       "      <td>classA1685</td>\n",
       "      <td>2996.000000</td>\n",
       "      <td>3.514525e-43</td>\n",
       "    </tr>\n",
       "    <tr>\n",
       "      <td>6</td>\n",
       "      <td>classA1177</td>\n",
       "      <td>2996.000000</td>\n",
       "      <td>3.514525e-43</td>\n",
       "    </tr>\n",
       "    <tr>\n",
       "      <td>7</td>\n",
       "      <td>classA1396</td>\n",
       "      <td>2996.000000</td>\n",
       "      <td>3.514525e-43</td>\n",
       "    </tr>\n",
       "    <tr>\n",
       "      <td>8</td>\n",
       "      <td>classA6365</td>\n",
       "      <td>2795.000000</td>\n",
       "      <td>1.393646e-29</td>\n",
       "    </tr>\n",
       "    <tr>\n",
       "      <td>9</td>\n",
       "      <td>classA5897</td>\n",
       "      <td>2734.000000</td>\n",
       "      <td>7.009843e-26</td>\n",
       "    </tr>\n",
       "  </tbody>\n",
       "</table>\n",
       "</div>"
      ],
      "text/plain": [
       "         Word     chi-stat          p-val\n",
       "0   noise7421  3998.000000  7.984779e-136\n",
       "1  classB1491  3330.333333   5.553946e-70\n",
       "2  classA1332  2996.000000   3.514525e-43\n",
       "3  classB1509  2996.000000   3.514525e-43\n",
       "4  classB6473  2996.000000   3.514525e-43\n",
       "5  classA1685  2996.000000   3.514525e-43\n",
       "6  classA1177  2996.000000   3.514525e-43\n",
       "7  classA1396  2996.000000   3.514525e-43\n",
       "8  classA6365  2795.000000   1.393646e-29\n",
       "9  classA5897  2734.000000   7.009843e-26"
      ]
     },
     "execution_count": 97,
     "metadata": {},
     "output_type": "execute_result"
    }
   ],
   "source": [
    "chi_df.head(10)"
   ]
  },
  {
   "cell_type": "markdown",
   "metadata": {},
   "source": [
    "### Comparing Filtering Strategies"
   ]
  },
  {
   "cell_type": "code",
   "execution_count": 100,
   "metadata": {},
   "outputs": [
    {
     "data": {
      "image/png": "[encoded data removed]",
      "text/plain": [
       "<Figure size 1080x432 with 1 Axes>"
      ]
     },
     "metadata": {
      "needs_background": "light"
     },
     "output_type": "display_data"
    }
   ],
   "source": [
    "plt.figure(figsize=(15,6))\n",
    "y = tfidf_cat_ranks\n",
    "x = range(len(y))\n",
    "plt.plot(x,y,linewidth=2,label='tfidf-cat')\n",
    "y = tfidf_df_ranks\n",
    "plt.plot(x,y,linewidth=2,label='tfidf-df')\n",
    "y = mi_count_ranks\n",
    "plt.plot(x,y,linewidth=2,label='MI-count')\n",
    "y = mi_tf_ranks\n",
    "plt.plot(x,y,linewidth=2,label='MI-tf')\n",
    "y = chi_ranks\n",
    "plt.plot(x,y,linewidth=2,label='chi')\n",
    "plt.legend()\n",
    "plt.title('Metric Comparison')\n",
    "plt.show()"
   ]
  },
  {
   "cell_type": "code",
   "execution_count": 101,
   "metadata": {},
   "outputs": [
    {
     "data": {
      "image/png": "[encoded data removed]",
      "text/plain": [
       "<Figure size 1080x432 with 1 Axes>"
      ]
     },
     "metadata": {
      "needs_background": "light"
     },
     "output_type": "display_data"
    }
   ],
   "source": [
    "plt.figure(figsize=(15,6))\n",
    "y = tfidf_cat_ranks[0:150]\n",
    "x = range(len(y))\n",
    "plt.plot(x,y,linewidth=2,label='tfidf-cat')\n",
    "y = tfidf_df_ranks[0:150]\n",
    "plt.plot(x,y,linewidth=2,label='tfidf-df')\n",
    "y = mi_count_ranks[0:150]\n",
    "plt.plot(x,y,linewidth=2,label='MI-count')\n",
    "plt.legend()\n",
    "plt.title('Metric Comparison: First Indices Detail')\n",
    "plt.show()"
   ]
  },
  {
   "cell_type": "markdown",
   "metadata": {},
   "source": [
    "## Discarded ideas"
   ]
  },
  {
   "cell_type": "markdown",
   "metadata": {},
   "source": [
    "### Inefficient number generation procedure"
   ]
  },
  {
   "cell_type": "code",
   "execution_count": null,
   "metadata": {},
   "outputs": [],
   "source": [
    "# generate random integers\n",
    "probas_noise = np.random.random(50)\n",
    "probas_noise = probas_noise / np.sum(probas_noise) # normalize\n",
    "probas_noise = np.sort(probas_noise) # probability distribution\n",
    "probas_noise = np.cumsum(probas_noise) # cumulative\n",
    "probas_noise"
   ]
  },
  {
   "cell_type": "code",
   "execution_count": null,
   "metadata": {},
   "outputs": [],
   "source": [
    "# now I need a list of words\n",
    "words_noise = ['noise'+str(i) for i in range(50)] # words in this class\n",
    "print(words_noise)"
   ]
  },
  {
   "cell_type": "code",
   "execution_count": null,
   "metadata": {},
   "outputs": [],
   "source": [
    "# function to return index of random variable\n",
    "# based on probability\n",
    "def proba_to_index(proba,proba_list):\n",
    "    index = 0\n",
    "    cum_proba = np.cumsum(proba_list)\n",
    "    for i in range(len(cum_proba)):\n",
    "        if proba < cum_proba[i]:\n",
    "            index = i\n",
    "            break\n",
    "    return index"
   ]
  },
  {
   "cell_type": "code",
   "execution_count": null,
   "metadata": {},
   "outputs": [],
   "source": [
    "# function to generate random ocurrences of words\n",
    "# based on an (cumulative) probability\n",
    "def random_word(proba,word_list,proba_list):\n",
    "    word_proba = np.random.random()\n",
    "    index = 0\n",
    "    index = proba_to_index(word_proba,proba_list)\n",
    "    word = word_list[index]\n",
    "    return word"
   ]
  },
  {
   "cell_type": "code",
   "execution_count": null,
   "metadata": {},
   "outputs": [],
   "source": [
    "# example\n",
    "random_word(np.random.random(),words_noise,probas_noise)"
   ]
  },
  {
   "cell_type": "markdown",
   "metadata": {},
   "source": [
    "OK, we are good to go. Let's automate that with functions."
   ]
  },
  {
   "cell_type": "code",
   "execution_count": null,
   "metadata": {},
   "outputs": [],
   "source": [
    "def cum_proba(proba_list):\n",
    "    probas = np.array(proba_list)\n",
    "    probas = probas / np.sum(probas) # normalize\n",
    "    probas = np.sort(probas) # probability distribution\n",
    "    probas = np.cumsum(probas) # cumulative\n",
    "    return probas"
   ]
  },
  {
   "cell_type": "code",
   "execution_count": null,
   "metadata": {},
   "outputs": [],
   "source": [
    "def generate_proba_dist(size):\n",
    "    probas = np.random.random(50)\n",
    "    probas = cum_proba(probas)\n",
    "    return probas"
   ]
  },
  {
   "cell_type": "code",
   "execution_count": null,
   "metadata": {},
   "outputs": [],
   "source": [
    "def generate_word_list(size,name):\n",
    "    word_list = [str(name)+str(i) for i in range(size)]\n",
    "    return word_list"
   ]
  },
  {
   "cell_type": "code",
   "execution_count": null,
   "metadata": {},
   "outputs": [],
   "source": [
    "# create class A and B words and probas\n",
    "probas_classA = generate_proba_dist(50)\n",
    "words_classA = generate_word_list(50,'classA')\n",
    "probas_classB = generate_proba_dist(50)\n",
    "words_classB = generate_word_list(50,'classB')"
   ]
  },
  {
   "cell_type": "markdown",
   "metadata": {},
   "source": [
    "We have our probability distributions and our word lists in order. Now we will generate random texts, with the following criteria: noise type words will have the same probability to appear in any of the class A or class B texts. classA type words will be unlikely to appear to appear in classB texts, and likely to appear in class A texts. \n",
    "\n",
    "To start, we will use the following values: 60% noise words, 30% own class words, 10% other class words. The text length will also be randomized."
   ]
  },
  {
   "cell_type": "code",
   "execution_count": null,
   "metadata": {},
   "outputs": [],
   "source": [
    "proba_prueba = [0.6,0.3,0.1]\n",
    "proba_to_index(0.95,proba_prueba)"
   ]
  },
  {
   "cell_type": "code",
   "execution_count": null,
   "metadata": {},
   "outputs": [],
   "source": [
    "def generate_text(noise_vars,own_vars,\n",
    "                  other_vars,percents,\n",
    "                 min_len,max_len):\n",
    "    '''\n",
    "    Each argument is a tuple containing word_list([0]),\n",
    "    cumulative probability distribution ([1])\n",
    "    percents is a list with the percentage of each in the text\n",
    "    '''\n",
    "    length = np.random.randint(min_len,max_len)\n",
    "    text = ''\n",
    "    vars_list = [noise_vars,own_vars,other_vars]\n",
    "    for i in range(length):\n",
    "        class_proba = np.random.random()\n",
    "        index = proba_to_index(class_proba,percents)\n",
    "        word_list = vars_list[index][0]\n",
    "        proba_list = vars_list[index][1]\n",
    "        word_proba = np.random.random()\n",
    "        word = random_word(word_proba,word_list,proba_list)\n",
    "        text += word + ' '\n",
    "    return text"
   ]
  },
  {
   "cell_type": "markdown",
   "metadata": {},
   "source": [
    "Let's generate class A text."
   ]
  },
  {
   "cell_type": "code",
   "execution_count": null,
   "metadata": {},
   "outputs": [],
   "source": [
    "# variables for function\n",
    "noise_vars = [words_noise,probas_noise]\n",
    "classA_vars = [words_classA,probas_classA]\n",
    "classB_vars = [words_classB,probas_classB]\n",
    "percentsA = [0.6,0.3,0.1]\n",
    "percentsA = [0.6,0.1,0.3]"
   ]
  },
  {
   "cell_type": "code",
   "execution_count": null,
   "metadata": {},
   "outputs": [],
   "source": [
    "# example class A text\n",
    "sample_text = generate_text(noise_vars,classA_vars,\n",
    "                            classB_vars,percentsA,\n",
    "                           500,600)\n",
    "sample_text[0:1000]"
   ]
  },
  {
   "cell_type": "code",
   "execution_count": null,
   "metadata": {},
   "outputs": [],
   "source": [
    "# let's analyze it briefly\n",
    "word_list = sample_text.split()\n",
    "noise_count,A_count,B_count = 0,0,0\n",
    "for w in word_list:\n",
    "    if w.startswith('noise'):\n",
    "        noise_count += 1\n",
    "    elif w.startswith('classA'):\n",
    "        A_count += 1\n",
    "    else:\n",
    "        B_count += 1\n",
    "print(f'Counts\\nNoise: {noise_count}\\nA: {A_count}\\nB: {B_count}')"
   ]
  }
 ],
 "metadata": {
  "kernelspec": {
   "display_name": "Python 3",
   "language": "python",
   "name": "python3"
  },
  "language_info": {
   "codemirror_mode": {
    "name": "ipython",
    "version": 3
   },
   "file_extension": ".py",
   "mimetype": "text/x-python",
   "name": "python",
   "nbconvert_exporter": "python",
   "pygments_lexer": "ipython3",
   "version": "3.7.4"
  }
 },
 "nbformat": 4,
 "nbformat_minor": 2
}
