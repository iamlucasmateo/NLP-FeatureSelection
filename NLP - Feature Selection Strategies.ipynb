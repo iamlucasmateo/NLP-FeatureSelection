{
 "cells": [
  {
   "cell_type": "markdown",
   "metadata": {},
   "source": [
    "# Natural Language Processing: Feature and Model Selection "
   ]
  },
  {
   "cell_type": "code",
   "execution_count": 2,
   "metadata": {},
   "outputs": [],
   "source": [
    "import numpy as np\n",
    "import pandas as pd\n",
    "import matplotlib.pyplot as plt"
   ]
  },
  {
   "cell_type": "markdown",
   "metadata": {},
   "source": [
    "## Generating text corpus"
   ]
  },
  {
   "cell_type": "markdown",
   "metadata": {},
   "source": [
    "We will generate three types of words: noise, classA and classB. Each type will have a probability distribution. Each word in each type will also have a probability distribution. We will start with 50 words of each type. \n",
    "\n",
    "Let's start out trying a few ideas. To begin with, this function creates \"random words\" with a (slightly modified) normal distribution."
   ]
  },
  {
   "cell_type": "code",
   "execution_count": 3,
   "metadata": {},
   "outputs": [],
   "source": [
    "# random word generator\n",
    "def random_normal_word(mean,std,name):\n",
    "    number = np.random.normal(mean,std)\n",
    "    number = np.abs(number).astype('int64')\n",
    "    word = name + str(number)\n",
    "    return word"
   ]
  },
  {
   "cell_type": "code",
   "execution_count": 4,
   "metadata": {},
   "outputs": [
    {
     "data": {
      "text/plain": [
       "'noise1267'"
      ]
     },
     "execution_count": 4,
     "metadata": {},
     "output_type": "execute_result"
    }
   ],
   "source": [
    "# example\n",
    "random_normal_word(4000,1000,'noise')"
   ]
  },
  {
   "cell_type": "code",
   "execution_count": 5,
   "metadata": {},
   "outputs": [],
   "source": [
    "# function to return index of random variable\n",
    "# based on probability\n",
    "def proba_to_index(proba,proba_list):\n",
    "    index = 0\n",
    "    cum_proba = np.cumsum(proba_list)\n",
    "    for i in range(len(cum_proba)):\n",
    "        if proba < cum_proba[i]:\n",
    "            index = i\n",
    "            break\n",
    "    return index"
   ]
  },
  {
   "cell_type": "code",
   "execution_count": 6,
   "metadata": {},
   "outputs": [],
   "source": [
    "def generate_text(percents,min_len,max_len):\n",
    "    '''\n",
    "    percents is a list with the percentage of each type in the text.\n",
    "    percents[0] => 'classA'\n",
    "    percents[1] => 'classB'\n",
    "    percents[2] => 'noise'\n",
    "    '''\n",
    "    classes = ['classA','classB','noise']\n",
    "    length = np.random.randint(min_len,max_len)\n",
    "    text = ''\n",
    "    for i in range(length):\n",
    "        class_proba = np.random.random()\n",
    "        index = proba_to_index(class_proba,percents)\n",
    "        name = classes[index]\n",
    "        word = random_normal_word(4000,1000,name)\n",
    "        text += word + ' '\n",
    "    return text"
   ]
  },
  {
   "cell_type": "code",
   "execution_count": 7,
   "metadata": {},
   "outputs": [
    {
     "data": {
      "text/plain": [
       "'classB5308 noise2820 noise4783 noise4633 noise3652 classA4478 noise3905 noise2907 classA2372 classA4094 noise5944 classB3612 classA3931 noise3884 classA4416 noise2920 noise4355 classA5447 noise6151 classB2683 noise3601 noise3194 classA3891 noise4625 classA3789 noise5064 noise4585 noise3093 noise5084 noise4866 noise4630 noise4816 noise3725 classA5770 noise3275 noise2702 noise4453 noise2882 noise5373 classA2873 noise5402 classA4940 noise2311 classB4052 noise3201 classB1919 classA5678 noise6021 noi'"
      ]
     },
     "execution_count": 7,
     "metadata": {},
     "output_type": "execute_result"
    }
   ],
   "source": [
    "example = generate_text([0.3,0.1,0.6],500,1000)\n",
    "example[0:500]"
   ]
  },
  {
   "cell_type": "code",
   "execution_count": 8,
   "metadata": {},
   "outputs": [
    {
     "name": "stdout",
     "output_type": "stream",
     "text": [
      "Total words\n",
      "Noise: 499\n",
      "Class A: 235\n",
      "Class B: 80\n"
     ]
    }
   ],
   "source": [
    "# sanity check\n",
    "count_noise,count_A, count_B = 0,0,0\n",
    "for word in example.split():\n",
    "    if word.startswith('noise'):\n",
    "        count_noise += 1\n",
    "    elif word.startswith('classA'):\n",
    "        count_A += 1\n",
    "    else:\n",
    "        count_B += 1\n",
    "print(f'Total words\\nNoise: {count_noise}\\nClass A: {count_A}\\nClass B: {count_B}')"
   ]
  },
  {
   "cell_type": "markdown",
   "metadata": {},
   "source": [
    "We are ready to generate our corpus. We will construct 1000 samples of between 500 and 1000 words each."
   ]
  },
  {
   "cell_type": "code",
   "execution_count": 9,
   "metadata": {},
   "outputs": [
    {
     "data": {
      "text/plain": [
       "2000"
      ]
     },
     "execution_count": 9,
     "metadata": {},
     "output_type": "execute_result"
    }
   ],
   "source": [
    "# Let's say classes are split 60/40\n",
    "random_list = np.random.random(2000)\n",
    "target_list = []\n",
    "for r in random_list:\n",
    "    if r < 0.6:\n",
    "        target_list.append(1)\n",
    "    else:\n",
    "        target_list.append(0)\n",
    "\n",
    "len(target_list)"
   ]
  },
  {
   "cell_type": "code",
   "execution_count": 10,
   "metadata": {},
   "outputs": [
    {
     "data": {
      "text/html": [
       "<div>\n",
       "<style scoped>\n",
       "    .dataframe tbody tr th:only-of-type {\n",
       "        vertical-align: middle;\n",
       "    }\n",
       "\n",
       "    .dataframe tbody tr th {\n",
       "        vertical-align: top;\n",
       "    }\n",
       "\n",
       "    .dataframe thead th {\n",
       "        text-align: right;\n",
       "    }\n",
       "</style>\n",
       "<table border=\"1\" class=\"dataframe\">\n",
       "  <thead>\n",
       "    <tr style=\"text-align: right;\">\n",
       "      <th></th>\n",
       "      <th>target</th>\n",
       "    </tr>\n",
       "  </thead>\n",
       "  <tbody>\n",
       "    <tr>\n",
       "      <td>0</td>\n",
       "      <td>1</td>\n",
       "    </tr>\n",
       "    <tr>\n",
       "      <td>1</td>\n",
       "      <td>0</td>\n",
       "    </tr>\n",
       "    <tr>\n",
       "      <td>2</td>\n",
       "      <td>1</td>\n",
       "    </tr>\n",
       "    <tr>\n",
       "      <td>3</td>\n",
       "      <td>1</td>\n",
       "    </tr>\n",
       "    <tr>\n",
       "      <td>4</td>\n",
       "      <td>1</td>\n",
       "    </tr>\n",
       "  </tbody>\n",
       "</table>\n",
       "</div>"
      ],
      "text/plain": [
       "   target\n",
       "0       1\n",
       "1       0\n",
       "2       1\n",
       "3       1\n",
       "4       1"
      ]
     },
     "execution_count": 10,
     "metadata": {},
     "output_type": "execute_result"
    }
   ],
   "source": [
    "df = pd.DataFrame()\n",
    "df['target'] = target_list\n",
    "df.head()"
   ]
  },
  {
   "cell_type": "code",
   "execution_count": 11,
   "metadata": {},
   "outputs": [],
   "source": [
    "# create text for each instance\n",
    "# class A = 0, class B = 1\n",
    "df['text'] = ''\n",
    "df['text'].astype('object')\n",
    "for i in df.index:\n",
    "    if df.at[i,'target'] == 1:\n",
    "        text = generate_text([0.1,0.3,0.6],500,1000)\n",
    "        df.at[i,'text'] = text\n",
    "    else:\n",
    "        text = generate_text([0.3,0.1,0.6],500,1000)\n",
    "        df.at[i,'text'] = text"
   ]
  },
  {
   "cell_type": "code",
   "execution_count": 12,
   "metadata": {},
   "outputs": [
    {
     "data": {
      "text/html": [
       "<div>\n",
       "<style scoped>\n",
       "    .dataframe tbody tr th:only-of-type {\n",
       "        vertical-align: middle;\n",
       "    }\n",
       "\n",
       "    .dataframe tbody tr th {\n",
       "        vertical-align: top;\n",
       "    }\n",
       "\n",
       "    .dataframe thead th {\n",
       "        text-align: right;\n",
       "    }\n",
       "</style>\n",
       "<table border=\"1\" class=\"dataframe\">\n",
       "  <thead>\n",
       "    <tr style=\"text-align: right;\">\n",
       "      <th></th>\n",
       "      <th>target</th>\n",
       "      <th>text</th>\n",
       "    </tr>\n",
       "  </thead>\n",
       "  <tbody>\n",
       "    <tr>\n",
       "      <td>0</td>\n",
       "      <td>1</td>\n",
       "      <td>noise5713 classB3142 classB3654 noise4342 nois...</td>\n",
       "    </tr>\n",
       "    <tr>\n",
       "      <td>1</td>\n",
       "      <td>0</td>\n",
       "      <td>noise4931 classB2877 noise4053 noise3522 noise...</td>\n",
       "    </tr>\n",
       "    <tr>\n",
       "      <td>2</td>\n",
       "      <td>1</td>\n",
       "      <td>noise4347 noise3081 classB4933 noise3397 noise...</td>\n",
       "    </tr>\n",
       "    <tr>\n",
       "      <td>3</td>\n",
       "      <td>1</td>\n",
       "      <td>classA4770 classB6374 noise3429 noise4675 nois...</td>\n",
       "    </tr>\n",
       "    <tr>\n",
       "      <td>4</td>\n",
       "      <td>1</td>\n",
       "      <td>classB3454 noise6398 noise5217 noise2025 noise...</td>\n",
       "    </tr>\n",
       "  </tbody>\n",
       "</table>\n",
       "</div>"
      ],
      "text/plain": [
       "   target                                               text\n",
       "0       1  noise5713 classB3142 classB3654 noise4342 nois...\n",
       "1       0  noise4931 classB2877 noise4053 noise3522 noise...\n",
       "2       1  noise4347 noise3081 classB4933 noise3397 noise...\n",
       "3       1  classA4770 classB6374 noise3429 noise4675 nois...\n",
       "4       1  classB3454 noise6398 noise5217 noise2025 noise..."
      ]
     },
     "execution_count": 12,
     "metadata": {},
     "output_type": "execute_result"
    }
   ],
   "source": [
    "df.head()"
   ]
  },
  {
   "cell_type": "code",
   "execution_count": 13,
   "metadata": {},
   "outputs": [
    {
     "data": {
      "text/plain": [
       "0.392"
      ]
     },
     "execution_count": 13,
     "metadata": {},
     "output_type": "execute_result"
    }
   ],
   "source": [
    "# class A instances\n",
    "dfA = df[df.target == 0]\n",
    "# proportion\n",
    "dfA.shape[0] / df.shape[0]"
   ]
  },
  {
   "cell_type": "code",
   "execution_count": 15,
   "metadata": {},
   "outputs": [
    {
     "name": "stdout",
     "output_type": "stream",
     "text": [
      "Proporcion: 0.30095817126362945\n"
     ]
    }
   ],
   "source": [
    "# sanity check: class A percentage of words\n",
    "# in class A instances\n",
    "count_total = 0\n",
    "count_A = 0\n",
    "for i in dfA.index:\n",
    "    text = dfA.at[i,'text']\n",
    "    count_total += len(text.split())\n",
    "    for w in text.split():\n",
    "        if w.startswith('classA'):\n",
    "            count_A += 1\n",
    "print(f'Proporcion: {count_A / count_total}')"
   ]
  },
  {
   "cell_type": "markdown",
   "metadata": {},
   "source": [
    "## Tf-idf demonstration"
   ]
  },
  {
   "cell_type": "code",
   "execution_count": 16,
   "metadata": {},
   "outputs": [
    {
     "data": {
      "text/html": [
       "<div>\n",
       "<style scoped>\n",
       "    .dataframe tbody tr th:only-of-type {\n",
       "        vertical-align: middle;\n",
       "    }\n",
       "\n",
       "    .dataframe tbody tr th {\n",
       "        vertical-align: top;\n",
       "    }\n",
       "\n",
       "    .dataframe thead th {\n",
       "        text-align: right;\n",
       "    }\n",
       "</style>\n",
       "<table border=\"1\" class=\"dataframe\">\n",
       "  <thead>\n",
       "    <tr style=\"text-align: right;\">\n",
       "      <th></th>\n",
       "      <th>target</th>\n",
       "    </tr>\n",
       "  </thead>\n",
       "  <tbody>\n",
       "    <tr>\n",
       "      <td>0</td>\n",
       "      <td>0</td>\n",
       "    </tr>\n",
       "    <tr>\n",
       "      <td>1</td>\n",
       "      <td>0</td>\n",
       "    </tr>\n",
       "    <tr>\n",
       "      <td>2</td>\n",
       "      <td>0</td>\n",
       "    </tr>\n",
       "    <tr>\n",
       "      <td>3</td>\n",
       "      <td>1</td>\n",
       "    </tr>\n",
       "    <tr>\n",
       "      <td>4</td>\n",
       "      <td>1</td>\n",
       "    </tr>\n",
       "    <tr>\n",
       "      <td>5</td>\n",
       "      <td>0</td>\n",
       "    </tr>\n",
       "  </tbody>\n",
       "</table>\n",
       "</div>"
      ],
      "text/plain": [
       "   target\n",
       "0       0\n",
       "1       0\n",
       "2       0\n",
       "3       1\n",
       "4       1\n",
       "5       0"
      ]
     },
     "execution_count": 16,
     "metadata": {},
     "output_type": "execute_result"
    }
   ],
   "source": [
    "# df creation\n",
    "df_trial = pd.DataFrame()\n",
    "df_trial['target'] = [0,0,0,1,1,0]\n",
    "df_trial"
   ]
  },
  {
   "cell_type": "code",
   "execution_count": 17,
   "metadata": {},
   "outputs": [
    {
     "data": {
      "text/html": [
       "<div>\n",
       "<style scoped>\n",
       "    .dataframe tbody tr th:only-of-type {\n",
       "        vertical-align: middle;\n",
       "    }\n",
       "\n",
       "    .dataframe tbody tr th {\n",
       "        vertical-align: top;\n",
       "    }\n",
       "\n",
       "    .dataframe thead th {\n",
       "        text-align: right;\n",
       "    }\n",
       "</style>\n",
       "<table border=\"1\" class=\"dataframe\">\n",
       "  <thead>\n",
       "    <tr style=\"text-align: right;\">\n",
       "      <th></th>\n",
       "      <th>target</th>\n",
       "      <th>text</th>\n",
       "    </tr>\n",
       "  </thead>\n",
       "  <tbody>\n",
       "    <tr>\n",
       "      <td>0</td>\n",
       "      <td>0</td>\n",
       "      <td>a1 a1 b1 a1 c1 z1</td>\n",
       "    </tr>\n",
       "    <tr>\n",
       "      <td>1</td>\n",
       "      <td>0</td>\n",
       "      <td>b1 a1 b1 b1 c1 c1</td>\n",
       "    </tr>\n",
       "    <tr>\n",
       "      <td>2</td>\n",
       "      <td>0</td>\n",
       "      <td>b1 a1 b1 a1 c1 c1</td>\n",
       "    </tr>\n",
       "    <tr>\n",
       "      <td>3</td>\n",
       "      <td>1</td>\n",
       "      <td>b1 a1 x1 z1</td>\n",
       "    </tr>\n",
       "    <tr>\n",
       "      <td>4</td>\n",
       "      <td>1</td>\n",
       "      <td>a1</td>\n",
       "    </tr>\n",
       "    <tr>\n",
       "      <td>5</td>\n",
       "      <td>0</td>\n",
       "      <td>a1 z1</td>\n",
       "    </tr>\n",
       "  </tbody>\n",
       "</table>\n",
       "</div>"
      ],
      "text/plain": [
       "   target               text\n",
       "0       0  a1 a1 b1 a1 c1 z1\n",
       "1       0  b1 a1 b1 b1 c1 c1\n",
       "2       0  b1 a1 b1 a1 c1 c1\n",
       "3       1        b1 a1 x1 z1\n",
       "4       1                 a1\n",
       "5       0              a1 z1"
      ]
     },
     "execution_count": 17,
     "metadata": {},
     "output_type": "execute_result"
    }
   ],
   "source": [
    "# adding text column with made up words\n",
    "df_trial.at[0,'text'] = 'a1 a1 b1 a1 c1 z1'\n",
    "df_trial.at[1,'text'] = 'b1 a1 b1 b1 c1 c1'\n",
    "df_trial.at[2,'text'] = 'b1 a1 b1 a1 c1 c1'\n",
    "df_trial.at[3,'text'] = 'b1 a1 x1 z1'\n",
    "df_trial.at[4,'text'] = 'a1'\n",
    "df_trial.at[5,'text'] = 'a1 z1'\n",
    "df_trial"
   ]
  },
  {
   "cell_type": "markdown",
   "metadata": {},
   "source": [
    "### Sci-kit learn"
   ]
  },
  {
   "cell_type": "code",
   "execution_count": 18,
   "metadata": {},
   "outputs": [],
   "source": [
    "from sklearn.feature_extraction.text import TfidfVectorizer\n",
    "vectorizer = TfidfVectorizer(lowercase=True)\n",
    "fit_vectorizer = vectorizer.fit(df_trial.text)\n",
    "tfidf_trial = fit_vectorizer.transform(df_trial.text)"
   ]
  },
  {
   "cell_type": "code",
   "execution_count": 19,
   "metadata": {},
   "outputs": [
    {
     "data": {
      "text/plain": [
       "(6, 5)"
      ]
     },
     "execution_count": 19,
     "metadata": {},
     "output_type": "execute_result"
    }
   ],
   "source": [
    "tfidf_trial.shape"
   ]
  },
  {
   "cell_type": "code",
   "execution_count": null,
   "metadata": {},
   "outputs": [],
   "source": [
    "# list of words in corpus\n",
    "fit_vectorizer.get_feature_names()"
   ]
  },
  {
   "cell_type": "code",
   "execution_count": 20,
   "metadata": {},
   "outputs": [
    {
     "data": {
      "text/plain": [
       "{'a1': 0, 'b1': 1, 'c1': 2, 'z1': 4, 'x1': 3}"
      ]
     },
     "execution_count": 20,
     "metadata": {},
     "output_type": "execute_result"
    }
   ],
   "source": [
    "# dictionary matching word to matrix column\n",
    "fit_vectorizer.vocabulary_"
   ]
  },
  {
   "cell_type": "code",
   "execution_count": 21,
   "metadata": {},
   "outputs": [
    {
     "data": {
      "text/plain": [
       "matrix([[0.75831693, 0.33782317, 0.39422769, 0.        , 0.39422769],\n",
       "        [0.19314873, 0.77441376, 0.60247563, 0.        , 0.        ],\n",
       "        [0.43774852, 0.58503874, 0.6827195 , 0.        , 0.        ],\n",
       "        [0.31168683, 0.4165608 , 0.        , 0.70215656, 0.48611171],\n",
       "        [1.        , 0.        , 0.        , 0.        , 0.        ],\n",
       "        [0.53976033, 0.        , 0.        , 0.        , 0.84181874]])"
      ]
     },
     "execution_count": 21,
     "metadata": {},
     "output_type": "execute_result"
    }
   ],
   "source": [
    "# dense matrix representation\n",
    "tfidf_trial.todense()"
   ]
  },
  {
   "cell_type": "code",
   "execution_count": 22,
   "metadata": {},
   "outputs": [
    {
     "data": {
      "text/plain": [
       "array([[0.75831693, 0.33782317, 0.39422769, 0.        , 0.39422769],\n",
       "       [0.19314873, 0.77441376, 0.60247563, 0.        , 0.        ],\n",
       "       [0.43774852, 0.58503874, 0.6827195 , 0.        , 0.        ],\n",
       "       [0.31168683, 0.4165608 , 0.        , 0.70215656, 0.48611171],\n",
       "       [1.        , 0.        , 0.        , 0.        , 0.        ],\n",
       "       [0.53976033, 0.        , 0.        , 0.        , 0.84181874]])"
      ]
     },
     "execution_count": 22,
     "metadata": {},
     "output_type": "execute_result"
    }
   ],
   "source": [
    "# array representation\n",
    "trial_arr = tfidf_trial.toarray()\n",
    "trial_arr"
   ]
  },
  {
   "cell_type": "code",
   "execution_count": 23,
   "metadata": {},
   "outputs": [
    {
     "data": {
      "text/plain": [
       "array([3.24066135, 2.11383648, 1.67942281, 0.70215656, 1.72215813])"
      ]
     },
     "execution_count": 23,
     "metadata": {},
     "output_type": "execute_result"
    }
   ],
   "source": [
    "# apply function to each column\n",
    "np.apply_along_axis(np.sum,0,trial_arr)"
   ]
  },
  {
   "cell_type": "markdown",
   "metadata": {},
   "source": [
    "The above function gives us the sum of tf-idf values for each column. We will use it later for mean tf-idf."
   ]
  },
  {
   "cell_type": "code",
   "execution_count": 24,
   "metadata": {},
   "outputs": [
    {
     "name": "stdout",
     "output_type": "stream",
     "text": [
      "  (0, 4)\t0.39422768553293636\n",
      "  (0, 2)\t0.39422768553293636\n",
      "  (0, 1)\t0.3378231745907559\n",
      "  (0, 0)\t0.7583169302001058\n",
      "  (1, 2)\t0.6024756322681024\n",
      "  (1, 1)\t0.7744137645910423\n",
      "  (1, 0)\t0.19314873474884586\n",
      "  (2, 2)\t0.6827194968035845\n",
      "  (2, 1)\t0.5850387383458417\n",
      "  (2, 0)\t0.4377485160671207\n",
      "  (3, 4)\t0.4861117058129096\n",
      "  (3, 3)\t0.70215655540208\n",
      "  (3, 1)\t0.4165607989744412\n",
      "  (3, 0)\t0.3116868331118981\n",
      "  (4, 0)\t1.0\n",
      "  (5, 4)\t0.8418187357325301\n",
      "  (5, 0)\t0.5397603321564903\n"
     ]
    }
   ],
   "source": [
    "# sparse representation\n",
    "print(tfidf_trial)"
   ]
  },
  {
   "cell_type": "code",
   "execution_count": 30,
   "metadata": {},
   "outputs": [
    {
     "data": {
      "text/plain": [
       "[1, 4]"
      ]
     },
     "execution_count": 30,
     "metadata": {},
     "output_type": "execute_result"
    }
   ],
   "source": [
    "# choose specific word columns\n",
    "# say I want to choose columns for 'b1' and 'z1'\n",
    "words = ['b1','z1']\n",
    "columns = []\n",
    "for w in words:\n",
    "    column = fit_vectorizer.vocabulary_[w]\n",
    "    columns.append(column)\n",
    "columns"
   ]
  },
  {
   "cell_type": "code",
   "execution_count": 34,
   "metadata": {},
   "outputs": [
    {
     "data": {
      "text/plain": [
       "array([[0.33782317, 0.39422769],\n",
       "       [0.77441376, 0.        ],\n",
       "       [0.58503874, 0.        ],\n",
       "       [0.4165608 , 0.48611171],\n",
       "       [0.        , 0.        ],\n",
       "       [0.        , 0.84181874]])"
      ]
     },
     "execution_count": 34,
     "metadata": {},
     "output_type": "execute_result"
    }
   ],
   "source": [
    "filt_arr = trial_arr[:,columns]\n",
    "filt_arr"
   ]
  },
  {
   "cell_type": "markdown",
   "metadata": {},
   "source": [
    "Notice that there are methods that belong to <b>the vectorizer</b> (vocabulary,get_feature_names()) and there are methods that belong to <b>the matrix</b> (todense(),toarray()). "
   ]
  },
  {
   "cell_type": "markdown",
   "metadata": {},
   "source": [
    "## Word Frequency in our corpus"
   ]
  },
  {
   "cell_type": "code",
   "execution_count": 35,
   "metadata": {},
   "outputs": [
    {
     "name": "stdout",
     "output_type": "stream",
     "text": [
      "Total words: 1512554\n",
      "Sum of words OK\n"
     ]
    }
   ],
   "source": [
    "bag = []\n",
    "bag_neg = []\n",
    "bag_pos = []\n",
    "for i in df.index:\n",
    "    word_list = df.text[i].split()\n",
    "    bag.extend(word_list)\n",
    "    if df.target[i] == 1:\n",
    "        bag_pos.extend(word_list)\n",
    "    else:\n",
    "        bag_neg.extend(word_list)\n",
    "print(f'Total words: {len(bag)}')\n",
    "if len(bag) - len(bag_pos) - len(bag_neg) == 0:\n",
    "    print('Sum of words OK')\n",
    "else:\n",
    "    print('Please check')"
   ]
  },
  {
   "cell_type": "code",
   "execution_count": 50,
   "metadata": {},
   "outputs": [
    {
     "data": {
      "text/html": [
       "<div>\n",
       "<style scoped>\n",
       "    .dataframe tbody tr th:only-of-type {\n",
       "        vertical-align: middle;\n",
       "    }\n",
       "\n",
       "    .dataframe tbody tr th {\n",
       "        vertical-align: top;\n",
       "    }\n",
       "\n",
       "    .dataframe thead th {\n",
       "        text-align: right;\n",
       "    }\n",
       "</style>\n",
       "<table border=\"1\" class=\"dataframe\">\n",
       "  <thead>\n",
       "    <tr style=\"text-align: right;\">\n",
       "      <th></th>\n",
       "      <th>Word</th>\n",
       "      <th>TotFreq</th>\n",
       "    </tr>\n",
       "  </thead>\n",
       "  <tbody>\n",
       "    <tr>\n",
       "      <td>0</td>\n",
       "      <td>noise5713</td>\n",
       "      <td>82</td>\n",
       "    </tr>\n",
       "    <tr>\n",
       "      <td>1</td>\n",
       "      <td>classB3142</td>\n",
       "      <td>104</td>\n",
       "    </tr>\n",
       "    <tr>\n",
       "      <td>2</td>\n",
       "      <td>classB3654</td>\n",
       "      <td>122</td>\n",
       "    </tr>\n",
       "    <tr>\n",
       "      <td>3</td>\n",
       "      <td>noise4342</td>\n",
       "      <td>372</td>\n",
       "    </tr>\n",
       "    <tr>\n",
       "      <td>4</td>\n",
       "      <td>noise4411</td>\n",
       "      <td>331</td>\n",
       "    </tr>\n",
       "  </tbody>\n",
       "</table>\n",
       "</div>"
      ],
      "text/plain": [
       "         Word  TotFreq\n",
       "0   noise5713       82\n",
       "1  classB3142      104\n",
       "2  classB3654      122\n",
       "3   noise4342      372\n",
       "4   noise4411      331"
      ]
     },
     "execution_count": 50,
     "metadata": {},
     "output_type": "execute_result"
    }
   ],
   "source": [
    "import nltk\n",
    "freq_bag = nltk.FreqDist(bag)\n",
    "freq_df = pd.DataFrame(list(freq_bag.items()), columns = [\"Word\",\"TotFreq\"])\n",
    "freq_df.head()"
   ]
  },
  {
   "cell_type": "code",
   "execution_count": 51,
   "metadata": {},
   "outputs": [
    {
     "name": "stdout",
     "output_type": "stream",
     "text": [
      "Total words: 20183\n"
     ]
    }
   ],
   "source": [
    "print(f'Total words: {freq_df.shape[0]}')"
   ]
  },
  {
   "cell_type": "markdown",
   "metadata": {},
   "source": [
    "## Tf-idf vectorization in our corpus"
   ]
  },
  {
   "cell_type": "code",
   "execution_count": 106,
   "metadata": {},
   "outputs": [],
   "source": [
    "from sklearn.feature_extraction.text import TfidfVectorizer\n",
    "vectorizer = TfidfVectorizer(lowercase=False)\n",
    "fit_df_vectorizer = vectorizer.fit(df.text)\n",
    "tfidf_df = fit_df_vectorizer.transform(df.text)"
   ]
  },
  {
   "cell_type": "code",
   "execution_count": 87,
   "metadata": {},
   "outputs": [],
   "source": [
    "# vectorizer for each class\n",
    "A_vectorizer = TfidfVectorizer(lowercase=False)\n",
    "fit_A_vectorizer = A_vectorizer.fit(df.text)\n",
    "df_A = df[df.target == 0]\n",
    "tfidf_A = fit_A_vectorizer.transform(df_A.text)\n",
    "\n",
    "B_vectorizer = TfidfVectorizer(lowercase=False)\n",
    "fit_B_vectorizer = B_vectorizer.fit(df.text)\n",
    "df_B = df[df.target == 1]\n",
    "tfidf_B = fit_B_vectorizer.transform(df_B.text)"
   ]
  },
  {
   "cell_type": "code",
   "execution_count": 107,
   "metadata": {},
   "outputs": [],
   "source": [
    "# create array of tf-idf mean value \n",
    "# for each df and for each word\n",
    "total_means = np.apply_along_axis(np.mean,0,\n",
    "                                  tfidf_df.toarray())\n",
    "A_means = np.apply_along_axis(np.mean,0,\n",
    "                                  tfidf_A.toarray())\n",
    "B_means = np.apply_along_axis(np.mean,0,\n",
    "                                  tfidf_B.toarray())"
   ]
  },
  {
   "cell_type": "code",
   "execution_count": 99,
   "metadata": {},
   "outputs": [
    {
     "data": {
      "text/plain": [
       "array([1.02969725e-04, 2.11153938e-04, 1.84836182e-04, 0.00000000e+00,\n",
       "       1.64231499e-04, 9.02864600e-05, 7.91836269e-05, 7.82658757e-05,\n",
       "       8.32033902e-05, 1.91154825e-04])"
      ]
     },
     "execution_count": 99,
     "metadata": {},
     "output_type": "execute_result"
    }
   ],
   "source": [
    "A_means[0:10]"
   ]
  },
  {
   "cell_type": "code",
   "execution_count": 90,
   "metadata": {},
   "outputs": [
    {
     "data": {
      "text/plain": [
       "array([0.00000000e+00, 0.00000000e+00, 0.00000000e+00, 5.56994517e-05,\n",
       "       5.11608022e-05, 0.00000000e+00, 6.72281372e-05, 5.79088200e-05,\n",
       "       0.00000000e+00, 5.52993287e-05])"
      ]
     },
     "execution_count": 90,
     "metadata": {},
     "output_type": "execute_result"
    }
   ],
   "source": [
    "B_means[0:10]"
   ]
  },
  {
   "cell_type": "code",
   "execution_count": 109,
   "metadata": {},
   "outputs": [],
   "source": [
    "# list of words and indices\n",
    "df_words = fit_df_vectorizer.get_feature_names()\n",
    "df_indices = fit_df_vectorizer.vocabulary_\n",
    "A_words = fit_A_vectorizer.get_feature_names()\n",
    "A_indices = fit_A_vectorizer.vocabulary_\n",
    "B_words = fit_B_vectorizer.get_feature_names()\n",
    "B_indices = fit_B_vectorizer.vocabulary_"
   ]
  },
  {
   "cell_type": "code",
   "execution_count": 111,
   "metadata": {},
   "outputs": [
    {
     "data": {
      "text/html": [
       "<div>\n",
       "<style scoped>\n",
       "    .dataframe tbody tr th:only-of-type {\n",
       "        vertical-align: middle;\n",
       "    }\n",
       "\n",
       "    .dataframe tbody tr th {\n",
       "        vertical-align: top;\n",
       "    }\n",
       "\n",
       "    .dataframe thead th {\n",
       "        text-align: right;\n",
       "    }\n",
       "</style>\n",
       "<table border=\"1\" class=\"dataframe\">\n",
       "  <thead>\n",
       "    <tr style=\"text-align: right;\">\n",
       "      <th></th>\n",
       "      <th>Word</th>\n",
       "      <th>TotFreq</th>\n",
       "      <th>tf-idf</th>\n",
       "      <th>tf-idf_A</th>\n",
       "      <th>tf-idf_B</th>\n",
       "    </tr>\n",
       "  </thead>\n",
       "  <tbody>\n",
       "    <tr>\n",
       "      <td>0</td>\n",
       "      <td>noise5713</td>\n",
       "      <td>82</td>\n",
       "      <td>0.001598</td>\n",
       "      <td>0.001364</td>\n",
       "      <td>0.001748</td>\n",
       "    </tr>\n",
       "    <tr>\n",
       "      <td>1</td>\n",
       "      <td>classB3142</td>\n",
       "      <td>104</td>\n",
       "      <td>0.001888</td>\n",
       "      <td>0.000564</td>\n",
       "      <td>0.002742</td>\n",
       "    </tr>\n",
       "    <tr>\n",
       "      <td>2</td>\n",
       "      <td>classB3654</td>\n",
       "      <td>122</td>\n",
       "      <td>0.002177</td>\n",
       "      <td>0.001278</td>\n",
       "      <td>0.002756</td>\n",
       "    </tr>\n",
       "    <tr>\n",
       "      <td>3</td>\n",
       "      <td>noise4342</td>\n",
       "      <td>372</td>\n",
       "      <td>0.004766</td>\n",
       "      <td>0.004636</td>\n",
       "      <td>0.004850</td>\n",
       "    </tr>\n",
       "    <tr>\n",
       "      <td>4</td>\n",
       "      <td>noise4411</td>\n",
       "      <td>331</td>\n",
       "      <td>0.004454</td>\n",
       "      <td>0.004228</td>\n",
       "      <td>0.004600</td>\n",
       "    </tr>\n",
       "  </tbody>\n",
       "</table>\n",
       "</div>"
      ],
      "text/plain": [
       "         Word  TotFreq    tf-idf  tf-idf_A  tf-idf_B\n",
       "0   noise5713       82  0.001598  0.001364  0.001748\n",
       "1  classB3142      104  0.001888  0.000564  0.002742\n",
       "2  classB3654      122  0.002177  0.001278  0.002756\n",
       "3   noise4342      372  0.004766  0.004636  0.004850\n",
       "4   noise4411      331  0.004454  0.004228  0.004600"
      ]
     },
     "execution_count": 111,
     "metadata": {},
     "output_type": "execute_result"
    }
   ],
   "source": [
    "# add tf-idf values for each word to word df\n",
    "for i in freq_df.index:\n",
    "    word = freq_df.at[i,'Word']\n",
    "    col_index = df_indices[word]\n",
    "    freq_df.at[i,'tf-idf'] = total_means[col_index]\n",
    "    if word in A_words:\n",
    "        col_A_index = A_indices[word]\n",
    "        freq_df.at[i,'tf-idf_A'] = A_means[col_A_index]\n",
    "    if word in B_words:\n",
    "        col_B_index = B_indices[word]\n",
    "        freq_df.at[i,'tf-idf_B'] = B_means[col_B_index]\n",
    "\n",
    "freq_df.head()"
   ]
  },
  {
   "cell_type": "code",
   "execution_count": 112,
   "metadata": {},
   "outputs": [
    {
     "data": {
      "text/html": [
       "<div>\n",
       "<style scoped>\n",
       "    .dataframe tbody tr th:only-of-type {\n",
       "        vertical-align: middle;\n",
       "    }\n",
       "\n",
       "    .dataframe tbody tr th {\n",
       "        vertical-align: top;\n",
       "    }\n",
       "\n",
       "    .dataframe thead th {\n",
       "        text-align: right;\n",
       "    }\n",
       "</style>\n",
       "<table border=\"1\" class=\"dataframe\">\n",
       "  <thead>\n",
       "    <tr style=\"text-align: right;\">\n",
       "      <th></th>\n",
       "      <th>Word</th>\n",
       "      <th>TotFreq</th>\n",
       "      <th>tf-idf</th>\n",
       "      <th>tf-idf_A</th>\n",
       "      <th>tf-idf_B</th>\n",
       "      <th>diff</th>\n",
       "      <th>abs_diff</th>\n",
       "    </tr>\n",
       "  </thead>\n",
       "  <tbody>\n",
       "    <tr>\n",
       "      <td>7205</td>\n",
       "      <td>classA3897</td>\n",
       "      <td>130</td>\n",
       "      <td>0.002282</td>\n",
       "      <td>0.004322</td>\n",
       "      <td>0.000966</td>\n",
       "      <td>33.552447</td>\n",
       "      <td>33.552447</td>\n",
       "    </tr>\n",
       "    <tr>\n",
       "      <td>3351</td>\n",
       "      <td>classA3634</td>\n",
       "      <td>122</td>\n",
       "      <td>0.002147</td>\n",
       "      <td>0.004186</td>\n",
       "      <td>0.000832</td>\n",
       "      <td>33.545183</td>\n",
       "      <td>33.545183</td>\n",
       "    </tr>\n",
       "    <tr>\n",
       "      <td>2469</td>\n",
       "      <td>classA3990</td>\n",
       "      <td>112</td>\n",
       "      <td>0.002052</td>\n",
       "      <td>0.004090</td>\n",
       "      <td>0.000738</td>\n",
       "      <td>33.519792</td>\n",
       "      <td>33.519792</td>\n",
       "    </tr>\n",
       "    <tr>\n",
       "      <td>9522</td>\n",
       "      <td>classA4049</td>\n",
       "      <td>117</td>\n",
       "      <td>0.002082</td>\n",
       "      <td>0.004074</td>\n",
       "      <td>0.000798</td>\n",
       "      <td>32.760406</td>\n",
       "      <td>32.760406</td>\n",
       "    </tr>\n",
       "    <tr>\n",
       "      <td>9944</td>\n",
       "      <td>classA4041</td>\n",
       "      <td>119</td>\n",
       "      <td>0.002131</td>\n",
       "      <td>0.004108</td>\n",
       "      <td>0.000857</td>\n",
       "      <td>32.507099</td>\n",
       "      <td>32.507099</td>\n",
       "    </tr>\n",
       "    <tr>\n",
       "      <td>957</td>\n",
       "      <td>classA3989</td>\n",
       "      <td>139</td>\n",
       "      <td>0.002369</td>\n",
       "      <td>0.004340</td>\n",
       "      <td>0.001098</td>\n",
       "      <td>32.420633</td>\n",
       "      <td>32.420633</td>\n",
       "    </tr>\n",
       "    <tr>\n",
       "      <td>3568</td>\n",
       "      <td>classA3684</td>\n",
       "      <td>111</td>\n",
       "      <td>0.002021</td>\n",
       "      <td>0.003964</td>\n",
       "      <td>0.000769</td>\n",
       "      <td>31.950291</td>\n",
       "      <td>31.950291</td>\n",
       "    </tr>\n",
       "  </tbody>\n",
       "</table>\n",
       "</div>"
      ],
      "text/plain": [
       "            Word  TotFreq    tf-idf  tf-idf_A  tf-idf_B       diff   abs_diff\n",
       "7205  classA3897      130  0.002282  0.004322  0.000966  33.552447  33.552447\n",
       "3351  classA3634      122  0.002147  0.004186  0.000832  33.545183  33.545183\n",
       "2469  classA3990      112  0.002052  0.004090  0.000738  33.519792  33.519792\n",
       "9522  classA4049      117  0.002082  0.004074  0.000798  32.760406  32.760406\n",
       "9944  classA4041      119  0.002131  0.004108  0.000857  32.507099  32.507099\n",
       "957   classA3989      139  0.002369  0.004340  0.001098  32.420633  32.420633\n",
       "3568  classA3684      111  0.002021  0.003964  0.000769  31.950291  31.950291"
      ]
     },
     "execution_count": 112,
     "metadata": {},
     "output_type": "execute_result"
    }
   ],
   "source": [
    "# normalized difference for ease of display\n",
    "freq_df['diff'] = (freq_df['tf-idf_A'] - freq_df['tf-idf_B'])*10000\n",
    "freq_df['abs_diff'] = abs(freq_df['diff'])\n",
    "freq_df = freq_df.sort_values(by='abs_diff',ascending=False)\n",
    "freq_df.head(7)"
   ]
  },
  {
   "cell_type": "code",
   "execution_count": 113,
   "metadata": {},
   "outputs": [
    {
     "data": {
      "text/html": [
       "<div>\n",
       "<style scoped>\n",
       "    .dataframe tbody tr th:only-of-type {\n",
       "        vertical-align: middle;\n",
       "    }\n",
       "\n",
       "    .dataframe tbody tr th {\n",
       "        vertical-align: top;\n",
       "    }\n",
       "\n",
       "    .dataframe thead th {\n",
       "        text-align: right;\n",
       "    }\n",
       "</style>\n",
       "<table border=\"1\" class=\"dataframe\">\n",
       "  <thead>\n",
       "    <tr style=\"text-align: right;\">\n",
       "      <th></th>\n",
       "      <th>Word</th>\n",
       "      <th>TotFreq</th>\n",
       "      <th>tf-idf</th>\n",
       "      <th>tf-idf_A</th>\n",
       "      <th>tf-idf_B</th>\n",
       "      <th>diff</th>\n",
       "      <th>abs_diff</th>\n",
       "    </tr>\n",
       "  </thead>\n",
       "  <tbody>\n",
       "    <tr>\n",
       "      <td>13580</td>\n",
       "      <td>classA1533</td>\n",
       "      <td>5</td>\n",
       "      <td>0.000144</td>\n",
       "      <td>0.000144</td>\n",
       "      <td>0.000144</td>\n",
       "      <td>0.004924</td>\n",
       "      <td>0.004924</td>\n",
       "    </tr>\n",
       "    <tr>\n",
       "      <td>5999</td>\n",
       "      <td>noise3192</td>\n",
       "      <td>275</td>\n",
       "      <td>0.003841</td>\n",
       "      <td>0.003840</td>\n",
       "      <td>0.003841</td>\n",
       "      <td>-0.004658</td>\n",
       "      <td>0.004658</td>\n",
       "    </tr>\n",
       "    <tr>\n",
       "      <td>15200</td>\n",
       "      <td>noise1465</td>\n",
       "      <td>21</td>\n",
       "      <td>0.000543</td>\n",
       "      <td>0.000543</td>\n",
       "      <td>0.000543</td>\n",
       "      <td>-0.004637</td>\n",
       "      <td>0.004637</td>\n",
       "    </tr>\n",
       "    <tr>\n",
       "      <td>13370</td>\n",
       "      <td>classB6998</td>\n",
       "      <td>3</td>\n",
       "      <td>0.000101</td>\n",
       "      <td>0.000102</td>\n",
       "      <td>0.000101</td>\n",
       "      <td>0.003846</td>\n",
       "      <td>0.003846</td>\n",
       "    </tr>\n",
       "    <tr>\n",
       "      <td>6651</td>\n",
       "      <td>noise1111</td>\n",
       "      <td>5</td>\n",
       "      <td>0.000158</td>\n",
       "      <td>0.000157</td>\n",
       "      <td>0.000158</td>\n",
       "      <td>-0.001541</td>\n",
       "      <td>0.001541</td>\n",
       "    </tr>\n",
       "    <tr>\n",
       "      <td>17158</td>\n",
       "      <td>noise1142</td>\n",
       "      <td>5</td>\n",
       "      <td>0.000157</td>\n",
       "      <td>0.000157</td>\n",
       "      <td>0.000157</td>\n",
       "      <td>-0.000904</td>\n",
       "      <td>0.000904</td>\n",
       "    </tr>\n",
       "    <tr>\n",
       "      <td>9716</td>\n",
       "      <td>noise6439</td>\n",
       "      <td>19</td>\n",
       "      <td>0.000494</td>\n",
       "      <td>0.000494</td>\n",
       "      <td>0.000494</td>\n",
       "      <td>0.000180</td>\n",
       "      <td>0.000180</td>\n",
       "    </tr>\n",
       "  </tbody>\n",
       "</table>\n",
       "</div>"
      ],
      "text/plain": [
       "             Word  TotFreq    tf-idf  tf-idf_A  tf-idf_B      diff  abs_diff\n",
       "13580  classA1533        5  0.000144  0.000144  0.000144  0.004924  0.004924\n",
       "5999    noise3192      275  0.003841  0.003840  0.003841 -0.004658  0.004658\n",
       "15200   noise1465       21  0.000543  0.000543  0.000543 -0.004637  0.004637\n",
       "13370  classB6998        3  0.000101  0.000102  0.000101  0.003846  0.003846\n",
       "6651    noise1111        5  0.000158  0.000157  0.000158 -0.001541  0.001541\n",
       "17158   noise1142        5  0.000157  0.000157  0.000157 -0.000904  0.000904\n",
       "9716    noise6439       19  0.000494  0.000494  0.000494  0.000180  0.000180"
      ]
     },
     "execution_count": 113,
     "metadata": {},
     "output_type": "execute_result"
    }
   ],
   "source": [
    "freq_df.tail(7)"
   ]
  },
  {
   "cell_type": "markdown",
   "metadata": {},
   "source": [
    "We can see the pattern here: the words with more (absolute) tf-idf difference for the two classes are the most frequent words of the most frequent class. That is, the word number is near the mean of the underlying normal distribution (which was if 4000 you recall) and the class is the most prevalent one (A). On the other hand, the least difference belongs to words that are noise or unfrequent words. \n",
    "\n",
    "(In the following section we study a slightly different strategy, that will give A and B words a similar importance, and leave noise words further behind). \n",
    "\n",
    "Let's plot it."
   ]
  },
  {
   "cell_type": "code",
   "execution_count": 114,
   "metadata": {},
   "outputs": [],
   "source": [
    "# word class to compare\n",
    "for i in freq_df.index:\n",
    "    word = freq_df.at[i,'Word']\n",
    "    if word.startswith('noise'):\n",
    "        freq_df.at[i,'class'] = 'noise'\n",
    "    elif word.startswith('classA'):\n",
    "        freq_df.at[i,'class'] = 'A'\n",
    "    else:\n",
    "        freq_df.at[i,'class'] = 'B'"
   ]
  },
  {
   "cell_type": "code",
   "execution_count": 115,
   "metadata": {},
   "outputs": [
    {
     "data": {
      "text/html": [
       "<div>\n",
       "<style scoped>\n",
       "    .dataframe tbody tr th:only-of-type {\n",
       "        vertical-align: middle;\n",
       "    }\n",
       "\n",
       "    .dataframe tbody tr th {\n",
       "        vertical-align: top;\n",
       "    }\n",
       "\n",
       "    .dataframe thead th {\n",
       "        text-align: right;\n",
       "    }\n",
       "</style>\n",
       "<table border=\"1\" class=\"dataframe\">\n",
       "  <thead>\n",
       "    <tr style=\"text-align: right;\">\n",
       "      <th></th>\n",
       "      <th>Word</th>\n",
       "      <th>TotFreq</th>\n",
       "      <th>tf-idf</th>\n",
       "      <th>tf-idf_A</th>\n",
       "      <th>tf-idf_B</th>\n",
       "      <th>diff</th>\n",
       "      <th>abs_diff</th>\n",
       "      <th>class</th>\n",
       "    </tr>\n",
       "  </thead>\n",
       "  <tbody>\n",
       "    <tr>\n",
       "      <td>7205</td>\n",
       "      <td>classA3897</td>\n",
       "      <td>130</td>\n",
       "      <td>0.002282</td>\n",
       "      <td>0.004322</td>\n",
       "      <td>0.000966</td>\n",
       "      <td>33.552447</td>\n",
       "      <td>33.552447</td>\n",
       "      <td>A</td>\n",
       "    </tr>\n",
       "    <tr>\n",
       "      <td>3351</td>\n",
       "      <td>classA3634</td>\n",
       "      <td>122</td>\n",
       "      <td>0.002147</td>\n",
       "      <td>0.004186</td>\n",
       "      <td>0.000832</td>\n",
       "      <td>33.545183</td>\n",
       "      <td>33.545183</td>\n",
       "      <td>A</td>\n",
       "    </tr>\n",
       "    <tr>\n",
       "      <td>2469</td>\n",
       "      <td>classA3990</td>\n",
       "      <td>112</td>\n",
       "      <td>0.002052</td>\n",
       "      <td>0.004090</td>\n",
       "      <td>0.000738</td>\n",
       "      <td>33.519792</td>\n",
       "      <td>33.519792</td>\n",
       "      <td>A</td>\n",
       "    </tr>\n",
       "    <tr>\n",
       "      <td>9522</td>\n",
       "      <td>classA4049</td>\n",
       "      <td>117</td>\n",
       "      <td>0.002082</td>\n",
       "      <td>0.004074</td>\n",
       "      <td>0.000798</td>\n",
       "      <td>32.760406</td>\n",
       "      <td>32.760406</td>\n",
       "      <td>A</td>\n",
       "    </tr>\n",
       "    <tr>\n",
       "      <td>9944</td>\n",
       "      <td>classA4041</td>\n",
       "      <td>119</td>\n",
       "      <td>0.002131</td>\n",
       "      <td>0.004108</td>\n",
       "      <td>0.000857</td>\n",
       "      <td>32.507099</td>\n",
       "      <td>32.507099</td>\n",
       "      <td>A</td>\n",
       "    </tr>\n",
       "  </tbody>\n",
       "</table>\n",
       "</div>"
      ],
      "text/plain": [
       "            Word  TotFreq    tf-idf  tf-idf_A  tf-idf_B       diff   abs_diff  \\\n",
       "7205  classA3897      130  0.002282  0.004322  0.000966  33.552447  33.552447   \n",
       "3351  classA3634      122  0.002147  0.004186  0.000832  33.545183  33.545183   \n",
       "2469  classA3990      112  0.002052  0.004090  0.000738  33.519792  33.519792   \n",
       "9522  classA4049      117  0.002082  0.004074  0.000798  32.760406  32.760406   \n",
       "9944  classA4041      119  0.002131  0.004108  0.000857  32.507099  32.507099   \n",
       "\n",
       "     class  \n",
       "7205     A  \n",
       "3351     A  \n",
       "2469     A  \n",
       "9522     A  \n",
       "9944     A  "
      ]
     },
     "execution_count": 115,
     "metadata": {},
     "output_type": "execute_result"
    }
   ],
   "source": [
    "freq_df.head()"
   ]
  },
  {
   "cell_type": "code",
   "execution_count": 116,
   "metadata": {},
   "outputs": [],
   "source": [
    "freq_A = freq_df[freq_df['class'] == 'A']\n",
    "freq_A = freq_A.sort_values(by='abs_diff',ascending=False).head(7)\n",
    "freq_noise = freq_df[freq_df['class'] == 'noise']\n",
    "freq_noise = freq_noise.sort_values(by='abs_diff',ascending=False).head(7)\n",
    "freq_B = freq_df[freq_df['class'] == 'B']\n",
    "freq_B = freq_B.sort_values(by='abs_diff',ascending=False).head(7)"
   ]
  },
  {
   "cell_type": "code",
   "execution_count": 117,
   "metadata": {},
   "outputs": [
    {
     "data": {
      "text/html": [
       "<div>\n",
       "<style scoped>\n",
       "    .dataframe tbody tr th:only-of-type {\n",
       "        vertical-align: middle;\n",
       "    }\n",
       "\n",
       "    .dataframe tbody tr th {\n",
       "        vertical-align: top;\n",
       "    }\n",
       "\n",
       "    .dataframe thead th {\n",
       "        text-align: right;\n",
       "    }\n",
       "</style>\n",
       "<table border=\"1\" class=\"dataframe\">\n",
       "  <thead>\n",
       "    <tr style=\"text-align: right;\">\n",
       "      <th></th>\n",
       "      <th>Word</th>\n",
       "      <th>TotFreq</th>\n",
       "      <th>tf-idf</th>\n",
       "      <th>tf-idf_A</th>\n",
       "      <th>tf-idf_B</th>\n",
       "      <th>diff</th>\n",
       "      <th>abs_diff</th>\n",
       "      <th>class</th>\n",
       "    </tr>\n",
       "  </thead>\n",
       "  <tbody>\n",
       "    <tr>\n",
       "      <td>7205</td>\n",
       "      <td>classA3897</td>\n",
       "      <td>130</td>\n",
       "      <td>0.002282</td>\n",
       "      <td>0.004322</td>\n",
       "      <td>0.000966</td>\n",
       "      <td>33.552447</td>\n",
       "      <td>33.552447</td>\n",
       "      <td>A</td>\n",
       "    </tr>\n",
       "    <tr>\n",
       "      <td>3351</td>\n",
       "      <td>classA3634</td>\n",
       "      <td>122</td>\n",
       "      <td>0.002147</td>\n",
       "      <td>0.004186</td>\n",
       "      <td>0.000832</td>\n",
       "      <td>33.545183</td>\n",
       "      <td>33.545183</td>\n",
       "      <td>A</td>\n",
       "    </tr>\n",
       "    <tr>\n",
       "      <td>2469</td>\n",
       "      <td>classA3990</td>\n",
       "      <td>112</td>\n",
       "      <td>0.002052</td>\n",
       "      <td>0.004090</td>\n",
       "      <td>0.000738</td>\n",
       "      <td>33.519792</td>\n",
       "      <td>33.519792</td>\n",
       "      <td>A</td>\n",
       "    </tr>\n",
       "    <tr>\n",
       "      <td>9522</td>\n",
       "      <td>classA4049</td>\n",
       "      <td>117</td>\n",
       "      <td>0.002082</td>\n",
       "      <td>0.004074</td>\n",
       "      <td>0.000798</td>\n",
       "      <td>32.760406</td>\n",
       "      <td>32.760406</td>\n",
       "      <td>A</td>\n",
       "    </tr>\n",
       "    <tr>\n",
       "      <td>9944</td>\n",
       "      <td>classA4041</td>\n",
       "      <td>119</td>\n",
       "      <td>0.002131</td>\n",
       "      <td>0.004108</td>\n",
       "      <td>0.000857</td>\n",
       "      <td>32.507099</td>\n",
       "      <td>32.507099</td>\n",
       "      <td>A</td>\n",
       "    </tr>\n",
       "    <tr>\n",
       "      <td>957</td>\n",
       "      <td>classA3989</td>\n",
       "      <td>139</td>\n",
       "      <td>0.002369</td>\n",
       "      <td>0.004340</td>\n",
       "      <td>0.001098</td>\n",
       "      <td>32.420633</td>\n",
       "      <td>32.420633</td>\n",
       "      <td>A</td>\n",
       "    </tr>\n",
       "    <tr>\n",
       "      <td>3568</td>\n",
       "      <td>classA3684</td>\n",
       "      <td>111</td>\n",
       "      <td>0.002021</td>\n",
       "      <td>0.003964</td>\n",
       "      <td>0.000769</td>\n",
       "      <td>31.950291</td>\n",
       "      <td>31.950291</td>\n",
       "      <td>A</td>\n",
       "    </tr>\n",
       "  </tbody>\n",
       "</table>\n",
       "</div>"
      ],
      "text/plain": [
       "            Word  TotFreq    tf-idf  tf-idf_A  tf-idf_B       diff   abs_diff  \\\n",
       "7205  classA3897      130  0.002282  0.004322  0.000966  33.552447  33.552447   \n",
       "3351  classA3634      122  0.002147  0.004186  0.000832  33.545183  33.545183   \n",
       "2469  classA3990      112  0.002052  0.004090  0.000738  33.519792  33.519792   \n",
       "9522  classA4049      117  0.002082  0.004074  0.000798  32.760406  32.760406   \n",
       "9944  classA4041      119  0.002131  0.004108  0.000857  32.507099  32.507099   \n",
       "957   classA3989      139  0.002369  0.004340  0.001098  32.420633  32.420633   \n",
       "3568  classA3684      111  0.002021  0.003964  0.000769  31.950291  31.950291   \n",
       "\n",
       "     class  \n",
       "7205     A  \n",
       "3351     A  \n",
       "2469     A  \n",
       "9522     A  \n",
       "9944     A  \n",
       "957      A  \n",
       "3568     A  "
      ]
     },
     "execution_count": 117,
     "metadata": {},
     "output_type": "execute_result"
    }
   ],
   "source": [
    "freq_A"
   ]
  },
  {
   "cell_type": "code",
   "execution_count": 118,
   "metadata": {},
   "outputs": [
    {
     "data": {
      "image/png": "[encoded data removed]",
      "text/plain": [
       "<Figure size 1080x360 with 3 Axes>"
      ]
     },
     "metadata": {
      "needs_background": "light"
     },
     "output_type": "display_data"
    }
   ],
   "source": [
    "fig,ax = plt.subplots(1,3,figsize=(15,5),sharey=True)\n",
    "ax[0].bar(freq_A.Word,freq_A.abs_diff)\n",
    "ax[0].set_xticklabels(freq_A.Word, rotation=45)\n",
    "ax[1].bar(freq_B.Word,freq_B.abs_diff,color='orange')\n",
    "ax[1].set_xticklabels(freq_B.Word, rotation=45)\n",
    "ax[2].bar(freq_noise.Word,freq_noise.abs_diff,color='green')\n",
    "ax[2].set_xticklabels(freq_noise.Word, rotation=45)\n",
    "plt.suptitle('Tf-Idf differences for the 3 classes',size=20)\n",
    "plt.show()"
   ]
  },
  {
   "cell_type": "markdown",
   "metadata": {},
   "source": [
    "## Functions for generalizing this tasks"
   ]
  },
  {
   "cell_type": "code",
   "execution_count": 154,
   "metadata": {},
   "outputs": [],
   "source": [
    "def df_to_bag(df_X):\n",
    "    '''\n",
    "    Takes df_X (string), return bag of words\n",
    "    (in df format)\n",
    "    Requires NLTK\n",
    "    '''\n",
    "    bag = []\n",
    "    for i in df_X.index:\n",
    "        word_list = df_X[i].split()\n",
    "        bag.extend(word_list)\n",
    "    freq_bag = nltk.FreqDist(bag)\n",
    "    bag_df = pd.DataFrame(list(freq_bag.items()), columns = [\"Word\",\"TotFreq\"])\n",
    "    return bag_df"
   ]
  },
  {
   "cell_type": "code",
   "execution_count": 122,
   "metadata": {},
   "outputs": [
    {
     "data": {
      "text/html": [
       "<div>\n",
       "<style scoped>\n",
       "    .dataframe tbody tr th:only-of-type {\n",
       "        vertical-align: middle;\n",
       "    }\n",
       "\n",
       "    .dataframe tbody tr th {\n",
       "        vertical-align: top;\n",
       "    }\n",
       "\n",
       "    .dataframe thead th {\n",
       "        text-align: right;\n",
       "    }\n",
       "</style>\n",
       "<table border=\"1\" class=\"dataframe\">\n",
       "  <thead>\n",
       "    <tr style=\"text-align: right;\">\n",
       "      <th></th>\n",
       "      <th>Word</th>\n",
       "      <th>TotFreq</th>\n",
       "    </tr>\n",
       "  </thead>\n",
       "  <tbody>\n",
       "    <tr>\n",
       "      <td>0</td>\n",
       "      <td>noise5713</td>\n",
       "      <td>164</td>\n",
       "    </tr>\n",
       "    <tr>\n",
       "      <td>1</td>\n",
       "      <td>classB3142</td>\n",
       "      <td>208</td>\n",
       "    </tr>\n",
       "    <tr>\n",
       "      <td>2</td>\n",
       "      <td>classB3654</td>\n",
       "      <td>244</td>\n",
       "    </tr>\n",
       "    <tr>\n",
       "      <td>3</td>\n",
       "      <td>noise4342</td>\n",
       "      <td>744</td>\n",
       "    </tr>\n",
       "    <tr>\n",
       "      <td>4</td>\n",
       "      <td>noise4411</td>\n",
       "      <td>662</td>\n",
       "    </tr>\n",
       "  </tbody>\n",
       "</table>\n",
       "</div>"
      ],
      "text/plain": [
       "         Word  TotFreq\n",
       "0   noise5713      164\n",
       "1  classB3142      208\n",
       "2  classB3654      244\n",
       "3   noise4342      744\n",
       "4   noise4411      662"
      ]
     },
     "execution_count": 122,
     "metadata": {},
     "output_type": "execute_result"
    }
   ],
   "source": [
    "func_bag = df_to_bag(df.text)\n",
    "func_bag.head()"
   ]
  },
  {
   "cell_type": "code",
   "execution_count": 215,
   "metadata": {},
   "outputs": [],
   "source": [
    "def df_to_tfidf(df,text_col,target,fit='cat'):\n",
    "    '''\n",
    "    Takes as input a df and the name of the target column.\n",
    "    Returns a list with information about each category:\n",
    "    category name, tf-idf matrix, tf-idf mean for each word\n",
    "    Requires pandas,sklearn TdidfVectorizer\n",
    "    fit parameter: if 'df', tf-idf Vectorizer fit on whole df.\n",
    "    if 'cat', fit in each category\n",
    "    '''\n",
    "    tfidf_list = []\n",
    "    X = df[text_col]\n",
    "    y = df[target]\n",
    "    vectorizer = TfidfVectorizer(lowercase=False)\n",
    "    df_vecto = vectorizer.fit(X)\n",
    "    fit_vecto = df_vecto.transform(X)\n",
    "    means_arr = np.apply_along_axis(np.mean,0,\n",
    "                                  fit_vecto.toarray())\n",
    "    tfidf_list.append(['df',df_vecto,fit_vecto,means_arr])\n",
    "    for i in y.unique():\n",
    "        vect_aux = TfidfVectorizer(lowercase=False)\n",
    "        if fit == 'cat':\n",
    "            df_aux = df[df[target] == i]\n",
    "            X_aux = df_aux[text_col]\n",
    "            vect_aux_transf = vect_aux.fit_transform(X_aux)\n",
    "        elif fit == 'df':\n",
    "            vect_aux_fit = vect_aux.fit(X)\n",
    "            df_aux = df[df[target] == i]\n",
    "            X_aux = df_aux[text_col]\n",
    "            vect_aux_transf = vect_aux.transform(X_aux)\n",
    "        means_arr = np.apply_along_axis(np.mean,0,\n",
    "                                  vect_aux_transf.toarray())\n",
    "        tfidf_list.append([i,vect_aux,\n",
    "                           vect_aux_transf,means_arr])\n",
    "    return tfidf_list"
   ]
  },
  {
   "cell_type": "code",
   "execution_count": 124,
   "metadata": {},
   "outputs": [
    {
     "data": {
      "text/plain": [
       "['df', TfidfVectorizer(analyzer='word', binary=False, decode_error='strict',\n",
       "                 dtype=<class 'numpy.float64'>, encoding='utf-8',\n",
       "                 input='content', lowercase=False, max_df=1.0, max_features=None,\n",
       "                 min_df=1, ngram_range=(1, 1), norm='l2', preprocessor=None,\n",
       "                 smooth_idf=True, stop_words=None, strip_accents=None,\n",
       "                 sublinear_tf=False, token_pattern='(?u)\\\\b\\\\w\\\\w+\\\\b',\n",
       "                 tokenizer=None, use_idf=True, vocabulary=None), <2000x20183 sparse matrix of type '<class 'numpy.float64'>'\n",
       " \twith 1439577 stored elements in Compressed Sparse Row format>, array([4.03641320e-05, 8.27723435e-05, 7.24557832e-05, ...,\n",
       "        3.78045481e-05, 9.86634495e-05, 6.10642486e-05])]"
      ]
     },
     "execution_count": 124,
     "metadata": {},
     "output_type": "execute_result"
    }
   ],
   "source": [
    "func_tfidf = df_to_tfidf(df,'text','target')\n",
    "func_tfidf[0]"
   ]
  },
  {
   "cell_type": "code",
   "execution_count": 197,
   "metadata": {},
   "outputs": [],
   "source": [
    "def tfidf_cat(bag_df,tfidf_list):\n",
    "    '''\n",
    "    Takes a bag of words df extracted from a\n",
    "    dataset, its corresponding tf-idf list \n",
    "    (containing category names, tf-idf object, \n",
    "    tf-idf mean values for each category and word)\n",
    "    Returns a df with tf-idf values and differences\n",
    "    for each word.\n",
    "    bag_df must have a 'Word' column\n",
    "    '''\n",
    "    df_words = tfidf_list[0][1].get_feature_names()\n",
    "    df_indices = tfidf_list[0][1].vocabulary_\n",
    "    for i in bag_df.index:\n",
    "        # assign tf-idf values to each word (total)\n",
    "        word = bag_df.at[i,'Word']\n",
    "        col_index = df_indices[word]\n",
    "        df_means = tfidf_list[0][3]\n",
    "        bag_df.at[i,'tf-idf'] = df_means[col_index]\n",
    "        # assign tf-idf values to each word (each category)\n",
    "        for j in range(1,len(tfidf_list)):\n",
    "            cat_words = tfidf_list[j][1].get_feature_names()\n",
    "            cat_name = tfidf_list[j][0]\n",
    "            if word not in cat_words:\n",
    "                bag_df.at[i,'tf-idf_'+str(cat_name)] = 0\n",
    "            else:\n",
    "                cat_indices = tfidf_list[j][1].vocabulary_\n",
    "                col_index = cat_indices[word]\n",
    "                cat_means = tfidf_list[j][3]\n",
    "                bag_df.at[i,'tf-idf_'+str(cat_name)] = cat_means[col_index]\n",
    "    return bag_df"
   ]
  },
  {
   "cell_type": "code",
   "execution_count": 183,
   "metadata": {},
   "outputs": [
    {
     "data": {
      "text/html": [
       "<div>\n",
       "<style scoped>\n",
       "    .dataframe tbody tr th:only-of-type {\n",
       "        vertical-align: middle;\n",
       "    }\n",
       "\n",
       "    .dataframe tbody tr th {\n",
       "        vertical-align: top;\n",
       "    }\n",
       "\n",
       "    .dataframe thead th {\n",
       "        text-align: right;\n",
       "    }\n",
       "</style>\n",
       "<table border=\"1\" class=\"dataframe\">\n",
       "  <thead>\n",
       "    <tr style=\"text-align: right;\">\n",
       "      <th></th>\n",
       "      <th>Word</th>\n",
       "      <th>TotFreq</th>\n",
       "      <th>tf-idf</th>\n",
       "      <th>tf-idf_1</th>\n",
       "      <th>tf-idf_0</th>\n",
       "    </tr>\n",
       "  </thead>\n",
       "  <tbody>\n",
       "    <tr>\n",
       "      <td>0</td>\n",
       "      <td>noise5713</td>\n",
       "      <td>164</td>\n",
       "      <td>0.001598</td>\n",
       "      <td>0.001733</td>\n",
       "      <td>0.001445</td>\n",
       "    </tr>\n",
       "    <tr>\n",
       "      <td>1</td>\n",
       "      <td>classB3142</td>\n",
       "      <td>208</td>\n",
       "      <td>0.001888</td>\n",
       "      <td>0.002521</td>\n",
       "      <td>0.000735</td>\n",
       "    </tr>\n",
       "    <tr>\n",
       "      <td>2</td>\n",
       "      <td>classB3654</td>\n",
       "      <td>244</td>\n",
       "      <td>0.002177</td>\n",
       "      <td>0.002630</td>\n",
       "      <td>0.001466</td>\n",
       "    </tr>\n",
       "    <tr>\n",
       "      <td>3</td>\n",
       "      <td>noise4342</td>\n",
       "      <td>744</td>\n",
       "      <td>0.004766</td>\n",
       "      <td>0.004863</td>\n",
       "      <td>0.004833</td>\n",
       "    </tr>\n",
       "    <tr>\n",
       "      <td>4</td>\n",
       "      <td>noise4411</td>\n",
       "      <td>662</td>\n",
       "      <td>0.004454</td>\n",
       "      <td>0.004624</td>\n",
       "      <td>0.004386</td>\n",
       "    </tr>\n",
       "  </tbody>\n",
       "</table>\n",
       "</div>"
      ],
      "text/plain": [
       "         Word  TotFreq    tf-idf  tf-idf_1  tf-idf_0\n",
       "0   noise5713      164  0.001598  0.001733  0.001445\n",
       "1  classB3142      208  0.001888  0.002521  0.000735\n",
       "2  classB3654      244  0.002177  0.002630  0.001466\n",
       "3   noise4342      744  0.004766  0.004863  0.004833\n",
       "4   noise4411      662  0.004454  0.004624  0.004386"
      ]
     },
     "execution_count": 183,
     "metadata": {},
     "output_type": "execute_result"
    }
   ],
   "source": [
    "func_df = tfidf_cat(func_bag,func_tfidf)\n",
    "func_df.head()"
   ]
  },
  {
   "cell_type": "code",
   "execution_count": 159,
   "metadata": {},
   "outputs": [],
   "source": [
    "def col_diff(df,col0,col1):\n",
    "    df['diff'] = (df[col0] - df[col1])*10000\n",
    "    df['abs_diff'] = np.abs(df['diff'])\n",
    "    df = df.sort_values(by='abs_diff',ascending=False)\n",
    "    return df"
   ]
  },
  {
   "cell_type": "code",
   "execution_count": 202,
   "metadata": {},
   "outputs": [
    {
     "data": {
      "text/html": [
       "<div>\n",
       "<style scoped>\n",
       "    .dataframe tbody tr th:only-of-type {\n",
       "        vertical-align: middle;\n",
       "    }\n",
       "\n",
       "    .dataframe tbody tr th {\n",
       "        vertical-align: top;\n",
       "    }\n",
       "\n",
       "    .dataframe thead th {\n",
       "        text-align: right;\n",
       "    }\n",
       "</style>\n",
       "<table border=\"1\" class=\"dataframe\">\n",
       "  <thead>\n",
       "    <tr style=\"text-align: right;\">\n",
       "      <th></th>\n",
       "      <th>Word</th>\n",
       "      <th>TotFreq</th>\n",
       "      <th>tf-idf</th>\n",
       "      <th>tf-idf_1</th>\n",
       "      <th>tf-idf_0</th>\n",
       "      <th>diff</th>\n",
       "      <th>abs_diff</th>\n",
       "    </tr>\n",
       "  </thead>\n",
       "  <tbody>\n",
       "    <tr>\n",
       "      <td>2469</td>\n",
       "      <td>classA3990</td>\n",
       "      <td>224</td>\n",
       "      <td>0.002052</td>\n",
       "      <td>0.000923</td>\n",
       "      <td>0.003492</td>\n",
       "      <td>-25.694313</td>\n",
       "      <td>25.694313</td>\n",
       "    </tr>\n",
       "    <tr>\n",
       "      <td>3351</td>\n",
       "      <td>classA3634</td>\n",
       "      <td>244</td>\n",
       "      <td>0.002147</td>\n",
       "      <td>0.001032</td>\n",
       "      <td>0.003576</td>\n",
       "      <td>-25.439023</td>\n",
       "      <td>25.439023</td>\n",
       "    </tr>\n",
       "    <tr>\n",
       "      <td>7205</td>\n",
       "      <td>classA3897</td>\n",
       "      <td>260</td>\n",
       "      <td>0.002282</td>\n",
       "      <td>0.001186</td>\n",
       "      <td>0.003710</td>\n",
       "      <td>-25.238741</td>\n",
       "      <td>25.238741</td>\n",
       "    </tr>\n",
       "    <tr>\n",
       "      <td>9522</td>\n",
       "      <td>classA4049</td>\n",
       "      <td>234</td>\n",
       "      <td>0.002082</td>\n",
       "      <td>0.000994</td>\n",
       "      <td>0.003480</td>\n",
       "      <td>-24.859073</td>\n",
       "      <td>24.859073</td>\n",
       "    </tr>\n",
       "    <tr>\n",
       "      <td>9327</td>\n",
       "      <td>classB3973</td>\n",
       "      <td>270</td>\n",
       "      <td>0.002349</td>\n",
       "      <td>0.003196</td>\n",
       "      <td>0.000715</td>\n",
       "      <td>24.812624</td>\n",
       "      <td>24.812624</td>\n",
       "    </tr>\n",
       "  </tbody>\n",
       "</table>\n",
       "</div>"
      ],
      "text/plain": [
       "            Word  TotFreq    tf-idf  tf-idf_1  tf-idf_0       diff   abs_diff\n",
       "2469  classA3990      224  0.002052  0.000923  0.003492 -25.694313  25.694313\n",
       "3351  classA3634      244  0.002147  0.001032  0.003576 -25.439023  25.439023\n",
       "7205  classA3897      260  0.002282  0.001186  0.003710 -25.238741  25.238741\n",
       "9522  classA4049      234  0.002082  0.000994  0.003480 -24.859073  24.859073\n",
       "9327  classB3973      270  0.002349  0.003196  0.000715  24.812624  24.812624"
      ]
     },
     "execution_count": 202,
     "metadata": {},
     "output_type": "execute_result"
    }
   ],
   "source": [
    "func_df = col_diff(func_df,'tf-idf_1','tf-idf_0')\n",
    "func_df.head()"
   ]
  },
  {
   "cell_type": "code",
   "execution_count": 470,
   "metadata": {},
   "outputs": [],
   "source": [
    "# values to plot\n",
    "func_freq_A = func_df[func_df['Word'].apply(lambda x: x.startswith('classA'))]\n",
    "func_freq_A = func_freq_A.sort_values(by='abs_diff',ascending=False).head(7)\n",
    "func_freq_noise = func_df[func_df['Word'].apply(lambda x: x.startswith('noise'))]\n",
    "func_freq_noise = func_freq_noise.sort_values(by='abs_diff',ascending=False).head(7)\n",
    "func_freq_B = func_df[func_df['Word'].apply(lambda x: x.startswith('classB'))]\n",
    "func_freq_B = func_freq_B.sort_values(by='abs_diff',ascending=False).head(7)"
   ]
  },
  {
   "cell_type": "code",
   "execution_count": 472,
   "metadata": {},
   "outputs": [
    {
     "data": {
      "image/png": "[encoded data removed]",
      "text/plain": [
       "<Figure size 1080x360 with 3 Axes>"
      ]
     },
     "metadata": {
      "needs_background": "light"
     },
     "output_type": "display_data"
    }
   ],
   "source": [
    "# plots\n",
    "fig,ax = plt.subplots(1,3,figsize=(15,5),sharey=True)\n",
    "ax[0].bar(func_freq_A.Word,func_freq_A.abs_diff)\n",
    "ax[0].set_xticklabels(func_freq_A.Word, rotation=45)\n",
    "ax[1].bar(func_freq_B.Word,func_freq_B.abs_diff,color='orange')\n",
    "ax[1].set_xticklabels(freq_B.Word, rotation=45)\n",
    "ax[2].bar(func_freq_noise.Word,func_freq_noise.abs_diff,color='green')\n",
    "ax[2].set_xticklabels(func_freq_noise.Word, rotation=45)\n",
    "plt.suptitle('Tf-Idf differences for the 3 classes',size=20)\n",
    "plt.show()"
   ]
  },
  {
   "cell_type": "markdown",
   "metadata": {},
   "source": [
    "Notice the difference between this plot and the previous one. The difference is in the way the tf-idf matrix is fit and transformed. In the previous section version, we fit the vectorizer to the whole dataframe (tf-idf values are calculated from the full bag of words); in this one, we fit it to a dataframe filtered by each category. We will study the performance of each in the next section."
   ]
  },
  {
   "cell_type": "code",
   "execution_count": 225,
   "metadata": {},
   "outputs": [],
   "source": [
    "# wrapping function\n",
    "def df_to_freq_df(df,target='target',text_col='text',\n",
    "                 fit='cat'):\n",
    "    bag_df = df_to_bag(df[text_col])\n",
    "    tfidf_list = df_to_tfidf(df,text_col=text_col,\n",
    "                            target=target,fit=fit)\n",
    "    bag_df = tfidf_cat(bag_df,tfidf_list)\n",
    "    target0 = str(df[target].unique()[0])\n",
    "    target1 = str(df[target].unique()[1])\n",
    "    col0 = 'tf-idf_'+target0\n",
    "    col1 = 'tf-idf_'+target1\n",
    "    freq_df = col_diff(bag_df,col0,\n",
    "                       col1)\n",
    "    return (freq_df,tfidf_list)"
   ]
  },
  {
   "cell_type": "code",
   "execution_count": 217,
   "metadata": {},
   "outputs": [
    {
     "data": {
      "text/html": [
       "<div>\n",
       "<style scoped>\n",
       "    .dataframe tbody tr th:only-of-type {\n",
       "        vertical-align: middle;\n",
       "    }\n",
       "\n",
       "    .dataframe tbody tr th {\n",
       "        vertical-align: top;\n",
       "    }\n",
       "\n",
       "    .dataframe thead th {\n",
       "        text-align: right;\n",
       "    }\n",
       "</style>\n",
       "<table border=\"1\" class=\"dataframe\">\n",
       "  <thead>\n",
       "    <tr style=\"text-align: right;\">\n",
       "      <th></th>\n",
       "      <th>Word</th>\n",
       "      <th>TotFreq</th>\n",
       "      <th>tf-idf</th>\n",
       "      <th>tf-idf_1</th>\n",
       "      <th>tf-idf_0</th>\n",
       "      <th>diff</th>\n",
       "      <th>abs_diff</th>\n",
       "    </tr>\n",
       "  </thead>\n",
       "  <tbody>\n",
       "    <tr>\n",
       "      <td>2469</td>\n",
       "      <td>classA3990</td>\n",
       "      <td>112</td>\n",
       "      <td>0.002052</td>\n",
       "      <td>0.000923</td>\n",
       "      <td>0.003492</td>\n",
       "      <td>-25.694313</td>\n",
       "      <td>25.694313</td>\n",
       "    </tr>\n",
       "    <tr>\n",
       "      <td>3351</td>\n",
       "      <td>classA3634</td>\n",
       "      <td>122</td>\n",
       "      <td>0.002147</td>\n",
       "      <td>0.001032</td>\n",
       "      <td>0.003576</td>\n",
       "      <td>-25.439023</td>\n",
       "      <td>25.439023</td>\n",
       "    </tr>\n",
       "    <tr>\n",
       "      <td>7205</td>\n",
       "      <td>classA3897</td>\n",
       "      <td>130</td>\n",
       "      <td>0.002282</td>\n",
       "      <td>0.001186</td>\n",
       "      <td>0.003710</td>\n",
       "      <td>-25.238741</td>\n",
       "      <td>25.238741</td>\n",
       "    </tr>\n",
       "    <tr>\n",
       "      <td>9522</td>\n",
       "      <td>classA4049</td>\n",
       "      <td>117</td>\n",
       "      <td>0.002082</td>\n",
       "      <td>0.000994</td>\n",
       "      <td>0.003480</td>\n",
       "      <td>-24.859073</td>\n",
       "      <td>24.859073</td>\n",
       "    </tr>\n",
       "    <tr>\n",
       "      <td>9327</td>\n",
       "      <td>classB3973</td>\n",
       "      <td>135</td>\n",
       "      <td>0.002349</td>\n",
       "      <td>0.003196</td>\n",
       "      <td>0.000715</td>\n",
       "      <td>24.812624</td>\n",
       "      <td>24.812624</td>\n",
       "    </tr>\n",
       "    <tr>\n",
       "      <td>3568</td>\n",
       "      <td>classA3684</td>\n",
       "      <td>111</td>\n",
       "      <td>0.002021</td>\n",
       "      <td>0.000947</td>\n",
       "      <td>0.003411</td>\n",
       "      <td>-24.639735</td>\n",
       "      <td>24.639735</td>\n",
       "    </tr>\n",
       "    <tr>\n",
       "      <td>9944</td>\n",
       "      <td>classA4041</td>\n",
       "      <td>119</td>\n",
       "      <td>0.002131</td>\n",
       "      <td>0.001060</td>\n",
       "      <td>0.003517</td>\n",
       "      <td>-24.574077</td>\n",
       "      <td>24.574077</td>\n",
       "    </tr>\n",
       "    <tr>\n",
       "      <td>8446</td>\n",
       "      <td>classB3756</td>\n",
       "      <td>147</td>\n",
       "      <td>0.002509</td>\n",
       "      <td>0.003354</td>\n",
       "      <td>0.000906</td>\n",
       "      <td>24.484569</td>\n",
       "      <td>24.484569</td>\n",
       "    </tr>\n",
       "    <tr>\n",
       "      <td>2227</td>\n",
       "      <td>classB4325</td>\n",
       "      <td>146</td>\n",
       "      <td>0.002529</td>\n",
       "      <td>0.003377</td>\n",
       "      <td>0.000931</td>\n",
       "      <td>24.468244</td>\n",
       "      <td>24.468244</td>\n",
       "    </tr>\n",
       "    <tr>\n",
       "      <td>7974</td>\n",
       "      <td>classB3960</td>\n",
       "      <td>146</td>\n",
       "      <td>0.002495</td>\n",
       "      <td>0.003341</td>\n",
       "      <td>0.000911</td>\n",
       "      <td>24.292312</td>\n",
       "      <td>24.292312</td>\n",
       "    </tr>\n",
       "  </tbody>\n",
       "</table>\n",
       "</div>"
      ],
      "text/plain": [
       "            Word  TotFreq    tf-idf  tf-idf_1  tf-idf_0       diff   abs_diff\n",
       "2469  classA3990      112  0.002052  0.000923  0.003492 -25.694313  25.694313\n",
       "3351  classA3634      122  0.002147  0.001032  0.003576 -25.439023  25.439023\n",
       "7205  classA3897      130  0.002282  0.001186  0.003710 -25.238741  25.238741\n",
       "9522  classA4049      117  0.002082  0.000994  0.003480 -24.859073  24.859073\n",
       "9327  classB3973      135  0.002349  0.003196  0.000715  24.812624  24.812624\n",
       "3568  classA3684      111  0.002021  0.000947  0.003411 -24.639735  24.639735\n",
       "9944  classA4041      119  0.002131  0.001060  0.003517 -24.574077  24.574077\n",
       "8446  classB3756      147  0.002509  0.003354  0.000906  24.484569  24.484569\n",
       "2227  classB4325      146  0.002529  0.003377  0.000931  24.468244  24.468244\n",
       "7974  classB3960      146  0.002495  0.003341  0.000911  24.292312  24.292312"
      ]
     },
     "execution_count": 217,
     "metadata": {},
     "output_type": "execute_result"
    }
   ],
   "source": [
    "wrap_df = df_to_freq_df(df)\n",
    "wrap_df[0].head(10)"
   ]
  },
  {
   "cell_type": "code",
   "execution_count": 218,
   "metadata": {},
   "outputs": [
    {
     "data": {
      "text/html": [
       "<div>\n",
       "<style scoped>\n",
       "    .dataframe tbody tr th:only-of-type {\n",
       "        vertical-align: middle;\n",
       "    }\n",
       "\n",
       "    .dataframe tbody tr th {\n",
       "        vertical-align: top;\n",
       "    }\n",
       "\n",
       "    .dataframe thead th {\n",
       "        text-align: right;\n",
       "    }\n",
       "</style>\n",
       "<table border=\"1\" class=\"dataframe\">\n",
       "  <thead>\n",
       "    <tr style=\"text-align: right;\">\n",
       "      <th></th>\n",
       "      <th>Word</th>\n",
       "      <th>TotFreq</th>\n",
       "      <th>tf-idf</th>\n",
       "      <th>tf-idf_1</th>\n",
       "      <th>tf-idf_0</th>\n",
       "      <th>diff</th>\n",
       "      <th>abs_diff</th>\n",
       "    </tr>\n",
       "  </thead>\n",
       "  <tbody>\n",
       "    <tr>\n",
       "      <td>7205</td>\n",
       "      <td>classA3897</td>\n",
       "      <td>130</td>\n",
       "      <td>0.002282</td>\n",
       "      <td>0.000966</td>\n",
       "      <td>0.004322</td>\n",
       "      <td>-33.552447</td>\n",
       "      <td>33.552447</td>\n",
       "    </tr>\n",
       "    <tr>\n",
       "      <td>3351</td>\n",
       "      <td>classA3634</td>\n",
       "      <td>122</td>\n",
       "      <td>0.002147</td>\n",
       "      <td>0.000832</td>\n",
       "      <td>0.004186</td>\n",
       "      <td>-33.545183</td>\n",
       "      <td>33.545183</td>\n",
       "    </tr>\n",
       "    <tr>\n",
       "      <td>2469</td>\n",
       "      <td>classA3990</td>\n",
       "      <td>112</td>\n",
       "      <td>0.002052</td>\n",
       "      <td>0.000738</td>\n",
       "      <td>0.004090</td>\n",
       "      <td>-33.519792</td>\n",
       "      <td>33.519792</td>\n",
       "    </tr>\n",
       "    <tr>\n",
       "      <td>9522</td>\n",
       "      <td>classA4049</td>\n",
       "      <td>117</td>\n",
       "      <td>0.002082</td>\n",
       "      <td>0.000798</td>\n",
       "      <td>0.004074</td>\n",
       "      <td>-32.760406</td>\n",
       "      <td>32.760406</td>\n",
       "    </tr>\n",
       "    <tr>\n",
       "      <td>9944</td>\n",
       "      <td>classA4041</td>\n",
       "      <td>119</td>\n",
       "      <td>0.002131</td>\n",
       "      <td>0.000857</td>\n",
       "      <td>0.004108</td>\n",
       "      <td>-32.507099</td>\n",
       "      <td>32.507099</td>\n",
       "    </tr>\n",
       "    <tr>\n",
       "      <td>957</td>\n",
       "      <td>classA3989</td>\n",
       "      <td>139</td>\n",
       "      <td>0.002369</td>\n",
       "      <td>0.001098</td>\n",
       "      <td>0.004340</td>\n",
       "      <td>-32.420633</td>\n",
       "      <td>32.420633</td>\n",
       "    </tr>\n",
       "    <tr>\n",
       "      <td>3568</td>\n",
       "      <td>classA3684</td>\n",
       "      <td>111</td>\n",
       "      <td>0.002021</td>\n",
       "      <td>0.000769</td>\n",
       "      <td>0.003964</td>\n",
       "      <td>-31.950291</td>\n",
       "      <td>31.950291</td>\n",
       "    </tr>\n",
       "    <tr>\n",
       "      <td>7030</td>\n",
       "      <td>classA4260</td>\n",
       "      <td>98</td>\n",
       "      <td>0.001815</td>\n",
       "      <td>0.000590</td>\n",
       "      <td>0.003715</td>\n",
       "      <td>-31.246026</td>\n",
       "      <td>31.246026</td>\n",
       "    </tr>\n",
       "    <tr>\n",
       "      <td>8752</td>\n",
       "      <td>classA3738</td>\n",
       "      <td>117</td>\n",
       "      <td>0.002088</td>\n",
       "      <td>0.000864</td>\n",
       "      <td>0.003986</td>\n",
       "      <td>-31.224022</td>\n",
       "      <td>31.224022</td>\n",
       "    </tr>\n",
       "    <tr>\n",
       "      <td>1889</td>\n",
       "      <td>classA3695</td>\n",
       "      <td>106</td>\n",
       "      <td>0.001926</td>\n",
       "      <td>0.000704</td>\n",
       "      <td>0.003821</td>\n",
       "      <td>-31.169268</td>\n",
       "      <td>31.169268</td>\n",
       "    </tr>\n",
       "  </tbody>\n",
       "</table>\n",
       "</div>"
      ],
      "text/plain": [
       "            Word  TotFreq    tf-idf  tf-idf_1  tf-idf_0       diff   abs_diff\n",
       "7205  classA3897      130  0.002282  0.000966  0.004322 -33.552447  33.552447\n",
       "3351  classA3634      122  0.002147  0.000832  0.004186 -33.545183  33.545183\n",
       "2469  classA3990      112  0.002052  0.000738  0.004090 -33.519792  33.519792\n",
       "9522  classA4049      117  0.002082  0.000798  0.004074 -32.760406  32.760406\n",
       "9944  classA4041      119  0.002131  0.000857  0.004108 -32.507099  32.507099\n",
       "957   classA3989      139  0.002369  0.001098  0.004340 -32.420633  32.420633\n",
       "3568  classA3684      111  0.002021  0.000769  0.003964 -31.950291  31.950291\n",
       "7030  classA4260       98  0.001815  0.000590  0.003715 -31.246026  31.246026\n",
       "8752  classA3738      117  0.002088  0.000864  0.003986 -31.224022  31.224022\n",
       "1889  classA3695      106  0.001926  0.000704  0.003821 -31.169268  31.169268"
      ]
     },
     "execution_count": 218,
     "metadata": {},
     "output_type": "execute_result"
    }
   ],
   "source": [
    "wrap2_df = df_to_freq_df(df,fit='df')\n",
    "wrap2_df[0].head(10)"
   ]
  },
  {
   "cell_type": "markdown",
   "metadata": {},
   "source": [
    "## Other Univariate Feature Selection Strategies"
   ]
  },
  {
   "cell_type": "markdown",
   "metadata": {},
   "source": [
    "### Comparison Metric"
   ]
  },
  {
   "cell_type": "markdown",
   "metadata": {},
   "source": [
    "To compare between the different strategies, we will use the following metric: the mean of the (ordered) indices corresponding to noise variables in the ranking. The higher this metric, the more the strategy separates noise from structure. We will start by calculating this metric for our tf-idf dataframes."
   ]
  },
  {
   "cell_type": "code",
   "execution_count": 432,
   "metadata": {},
   "outputs": [
    {
     "name": "stdout",
     "output_type": "stream",
     "text": [
      "First indices: [2731, 3507, 3570, 4228, 4292, 4312, 4348, 4419, 4455, 4509]\n",
      "Mean: 13632.84420289855\n",
      "Median: 13743.0\n"
     ]
    }
   ],
   "source": [
    "wrap_df_ord = wrap_df.reset_index(drop=True)\n",
    "tfidf_cat_ranks = []\n",
    "for i in wrap_df_ord.index:\n",
    "    word = wrap_df_ord.at[i,'Word']\n",
    "    if word.startswith('noise'):\n",
    "        tfidf_cat_ranks.append(i)\n",
    "\n",
    "print(f'First indices: {tfidf_cat_ranks[0:10]}')\n",
    "print(f'Mean: {np.mean(tfidf_cat_ranks)}')\n",
    "print(f'Median: {np.median(tfidf_cat_ranks)}')"
   ]
  },
  {
   "cell_type": "code",
   "execution_count": 342,
   "metadata": {},
   "outputs": [
    {
     "name": "stdout",
     "output_type": "stream",
     "text": [
      "First indices: [1379, 2221, 2958, 3230, 3390, 3449, 3511, 3539, 3652, 3842]\n",
      "Mean: 13405.361482720178\n",
      "Median: 13457.0\n"
     ]
    }
   ],
   "source": [
    "wrap2_df_ord = wrap2_df.reset_index(drop=True)\n",
    "tfidf_df_ranks = []\n",
    "for i in wrap2_df_ord.index:\n",
    "    word = wrap2_df_ord.at[i,'Word']\n",
    "    if word.startswith('noise'):\n",
    "        tfidf_df_ranks.append(i)\n",
    "\n",
    "print(f'First indices: {tfidf_df_ranks[0:10]}')\n",
    "print(f'Mean: {np.mean(tfidf_df_ranks)}')\n",
    "print(f'Median: {np.median(tfidf_df_ranks)}')"
   ]
  },
  {
   "cell_type": "code",
   "execution_count": 337,
   "metadata": {},
   "outputs": [
    {
     "data": {
      "image/png": "[encoded data removed]",
      "text/plain": [
       "<Figure size 1080x432 with 1 Axes>"
      ]
     },
     "metadata": {
      "needs_background": "light"
     },
     "output_type": "display_data"
    }
   ],
   "source": [
    "plt.figure(figsize=(15,6))\n",
    "y = tfidf_cat_ranks\n",
    "x = range(len(y))\n",
    "plt.plot(x,y,linewidth=2,label='tfidf-cat')\n",
    "y = tfidf_df_ranks\n",
    "x = range(len(y))\n",
    "plt.plot(x,y,linewidth=2,label='tfidf-df')\n",
    "plt.legend()\n",
    "plt.title('Metric Comparison')\n",
    "plt.show()"
   ]
  },
  {
   "cell_type": "code",
   "execution_count": 340,
   "metadata": {},
   "outputs": [
    {
     "data": {
      "image/png": "[encoded data removed]",
      "text/plain": [
       "<Figure size 1080x432 with 1 Axes>"
      ]
     },
     "metadata": {
      "needs_background": "light"
     },
     "output_type": "display_data"
    }
   ],
   "source": [
    "plt.figure(figsize=(15,6))\n",
    "y = tfidf_cat_ranks[0:150]\n",
    "x = range(len(y))\n",
    "plt.plot(x,y,linewidth=2,label='tfidf-cat')\n",
    "y = tfidf_df_ranks[0:150]\n",
    "x = range(len(y))\n",
    "plt.plot(x,y,linewidth=2,label='tfidf-df')\n",
    "plt.legend()\n",
    "plt.title('Metric Comparison: First Indices Detail')\n",
    "plt.show()"
   ]
  },
  {
   "cell_type": "markdown",
   "metadata": {},
   "source": [
    "We can see that the first strategy (fit='cat') selects relevant features better. "
   ]
  },
  {
   "cell_type": "markdown",
   "metadata": {},
   "source": [
    "### Mutual Information with Count Vectorizer"
   ]
  },
  {
   "cell_type": "code",
   "execution_count": 346,
   "metadata": {},
   "outputs": [],
   "source": [
    "from sklearn.feature_selection import mutual_info_classif,chi2\n",
    "from sklearn.feature_extraction.text import CountVectorizer"
   ]
  },
  {
   "cell_type": "code",
   "execution_count": 461,
   "metadata": {},
   "outputs": [
    {
     "data": {
      "text/html": [
       "<div>\n",
       "<style scoped>\n",
       "    .dataframe tbody tr th:only-of-type {\n",
       "        vertical-align: middle;\n",
       "    }\n",
       "\n",
       "    .dataframe tbody tr th {\n",
       "        vertical-align: top;\n",
       "    }\n",
       "\n",
       "    .dataframe thead th {\n",
       "        text-align: right;\n",
       "    }\n",
       "</style>\n",
       "<table border=\"1\" class=\"dataframe\">\n",
       "  <thead>\n",
       "    <tr style=\"text-align: right;\">\n",
       "      <th></th>\n",
       "      <th>target</th>\n",
       "      <th>text</th>\n",
       "    </tr>\n",
       "  </thead>\n",
       "  <tbody>\n",
       "    <tr>\n",
       "      <td>0</td>\n",
       "      <td>0</td>\n",
       "      <td>noise4570 noise3387 classB2461 noise3036 class...</td>\n",
       "    </tr>\n",
       "    <tr>\n",
       "      <td>1</td>\n",
       "      <td>1</td>\n",
       "      <td>classB5653 noise4405 noise2891 classB5318 nois...</td>\n",
       "    </tr>\n",
       "    <tr>\n",
       "      <td>2</td>\n",
       "      <td>1</td>\n",
       "      <td>noise1618 noise2452 classB4410 classB5246 nois...</td>\n",
       "    </tr>\n",
       "    <tr>\n",
       "      <td>3</td>\n",
       "      <td>1</td>\n",
       "      <td>classB3709 noise5230 noise4334 noise1937 noise...</td>\n",
       "    </tr>\n",
       "    <tr>\n",
       "      <td>4</td>\n",
       "      <td>1</td>\n",
       "      <td>noise3651 noise2258 noise3635 classB4354 noise...</td>\n",
       "    </tr>\n",
       "  </tbody>\n",
       "</table>\n",
       "</div>"
      ],
      "text/plain": [
       "   target                                               text\n",
       "0       0  noise4570 noise3387 classB2461 noise3036 class...\n",
       "1       1  classB5653 noise4405 noise2891 classB5318 nois...\n",
       "2       1  noise1618 noise2452 classB4410 classB5246 nois...\n",
       "3       1  classB3709 noise5230 noise4334 noise1937 noise...\n",
       "4       1  noise3651 noise2258 noise3635 classB4354 noise..."
      ]
     },
     "execution_count": 461,
     "metadata": {},
     "output_type": "execute_result"
    }
   ],
   "source": [
    "df_reset = df.reset_index(drop=True)\n",
    "df_reset.head()"
   ]
  },
  {
   "cell_type": "code",
   "execution_count": 423,
   "metadata": {},
   "outputs": [],
   "source": [
    "cv = CountVectorizer(lowercase=False)\n",
    "count_mat = cv.fit_transform(df_reset.text)"
   ]
  },
  {
   "cell_type": "code",
   "execution_count": 427,
   "metadata": {},
   "outputs": [
    {
     "data": {
      "text/plain": [
       "(2000, 20183)"
      ]
     },
     "execution_count": 427,
     "metadata": {},
     "output_type": "execute_result"
    }
   ],
   "source": [
    "count_mat.shape"
   ]
  },
  {
   "cell_type": "code",
   "execution_count": 424,
   "metadata": {},
   "outputs": [
    {
     "data": {
      "text/plain": [
       "'noise4570 noise3387 classB2461 noise3036 classB4340 noise4417 noise5334 classA3834 noise5717 noise3928 noise4617 classA3201 noise3035 noise6585 noise3345 classA5329 noise2696 noise2107 noise3445 classB3062 classA4552 noise4483 classA5439 noise4546 noise3727 classA3919 noise4277 noise5193 noise3346 noise7160 noise3568 noise3599 noise4738 classB3150 noise4742 classA3326 classA4720 classA3072 classB2536 noise3381 classB3476 classA4082 classA1330 noise4586 classB4600 classB3969 noise4665 classB3554 '"
      ]
     },
     "execution_count": 424,
     "metadata": {},
     "output_type": "execute_result"
    }
   ],
   "source": [
    "df_reset.at[0,'text'][0:500]"
   ]
  },
  {
   "cell_type": "code",
   "execution_count": 425,
   "metadata": {},
   "outputs": [],
   "source": [
    "# let's check the result\n",
    "# create a dictionary with word count for first instance\n",
    "string = df_mi.at[0,'text']\n",
    "word_count = {}\n",
    "for w in string.split():\n",
    "    if w in word_count.keys():\n",
    "        word_count[w] += 1\n",
    "    else:\n",
    "        word_count[w] = 1"
   ]
  },
  {
   "cell_type": "code",
   "execution_count": 430,
   "metadata": {},
   "outputs": [
    {
     "name": "stdout",
     "output_type": "stream",
     "text": [
      "Check OK!\n"
     ]
    }
   ],
   "source": [
    "# check the results with my fit_transform matrix\n",
    "for w in word_count.keys():\n",
    "    col = cv.vocabulary_[w]\n",
    "    cv_value = count_mat.toarray()[0,col]\n",
    "    my_value = word_count[w]\n",
    "    if cv_value != my_value:\n",
    "        print(f'Error in word {w}')\n",
    "else:\n",
    "    print('Check OK!')"
   ]
  },
  {
   "cell_type": "code",
   "execution_count": 431,
   "metadata": {},
   "outputs": [
    {
     "data": {
      "text/plain": [
       "array([4.68440712e-04, 4.97903050e-04, 9.37269869e-04, ...,\n",
       "       2.48870826e-04, 7.47096885e-04, 2.39142325e-05])"
      ]
     },
     "execution_count": 431,
     "metadata": {},
     "output_type": "execute_result"
    }
   ],
   "source": [
    "mi_count = mutual_info_classif(count_mat,y)\n",
    "mi_count"
   ]
  },
  {
   "cell_type": "code",
   "execution_count": 433,
   "metadata": {},
   "outputs": [
    {
     "data": {
      "text/plain": [
       "(20183,)"
      ]
     },
     "execution_count": 433,
     "metadata": {},
     "output_type": "execute_result"
    }
   ],
   "source": [
    "mi_count.shape"
   ]
  },
  {
   "cell_type": "code",
   "execution_count": 456,
   "metadata": {},
   "outputs": [],
   "source": [
    "# create df for this classifier\n",
    "mi_count_df = pd.DataFrame()\n",
    "word_list = cv.get_feature_names()\n",
    "for i,w in enumerate(word_list):\n",
    "    mi_count_df.at[i,'Word'] = w\n",
    "    index = cv.vocabulary_[w]\n",
    "    mi_count_df.at[i,'mi'] = mi_count[index]"
   ]
  },
  {
   "cell_type": "code",
   "execution_count": 457,
   "metadata": {},
   "outputs": [
    {
     "data": {
      "text/html": [
       "<div>\n",
       "<style scoped>\n",
       "    .dataframe tbody tr th:only-of-type {\n",
       "        vertical-align: middle;\n",
       "    }\n",
       "\n",
       "    .dataframe tbody tr th {\n",
       "        vertical-align: top;\n",
       "    }\n",
       "\n",
       "    .dataframe thead th {\n",
       "        text-align: right;\n",
       "    }\n",
       "</style>\n",
       "<table border=\"1\" class=\"dataframe\">\n",
       "  <thead>\n",
       "    <tr style=\"text-align: right;\">\n",
       "      <th></th>\n",
       "      <th>Word</th>\n",
       "      <th>mi</th>\n",
       "    </tr>\n",
       "  </thead>\n",
       "  <tbody>\n",
       "    <tr>\n",
       "      <td>0</td>\n",
       "      <td>classA1000</td>\n",
       "      <td>0.000468</td>\n",
       "    </tr>\n",
       "    <tr>\n",
       "      <td>1</td>\n",
       "      <td>classA1001</td>\n",
       "      <td>0.000498</td>\n",
       "    </tr>\n",
       "    <tr>\n",
       "      <td>2</td>\n",
       "      <td>classA1002</td>\n",
       "      <td>0.000937</td>\n",
       "    </tr>\n",
       "    <tr>\n",
       "      <td>3</td>\n",
       "      <td>classA1004</td>\n",
       "      <td>0.000249</td>\n",
       "    </tr>\n",
       "    <tr>\n",
       "      <td>4</td>\n",
       "      <td>classA1005</td>\n",
       "      <td>0.001406</td>\n",
       "    </tr>\n",
       "  </tbody>\n",
       "</table>\n",
       "</div>"
      ],
      "text/plain": [
       "         Word        mi\n",
       "0  classA1000  0.000468\n",
       "1  classA1001  0.000498\n",
       "2  classA1002  0.000937\n",
       "3  classA1004  0.000249\n",
       "4  classA1005  0.001406"
      ]
     },
     "execution_count": 457,
     "metadata": {},
     "output_type": "execute_result"
    }
   ],
   "source": [
    "mi_count_df.head()"
   ]
  },
  {
   "cell_type": "code",
   "execution_count": 468,
   "metadata": {},
   "outputs": [
    {
     "data": {
      "text/html": [
       "<div>\n",
       "<style scoped>\n",
       "    .dataframe tbody tr th:only-of-type {\n",
       "        vertical-align: middle;\n",
       "    }\n",
       "\n",
       "    .dataframe tbody tr th {\n",
       "        vertical-align: top;\n",
       "    }\n",
       "\n",
       "    .dataframe thead th {\n",
       "        text-align: right;\n",
       "    }\n",
       "</style>\n",
       "<table border=\"1\" class=\"dataframe\">\n",
       "  <thead>\n",
       "    <tr style=\"text-align: right;\">\n",
       "      <th></th>\n",
       "      <th>Word</th>\n",
       "      <th>mi</th>\n",
       "    </tr>\n",
       "  </thead>\n",
       "  <tbody>\n",
       "    <tr>\n",
       "      <td>0</td>\n",
       "      <td>classB5205</td>\n",
       "      <td>0.005922</td>\n",
       "    </tr>\n",
       "    <tr>\n",
       "      <td>1</td>\n",
       "      <td>noise4193</td>\n",
       "      <td>0.004684</td>\n",
       "    </tr>\n",
       "    <tr>\n",
       "      <td>2</td>\n",
       "      <td>noise2970</td>\n",
       "      <td>0.004667</td>\n",
       "    </tr>\n",
       "    <tr>\n",
       "      <td>3</td>\n",
       "      <td>noise5014</td>\n",
       "      <td>0.004062</td>\n",
       "    </tr>\n",
       "    <tr>\n",
       "      <td>4</td>\n",
       "      <td>classA6033</td>\n",
       "      <td>0.004001</td>\n",
       "    </tr>\n",
       "  </tbody>\n",
       "</table>\n",
       "</div>"
      ],
      "text/plain": [
       "         Word        mi\n",
       "0  classB5205  0.005922\n",
       "1   noise4193  0.004684\n",
       "2   noise2970  0.004667\n",
       "3   noise5014  0.004062\n",
       "4  classA6033  0.004001"
      ]
     },
     "execution_count": 468,
     "metadata": {},
     "output_type": "execute_result"
    }
   ],
   "source": [
    "mi_count_df = mi_count_df.sort_values(by='mi',ascending=False)\n",
    "mi_count_df = mi_count_df.reset_index(drop=True)\n",
    "mi_count_df.head()"
   ]
  },
  {
   "cell_type": "code",
   "execution_count": 472,
   "metadata": {},
   "outputs": [],
   "source": [
    "mi_count_ranks = []\n",
    "for i in mi_count_df.index:\n",
    "    word = mi_count_df.at[i,'Word']\n",
    "    if word.startswith('noise'):\n",
    "        mi_count_ranks.append(i)"
   ]
  },
  {
   "cell_type": "code",
   "execution_count": 473,
   "metadata": {},
   "outputs": [
    {
     "name": "stdout",
     "output_type": "stream",
     "text": [
      "First indices: [1, 2, 3, 6, 9, 13, 15, 16, 17, 22]\n",
      "Mean: 9371.203177257525\n",
      "Median: 9075.5\n"
     ]
    }
   ],
   "source": [
    "print(f'First indices: {mi_count_ranks[0:10]}')\n",
    "print(f'Mean: {np.mean(mi_count_ranks)}')\n",
    "print(f'Median: {np.median(mi_count_ranks)}')"
   ]
  },
  {
   "cell_type": "markdown",
   "metadata": {},
   "source": [
    "### Mutual Information with Tf-idf "
   ]
  },
  {
   "cell_type": "code",
   "execution_count": 462,
   "metadata": {},
   "outputs": [],
   "source": [
    "from sklearn.feature_extraction.text import TfidfVectorizer\n",
    "tf = TfidfVectorizer(lowercase=False)\n",
    "tf_mat = tf.fit_transform(df_reset.text)"
   ]
  },
  {
   "cell_type": "code",
   "execution_count": 463,
   "metadata": {},
   "outputs": [
    {
     "data": {
      "text/plain": [
       "array([0.00046844, 0.0004979 , 0.00093727, ..., 0.00024887, 0.0007471 ,\n",
       "       0.00071706])"
      ]
     },
     "execution_count": 463,
     "metadata": {},
     "output_type": "execute_result"
    }
   ],
   "source": [
    "mi_tf = mutual_info_classif(tf_mat,y)\n",
    "mi_tf"
   ]
  },
  {
   "cell_type": "code",
   "execution_count": 481,
   "metadata": {},
   "outputs": [],
   "source": [
    "# create df for this classifier\n",
    "mi_tf_df = pd.DataFrame()\n",
    "word_list = cv.get_feature_names()\n",
    "\n",
    "for i,w in enumerate(word_list):\n",
    "    mi_tf_df.at[i,'Word'] = w\n",
    "    index = cv.vocabulary_[w]\n",
    "    mi_tf_df.at[i,'mi'] = mi_tf[index]\n",
    "    \n",
    "mi_tf_df = mi_tf_df.sort_values(by='mi',ascending=False)\n",
    "mi_tf_df = mi_tf_df.reset_index(drop=True)"
   ]
  },
  {
   "cell_type": "code",
   "execution_count": 482,
   "metadata": {},
   "outputs": [],
   "source": [
    "mi_tf_ranks = []\n",
    "for i in mi_tf_df.index:\n",
    "    word = mi_tf_df.at[i,'Word']\n",
    "    if word.startswith('noise'):\n",
    "        mi_tf_ranks.append(i)"
   ]
  },
  {
   "cell_type": "code",
   "execution_count": 483,
   "metadata": {},
   "outputs": [
    {
     "name": "stdout",
     "output_type": "stream",
     "text": [
      "First indices: [0, 1, 2, 3, 4, 5, 6, 7, 8, 9]\n",
      "Mean: 8213.699554069119\n",
      "Median: 7515.5\n"
     ]
    }
   ],
   "source": [
    "print(f'First indices: {mi_tf_ranks[0:10]}')\n",
    "print(f'Mean: {np.mean(mi_tf_ranks)}')\n",
    "print(f'Median: {np.median(mi_tf_ranks)}')"
   ]
  },
  {
   "cell_type": "code",
   "execution_count": 485,
   "metadata": {},
   "outputs": [
    {
     "data": {
      "text/html": [
       "<div>\n",
       "<style scoped>\n",
       "    .dataframe tbody tr th:only-of-type {\n",
       "        vertical-align: middle;\n",
       "    }\n",
       "\n",
       "    .dataframe tbody tr th {\n",
       "        vertical-align: top;\n",
       "    }\n",
       "\n",
       "    .dataframe thead th {\n",
       "        text-align: right;\n",
       "    }\n",
       "</style>\n",
       "<table border=\"1\" class=\"dataframe\">\n",
       "  <thead>\n",
       "    <tr style=\"text-align: right;\">\n",
       "      <th></th>\n",
       "      <th>Word</th>\n",
       "      <th>mi</th>\n",
       "    </tr>\n",
       "  </thead>\n",
       "  <tbody>\n",
       "    <tr>\n",
       "      <td>0</td>\n",
       "      <td>noise4179</td>\n",
       "      <td>0.127798</td>\n",
       "    </tr>\n",
       "    <tr>\n",
       "      <td>1</td>\n",
       "      <td>noise3843</td>\n",
       "      <td>0.126896</td>\n",
       "    </tr>\n",
       "    <tr>\n",
       "      <td>2</td>\n",
       "      <td>noise4221</td>\n",
       "      <td>0.126392</td>\n",
       "    </tr>\n",
       "    <tr>\n",
       "      <td>3</td>\n",
       "      <td>noise3855</td>\n",
       "      <td>0.125158</td>\n",
       "    </tr>\n",
       "    <tr>\n",
       "      <td>4</td>\n",
       "      <td>noise3882</td>\n",
       "      <td>0.124232</td>\n",
       "    </tr>\n",
       "    <tr>\n",
       "      <td>5</td>\n",
       "      <td>noise3914</td>\n",
       "      <td>0.123973</td>\n",
       "    </tr>\n",
       "    <tr>\n",
       "      <td>6</td>\n",
       "      <td>noise4043</td>\n",
       "      <td>0.123946</td>\n",
       "    </tr>\n",
       "    <tr>\n",
       "      <td>7</td>\n",
       "      <td>noise3864</td>\n",
       "      <td>0.123820</td>\n",
       "    </tr>\n",
       "    <tr>\n",
       "      <td>8</td>\n",
       "      <td>noise4012</td>\n",
       "      <td>0.123380</td>\n",
       "    </tr>\n",
       "    <tr>\n",
       "      <td>9</td>\n",
       "      <td>noise4135</td>\n",
       "      <td>0.123325</td>\n",
       "    </tr>\n",
       "  </tbody>\n",
       "</table>\n",
       "</div>"
      ],
      "text/plain": [
       "        Word        mi\n",
       "0  noise4179  0.127798\n",
       "1  noise3843  0.126896\n",
       "2  noise4221  0.126392\n",
       "3  noise3855  0.125158\n",
       "4  noise3882  0.124232\n",
       "5  noise3914  0.123973\n",
       "6  noise4043  0.123946\n",
       "7  noise3864  0.123820\n",
       "8  noise4012  0.123380\n",
       "9  noise4135  0.123325"
      ]
     },
     "execution_count": 485,
     "metadata": {},
     "output_type": "execute_result"
    }
   ],
   "source": [
    "mi_tf_df.head(10)"
   ]
  },
  {
   "cell_type": "markdown",
   "metadata": {},
   "source": [
    "### Chi2"
   ]
  },
  {
   "cell_type": "markdown",
   "metadata": {},
   "source": [
    "## Cross Validation Strategy for Feature Selection"
   ]
  },
  {
   "cell_type": "markdown",
   "metadata": {},
   "source": [
    "## Recursive Feature Selection"
   ]
  },
  {
   "cell_type": "markdown",
   "metadata": {},
   "source": [
    "## Boruta Algorithm"
   ]
  },
  {
   "cell_type": "markdown",
   "metadata": {},
   "source": [
    "## Dimensionality Reduction: Principal Components Analysis"
   ]
  },
  {
   "cell_type": "markdown",
   "metadata": {},
   "source": [
    "## Discarded ideas"
   ]
  },
  {
   "cell_type": "markdown",
   "metadata": {},
   "source": [
    "### Inefficient number generation procedure"
   ]
  },
  {
   "cell_type": "code",
   "execution_count": 47,
   "metadata": {},
   "outputs": [
    {
     "data": {
      "text/plain": [
       "array([0.00101747, 0.00203629, 0.00332652, 0.00494264, 0.00893453,\n",
       "       0.0146649 , 0.02045928, 0.02652776, 0.03275138, 0.0391551 ,\n",
       "       0.04614253, 0.05344787, 0.0609925 , 0.06877552, 0.07746684,\n",
       "       0.0882052 , 0.0998138 , 0.11157531, 0.1235842 , 0.13625882,\n",
       "       0.14967632, 0.16431062, 0.18099503, 0.19801475, 0.21715551,\n",
       "       0.23791713, 0.25989532, 0.28227935, 0.3058171 , 0.33047752,\n",
       "       0.35564493, 0.3815748 , 0.41170434, 0.44191882, 0.47302223,\n",
       "       0.50494238, 0.53692546, 0.56901156, 0.60194918, 0.63523436,\n",
       "       0.66897268, 0.70314394, 0.73809102, 0.77305116, 0.80870005,\n",
       "       0.84540346, 0.88276459, 0.92098451, 0.96021495, 1.        ])"
      ]
     },
     "execution_count": 47,
     "metadata": {},
     "output_type": "execute_result"
    }
   ],
   "source": [
    "# generate random integers\n",
    "probas_noise = np.random.random(50)\n",
    "probas_noise = probas_noise / np.sum(probas_noise) # normalize\n",
    "probas_noise = np.sort(probas_noise) # probability distribution\n",
    "probas_noise = np.cumsum(probas_noise) # cumulative\n",
    "probas_noise"
   ]
  },
  {
   "cell_type": "code",
   "execution_count": 64,
   "metadata": {},
   "outputs": [
    {
     "name": "stdout",
     "output_type": "stream",
     "text": [
      "['noise0', 'noise1', 'noise2', 'noise3', 'noise4', 'noise5', 'noise6', 'noise7', 'noise8', 'noise9', 'noise10', 'noise11', 'noise12', 'noise13', 'noise14', 'noise15', 'noise16', 'noise17', 'noise18', 'noise19', 'noise20', 'noise21', 'noise22', 'noise23', 'noise24', 'noise25', 'noise26', 'noise27', 'noise28', 'noise29', 'noise30', 'noise31', 'noise32', 'noise33', 'noise34', 'noise35', 'noise36', 'noise37', 'noise38', 'noise39', 'noise40', 'noise41', 'noise42', 'noise43', 'noise44', 'noise45', 'noise46', 'noise47', 'noise48', 'noise49']\n"
     ]
    }
   ],
   "source": [
    "# now I need a list of words\n",
    "words_noise = ['noise'+str(i) for i in range(50)] # words in this class\n",
    "print(words_noise)"
   ]
  },
  {
   "cell_type": "code",
   "execution_count": 91,
   "metadata": {},
   "outputs": [],
   "source": [
    "# function to return index of random variable\n",
    "# based on probability\n",
    "def proba_to_index(proba,proba_list):\n",
    "    index = 0\n",
    "    cum_proba = np.cumsum(proba_list)\n",
    "    for i in range(len(cum_proba)):\n",
    "        if proba < cum_proba[i]:\n",
    "            index = i\n",
    "            break\n",
    "    return index"
   ]
  },
  {
   "cell_type": "code",
   "execution_count": 73,
   "metadata": {},
   "outputs": [],
   "source": [
    "# function to generate random ocurrences of words\n",
    "# based on an (cumulative) probability\n",
    "def random_word(proba,word_list,proba_list):\n",
    "    word_proba = np.random.random()\n",
    "    index = 0\n",
    "    index = proba_to_index(word_proba,proba_list)\n",
    "    word = word_list[index]\n",
    "    return word"
   ]
  },
  {
   "cell_type": "code",
   "execution_count": 74,
   "metadata": {},
   "outputs": [
    {
     "data": {
      "text/plain": [
       "'noise42'"
      ]
     },
     "execution_count": 74,
     "metadata": {},
     "output_type": "execute_result"
    }
   ],
   "source": [
    "# example\n",
    "random_word(np.random.random(),words_noise,probas_noise)"
   ]
  },
  {
   "cell_type": "markdown",
   "metadata": {},
   "source": [
    "OK, we are good to go. Let's automate that with functions."
   ]
  },
  {
   "cell_type": "code",
   "execution_count": 75,
   "metadata": {},
   "outputs": [],
   "source": [
    "def cum_proba(proba_list):\n",
    "    probas = np.array(proba_list)\n",
    "    probas = probas / np.sum(probas) # normalize\n",
    "    probas = np.sort(probas) # probability distribution\n",
    "    probas = np.cumsum(probas) # cumulative\n",
    "    return probas"
   ]
  },
  {
   "cell_type": "code",
   "execution_count": 76,
   "metadata": {},
   "outputs": [],
   "source": [
    "def generate_proba_dist(size):\n",
    "    probas = np.random.random(50)\n",
    "    probas = cum_proba(probas)\n",
    "    return probas"
   ]
  },
  {
   "cell_type": "code",
   "execution_count": 77,
   "metadata": {},
   "outputs": [],
   "source": [
    "def generate_word_list(size,name):\n",
    "    word_list = [str(name)+str(i) for i in range(size)]\n",
    "    return word_list"
   ]
  },
  {
   "cell_type": "code",
   "execution_count": 99,
   "metadata": {},
   "outputs": [],
   "source": [
    "# create class A and B words and probas\n",
    "probas_classA = generate_proba_dist(50)\n",
    "words_classA = generate_word_list(50,'classA')\n",
    "probas_classB = generate_proba_dist(50)\n",
    "words_classB = generate_word_list(50,'classB')"
   ]
  },
  {
   "cell_type": "markdown",
   "metadata": {},
   "source": [
    "We have our probability distributions and our word lists in order. Now we will generate random texts, with the following criteria: noise type words will have the same probability to appear in any of the class A or class B texts. classA type words will be unlikely to appear to appear in classB texts, and likely to appear in class A texts. \n",
    "\n",
    "To start, we will use the following values: 60% noise words, 30% own class words, 10% other class words. The text length will also be randomized."
   ]
  },
  {
   "cell_type": "code",
   "execution_count": 94,
   "metadata": {},
   "outputs": [
    {
     "data": {
      "text/plain": [
       "2"
      ]
     },
     "execution_count": 94,
     "metadata": {},
     "output_type": "execute_result"
    }
   ],
   "source": [
    "proba_prueba = [0.6,0.3,0.1]\n",
    "proba_to_index(0.95,proba_prueba)"
   ]
  },
  {
   "cell_type": "code",
   "execution_count": 120,
   "metadata": {},
   "outputs": [],
   "source": [
    "def generate_text(noise_vars,own_vars,\n",
    "                  other_vars,percents,\n",
    "                 min_len,max_len):\n",
    "    '''\n",
    "    Each argument is a tuple containing word_list([0]),\n",
    "    cumulative probability distribution ([1])\n",
    "    percents is a list with the percentage of each in the text\n",
    "    '''\n",
    "    length = np.random.randint(min_len,max_len)\n",
    "    text = ''\n",
    "    vars_list = [noise_vars,own_vars,other_vars]\n",
    "    for i in range(length):\n",
    "        class_proba = np.random.random()\n",
    "        index = proba_to_index(class_proba,percents)\n",
    "        word_list = vars_list[index][0]\n",
    "        proba_list = vars_list[index][1]\n",
    "        word_proba = np.random.random()\n",
    "        word = random_word(word_proba,word_list,proba_list)\n",
    "        text += word + ' '\n",
    "    return text"
   ]
  },
  {
   "cell_type": "markdown",
   "metadata": {},
   "source": [
    "Let's generate class A text."
   ]
  },
  {
   "cell_type": "code",
   "execution_count": 128,
   "metadata": {},
   "outputs": [],
   "source": [
    "# variables for function\n",
    "noise_vars = [words_noise,probas_noise]\n",
    "classA_vars = [words_classA,probas_classA]\n",
    "classB_vars = [words_classB,probas_classB]\n",
    "percentsA = [0.6,0.3,0.1]\n",
    "percentsA = [0.6,0.1,0.3]"
   ]
  },
  {
   "cell_type": "code",
   "execution_count": 122,
   "metadata": {},
   "outputs": [
    {
     "data": {
      "text/plain": [
       "'classA15 noise11 noise19 classB14 noise18 classA14 noise18 classA16 noise12 noise16 noise14 noise18 noise18 noise14 classA13 classA13 classA11 noise18 noise15 classB16 noise17 noise9 noise16 noise10 classA14 classA15 noise11 noise14 noise17 classA15 classA9 noise17 noise8 noise19 noise14 classB13 classB15 classA15 noise18 noise19 noise10 noise17 noise12 classA16 noise19 noise8 noise19 noise17 noise9 noise18 noise8 classB8 noise16 noise14 classA8 noise17 classA14 noise18 classA14 noise14 noise15 noise17 classA13 noise15 noise17 classB16 noise8 classA15 noise11 noise19 noise17 noise14 noise17 classB15 classB10 noise17 noise13 classA13 classB11 classB7 classB12 classA16 noise19 noise18 noise9 noise14 noise19 noise18 noise16 noise17 noise18 classA8 noise12 classB16 classA14 noise17 noise15 classA12 classA9 noise14 noise12 classA15 classA14 noise10 classA15 classB16 noise19 noise11 classB14 noise1 noise16 classB15 noise14 noise10 classA14 noise4 noise8 noise13 noise18 noise10 noise18 noise1'"
      ]
     },
     "execution_count": 122,
     "metadata": {},
     "output_type": "execute_result"
    }
   ],
   "source": [
    "# example class A text\n",
    "sample_text = generate_text(noise_vars,classA_vars,\n",
    "                            classB_vars,percentsA,\n",
    "                           500,600)\n",
    "sample_text[0:1000]"
   ]
  },
  {
   "cell_type": "code",
   "execution_count": 123,
   "metadata": {},
   "outputs": [
    {
     "name": "stdout",
     "output_type": "stream",
     "text": [
      "Counts\n",
      "Noise: 357\n",
      "A: 157\n",
      "B: 52\n"
     ]
    }
   ],
   "source": [
    "# let's analyze it briefly\n",
    "word_list = sample_text.split()\n",
    "noise_count,A_count,B_count = 0,0,0\n",
    "for w in word_list:\n",
    "    if w.startswith('noise'):\n",
    "        noise_count += 1\n",
    "    elif w.startswith('classA'):\n",
    "        A_count += 1\n",
    "    else:\n",
    "        B_count += 1\n",
    "print(f'Counts\\nNoise: {noise_count}\\nA: {A_count}\\nB: {B_count}')"
   ]
  }
 ],
 "metadata": {
  "kernelspec": {
   "display_name": "Python 3",
   "language": "python",
   "name": "python3"
  },
  "language_info": {
   "codemirror_mode": {
    "name": "ipython",
    "version": 3
   },
   "file_extension": ".py",
   "mimetype": "text/x-python",
   "name": "python",
   "nbconvert_exporter": "python",
   "pygments_lexer": "ipython3",
   "version": "3.7.4"
  }
 },
 "nbformat": 4,
 "nbformat_minor": 2
}
